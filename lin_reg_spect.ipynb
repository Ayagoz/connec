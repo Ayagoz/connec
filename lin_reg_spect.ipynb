{
 "cells": [
  {
   "cell_type": "code",
   "execution_count": 1,
   "metadata": {},
   "outputs": [
    {
     "name": "stdout",
     "output_type": "stream",
     "text": [
      "Connectomes:  (789, 2, 68, 68)\n",
      "Thinkness:  (789, 2, 163842)\n",
      "Log Jacob:  (789, 2, 163842)\n",
      "Unique Labels:  (789, 2, 163842)\n",
      "Mean Labels:  (2, 163842)\n",
      "Mean Area eq:  (2, 163842)\n",
      "Meshes coordinates shape:  (20484, 3)\n",
      "Number of triangles of meshes:  (40960, 3)\n"
     ]
    }
   ],
   "source": [
    "import numpy as np\n",
    "import scipy as sc \n",
    "import pandas as pd \n",
    "from scipy.integrate import quad\n",
    "from scipy.spatial.distance import squareform\n",
    "from numpy import random\n",
    "import networkx as nx\n",
    "import pickle\n",
    "\n",
    "from data_load import load_meshes_coor_tria, load_data\n",
    "\n",
    "import os\n",
    "from sklearn.linear_model import ElasticNet\n",
    "from sklearn.metrics import r2_score, mean_squared_error\n",
    "from sklearn.model_selection import StratifiedShuffleSplit, ShuffleSplit\n",
    "\n",
    "\n",
    "import matplotlib.pyplot as plt\n",
    "%matplotlib inline\n",
    "\n",
    "path_data  = '/cobrain/groups/ml_group/data/HCP/HCP/'\n",
    "connec , thinkness, log_jac, unique_labels, labels, mean_area_eq, idx_subj_connec = load_data(path_data)\n",
    "path_tria = '/cobrain/groups/ml_group/data/HCP/HCP/'\n",
    "name = \"_200_mean_IC5.m\"\n",
    "coord, tria = load_meshes_coor_tria(path_tria, name)"
   ]
  },
  {
   "cell_type": "code",
   "execution_count": 2,
   "metadata": {
    "collapsed": true
   },
   "outputs": [],
   "source": [
    "# with open(path_data + \"not_normed_connectomes\", 'rb') as f:\n",
    "#     Y = pickle.load(f)\n",
    "Y = connec[:,0,:,:]\n"
   ]
  },
  {
   "cell_type": "code",
   "execution_count": 57,
   "metadata": {},
   "outputs": [
    {
     "data": {
      "text/plain": [
       "(789, 327684)"
      ]
     },
     "execution_count": 57,
     "metadata": {},
     "output_type": "execute_result"
    }
   ],
   "source": [
    "mesh_areaarea.shape"
   ]
  },
  {
   "cell_type": "code",
   "execution_count": 56,
   "metadata": {},
   "outputs": [
    {
     "ename": "ValueError",
     "evalue": "operands could not be broadcast together with shapes (2,163842) (789,327684) ",
     "output_type": "error",
     "traceback": [
      "\u001b[0;31m-----------------------------------------------------------------------\u001b[0m",
      "\u001b[0;31mValueError\u001b[0m                            Traceback (most recent call last)",
      "\u001b[0;32m<ipython-input-56-8beb9726c8c7>\u001b[0m in \u001b[0;36m<module>\u001b[0;34m()\u001b[0m\n\u001b[0;32m----> 1\u001b[0;31m \u001b[0mmesh_area\u001b[0m \u001b[0;34m=\u001b[0m \u001b[0mmean_area_eq\u001b[0m \u001b[0;34m*\u001b[0m \u001b[0mnp\u001b[0m\u001b[0;34m.\u001b[0m\u001b[0mexp\u001b[0m\u001b[0;34m(\u001b[0m\u001b[0mlog_jac\u001b[0m\u001b[0;34m)\u001b[0m\u001b[0;34m\u001b[0m\u001b[0m\n\u001b[0m\u001b[1;32m      2\u001b[0m \u001b[0mmesh_area\u001b[0m\u001b[0;34m.\u001b[0m\u001b[0mshape\u001b[0m\u001b[0;34m\u001b[0m\u001b[0m\n",
      "\u001b[0;31mValueError\u001b[0m: operands could not be broadcast together with shapes (2,163842) (789,327684) "
     ]
    }
   ],
   "source": [
    "mesh_area = mean_area_eq * np.exp(log_jac)\n",
    "mesh_area.shape"
   ]
  },
  {
   "cell_type": "code",
   "execution_count": 4,
   "metadata": {},
   "outputs": [
    {
     "data": {
      "text/plain": [
       "((789, 20484), (789, 20484), (789, 20484), (20484,))"
      ]
     },
     "execution_count": 4,
     "metadata": {},
     "output_type": "execute_result"
    }
   ],
   "source": [
    "m = len(coord)//2\n",
    "new_thickness = np.concatenate([thinkness[:,0,:m], thinkness[:,1,:m]], axis = -1)\n",
    "\n",
    "new_log_jac = np.concatenate([log_jac[:,0,:m], log_jac[:,1,:m]], axis = -1)\n",
    "\n",
    "new_mesh_area = np.concatenate([mesh_area[:,0,:m], mesh_area[:,1,:m]], axis = -1)\n",
    "\n",
    "new_labels = np.concatenate([labels[0,:m], labels[1,:m]])\n",
    "new_thickness.shape, new_log_jac.shape, new_mesh_area.shape, new_labels.shape"
   ]
  },
  {
   "cell_type": "code",
   "execution_count": 6,
   "metadata": {
    "collapsed": true
   },
   "outputs": [],
   "source": [
    "thinkness = thinkness.reshape(789,-1)\n",
    "log_jac = log_jac.reshape(789,-1)\n",
    "mesh_area = mesh_area.reshape(789,-1)\n",
    "labels = labels.reshape(-1)\n",
    "idx = np.where(labels != 0)[0]\n",
    "X1 = thinkness[:,idx]\n",
    "X2 = log_jac[:,idx] \n",
    "X3 = mesh_area[:,idx]"
   ]
  },
  {
   "cell_type": "code",
   "execution_count": 7,
   "metadata": {
    "collapsed": true
   },
   "outputs": [],
   "source": [
    "new_idx = np.where(new_labels != 0)[0]\n",
    "new_X1 = new_thickness[:,new_idx]\n",
    "new_X2 = new_log_jac[:,new_idx] \n",
    "new_X3 = new_mesh_area[:,new_idx]"
   ]
  },
  {
   "cell_type": "code",
   "execution_count": 28,
   "metadata": {
    "collapsed": true
   },
   "outputs": [],
   "source": [
    "def eigvals(Y):\n",
    "    T = np.array([np.diag(y.sum(axis = -1)) - y for y in Y])\n",
    "    E = np.array([sorted(np.linalg.eigvals(t))[1:] for t in T])\n",
    "    return np.real(E)"
   ]
  },
  {
   "cell_type": "code",
   "execution_count": 29,
   "metadata": {},
   "outputs": [
    {
     "data": {
      "text/plain": [
       "(789, 68, 68)"
      ]
     },
     "execution_count": 29,
     "metadata": {},
     "output_type": "execute_result"
    }
   ],
   "source": [
    "Y.shape"
   ]
  },
  {
   "cell_type": "code",
   "execution_count": 30,
   "metadata": {
    "collapsed": true
   },
   "outputs": [],
   "source": [
    "Eig = eigvals(Y)"
   ]
  },
  {
   "cell_type": "code",
   "execution_count": 31,
   "metadata": {},
   "outputs": [
    {
     "data": {
      "text/plain": [
       "(789, 67)"
      ]
     },
     "execution_count": 31,
     "metadata": {},
     "output_type": "execute_result"
    }
   ],
   "source": [
    "Eig.shape"
   ]
  },
  {
   "cell_type": "code",
   "execution_count": 32,
   "metadata": {
    "collapsed": true
   },
   "outputs": [],
   "source": [
    "lin_reg = ElasticNet()\n",
    "ss = ShuffleSplit(n_splits=3, test_size=0.2)"
   ]
  },
  {
   "cell_type": "code",
   "execution_count": 13,
   "metadata": {},
   "outputs": [
    {
     "data": {
      "text/plain": [
       "(789, 18904)"
      ]
     },
     "execution_count": 13,
     "metadata": {},
     "output_type": "execute_result"
    }
   ],
   "source": [
    "new_X1.shape"
   ]
  },
  {
   "cell_type": "code",
   "execution_count": 14,
   "metadata": {},
   "outputs": [
    {
     "name": "stderr",
     "output_type": "stream",
     "text": [
      "/home/ayagoz/anaconda3/lib/python3.6/site-packages/sklearn/linear_model/coordinate_descent.py:491: ConvergenceWarning: Objective did not converge. You might want to increase the number of iterations. Fitting data with very small alpha may cause precision problems.\n",
      "  ConvergenceWarning)\n"
     ]
    },
    {
     "name": "stdout",
     "output_type": "stream",
     "text": [
      "MSE train: 4088347.25, test: 90140032.0\n",
      "R2 train: 0.9699950752001212, test: 0.23745349419833975\n",
      "MSE train: 3961609.0, test: 117680896.0\n",
      "R2 train: 0.9684965423166003, test: 0.28576025645768705\n",
      "MSE train: 4073120.0, test: 98592224.0\n",
      "R2 train: 0.9699506999659283, test: 0.2024700402369093\n",
      "R2 train: 0.9699506999659283, test: 0.24189459696431204\n"
     ]
    }
   ],
   "source": [
    "r2_train = []\n",
    "r2_test = []\n",
    "for train_idx, test_idx in ss.split(new_X1):\n",
    "    X_train, y_train = new_X1[train_idx], Eig[train_idx]\n",
    "    X_test, y_test = new_X1[test_idx], Eig[test_idx]\n",
    "    \n",
    "    lin_reg.fit(X_train, y_train)\n",
    "    \n",
    "    r2_train += [r2_score(y_train, lin_reg.predict(X_train))]\n",
    "    \n",
    "    r2_test += [r2_score(y_test, lin_reg.predict(X_test))]\n",
    "    \n",
    "    print('MSE train: {}, test: {}'.format(mean_squared_error(y_train, lin_reg.predict(X_train)),\n",
    "                                          mean_squared_error(y_test, lin_reg.predict(X_test))))\n",
    "    \n",
    "    print('R2 train: {}, test: {}'.format(r2_train[-1], r2_test[-1]))\n",
    "    \n",
    "\n",
    "print('R2 train: {}, test: {}'.format(np.mean(r2_train[-1]), np.mean(r2_test)))"
   ]
  },
  {
   "cell_type": "code",
   "execution_count": 16,
   "metadata": {},
   "outputs": [
    {
     "name": "stdout",
     "output_type": "stream",
     "text": [
      "MSE train: 7293528.5, test: 99265528.0\n",
      "R2 train: 0.9430869071100306, test: 0.3241509214554881\n",
      "MSE train: 7504567.5, test: 92359464.0\n",
      "R2 train: 0.9436166750338302, test: 0.2699628421613184\n",
      "MSE train: 7257443.5, test: 104842960.0\n",
      "R2 train: 0.943354483148042, test: 0.28304069232007667\n",
      "R2 train: 0.943354483148042, test: 0.2923848186456277\n"
     ]
    }
   ],
   "source": [
    "r2_train = []\n",
    "r2_test = []\n",
    "for train_idx, test_idx in ss.split(new_X1):\n",
    "    X_train, y_train = new_X2[train_idx], Eig[train_idx]\n",
    "    X_test, y_test = new_X2[test_idx], Eig[test_idx]\n",
    "    \n",
    "    lin_reg.fit(X_train, y_train)\n",
    "    \n",
    "    r2_train += [r2_score(y_train, lin_reg.predict(X_train))]\n",
    "    \n",
    "    r2_test += [r2_score(y_test, lin_reg.predict(X_test))]\n",
    "    \n",
    "    print('MSE train: {}, test: {}'.format(mean_squared_error(y_train, lin_reg.predict(X_train)),\n",
    "                                          mean_squared_error(y_test, lin_reg.predict(X_test))))\n",
    "    \n",
    "    print('R2 train: {}, test: {}'.format(r2_train[-1], r2_test[-1]))\n",
    "    \n",
    "\n",
    "print('R2 train: {}, test: {}'.format(np.mean(r2_train[-1]), np.mean(r2_test)))"
   ]
  },
  {
   "cell_type": "code",
   "execution_count": 15,
   "metadata": {},
   "outputs": [
    {
     "name": "stdout",
     "output_type": "stream",
     "text": [
      "MSE train: 53939800.0, test: 78582336.0\n",
      "R2 train: 0.6002499177247717, test: 0.3872080518820403\n",
      "MSE train: 53341312.0, test: 79668832.0\n",
      "R2 train: 0.6093381833622835, test: 0.35328125940983485\n",
      "MSE train: 50516356.0, test: 98626360.0\n",
      "R2 train: 0.6138544683475099, test: 0.3119384659191309\n",
      "R2 train: 0.6138544683475099, test: 0.35080925907033533\n"
     ]
    }
   ],
   "source": [
    "r2_train = []\n",
    "r2_test = []\n",
    "for train_idx, test_idx in ss.split(new_X1):\n",
    "    X_train, y_train = new_X3[train_idx], Eig[train_idx]\n",
    "    X_test, y_test = new_X3[test_idx], Eig[test_idx]\n",
    "    \n",
    "    lin_reg.fit(X_train, y_train)\n",
    "    \n",
    "    r2_train += [r2_score(y_train, lin_reg.predict(X_train))]\n",
    "    \n",
    "    r2_test += [r2_score(y_test, lin_reg.predict(X_test))]\n",
    "    \n",
    "    print('MSE train: {}, test: {}'.format(mean_squared_error(y_train, lin_reg.predict(X_train)),\n",
    "                                          mean_squared_error(y_test, lin_reg.predict(X_test))))\n",
    "    \n",
    "    print('R2 train: {}, test: {}'.format(r2_train[-1], r2_test[-1]))\n",
    "    \n",
    "\n",
    "print('R2 train: {}, test: {}'.format(np.mean(r2_train[-1]), np.mean(r2_test)))"
   ]
  },
  {
   "cell_type": "code",
   "execution_count": 17,
   "metadata": {
    "collapsed": true
   },
   "outputs": [],
   "source": [
    "new_X4 = new_mesh_area *np.exp(new_log_jac)"
   ]
  },
  {
   "cell_type": "code",
   "execution_count": 18,
   "metadata": {},
   "outputs": [
    {
     "name": "stdout",
     "output_type": "stream",
     "text": [
      "MSE train: 18879256.0, test: 73399304.0\n",
      "R2 train: 0.8610381641634878, test: 0.39053922537093877\n",
      "MSE train: 18247662.0, test: 86018800.0\n",
      "R2 train: 0.8583776784818865, test: 0.40920913674221693\n",
      "MSE train: 19254592.0, test: 66584316.0\n",
      "R2 train: 0.8622573323811387, test: 0.37085772060381\n",
      "R2 train: 0.8622573323811387, test: 0.3902020275723219\n"
     ]
    }
   ],
   "source": [
    "r2_train = []\n",
    "r2_test = []\n",
    "for train_idx, test_idx in ss.split(new_X1):\n",
    "    X_train, y_train = new_X4[train_idx], Eig[train_idx]\n",
    "    X_test, y_test = new_X4[test_idx], Eig[test_idx]\n",
    "    \n",
    "    lin_reg.fit(X_train, y_train)\n",
    "    \n",
    "    r2_train += [r2_score(y_train, lin_reg.predict(X_train))]\n",
    "    \n",
    "    r2_test += [r2_score(y_test, lin_reg.predict(X_test))]\n",
    "    \n",
    "    print('MSE train: {}, test: {}'.format(mean_squared_error(y_train, lin_reg.predict(X_train)),\n",
    "                                          mean_squared_error(y_test, lin_reg.predict(X_test))))\n",
    "    \n",
    "    print('R2 train: {}, test: {}'.format(r2_train[-1], r2_test[-1]))\n",
    "    \n",
    "\n",
    "print('R2 train: {}, test: {}'.format(np.mean(r2_train[-1]), np.mean(r2_test)))"
   ]
  },
  {
   "cell_type": "code",
   "execution_count": 19,
   "metadata": {},
   "outputs": [
    {
     "data": {
      "text/plain": [
       "(789, 20484)"
      ]
     },
     "execution_count": 19,
     "metadata": {},
     "output_type": "execute_result"
    }
   ],
   "source": [
    "new_X5 = new_X4 * new_thickness\n",
    "new_X5.shape"
   ]
  },
  {
   "cell_type": "code",
   "execution_count": 20,
   "metadata": {
    "scrolled": true
   },
   "outputs": [
    {
     "name": "stderr",
     "output_type": "stream",
     "text": [
      "/home/ayagoz/anaconda3/lib/python3.6/site-packages/sklearn/linear_model/coordinate_descent.py:491: ConvergenceWarning: Objective did not converge. You might want to increase the number of iterations. Fitting data with very small alpha may cause precision problems.\n",
      "  ConvergenceWarning)\n"
     ]
    },
    {
     "name": "stdout",
     "output_type": "stream",
     "text": [
      "MSE train: 1742343.625, test: 87202720.0\n",
      "R2 train: 0.9868987083167433, test: 0.29858144927376157\n",
      "MSE train: 1729993.625, test: 94758176.0\n",
      "R2 train: 0.9870889377764694, test: 0.2059773901739044\n"
     ]
    },
    {
     "ename": "KeyboardInterrupt",
     "evalue": "",
     "output_type": "error",
     "traceback": [
      "\u001b[0;31m-----------------------------------------------------------------------\u001b[0m",
      "\u001b[0;31mKeyboardInterrupt\u001b[0m                     Traceback (most recent call last)",
      "\u001b[0;32m<ipython-input-20-ed230593061a>\u001b[0m in \u001b[0;36m<module>\u001b[0;34m()\u001b[0m\n\u001b[1;32m      5\u001b[0m     \u001b[0mX_test\u001b[0m\u001b[0;34m,\u001b[0m \u001b[0my_test\u001b[0m \u001b[0;34m=\u001b[0m \u001b[0mnew_X5\u001b[0m\u001b[0;34m[\u001b[0m\u001b[0mtest_idx\u001b[0m\u001b[0;34m]\u001b[0m\u001b[0;34m,\u001b[0m \u001b[0mEig\u001b[0m\u001b[0;34m[\u001b[0m\u001b[0mtest_idx\u001b[0m\u001b[0;34m]\u001b[0m\u001b[0;34m\u001b[0m\u001b[0m\n\u001b[1;32m      6\u001b[0m \u001b[0;34m\u001b[0m\u001b[0m\n\u001b[0;32m----> 7\u001b[0;31m     \u001b[0mlin_reg\u001b[0m\u001b[0;34m.\u001b[0m\u001b[0mfit\u001b[0m\u001b[0;34m(\u001b[0m\u001b[0mX_train\u001b[0m\u001b[0;34m,\u001b[0m \u001b[0my_train\u001b[0m\u001b[0;34m)\u001b[0m\u001b[0;34m\u001b[0m\u001b[0m\n\u001b[0m\u001b[1;32m      8\u001b[0m \u001b[0;34m\u001b[0m\u001b[0m\n\u001b[1;32m      9\u001b[0m     \u001b[0mr2_train\u001b[0m \u001b[0;34m+=\u001b[0m \u001b[0;34m[\u001b[0m\u001b[0mr2_score\u001b[0m\u001b[0;34m(\u001b[0m\u001b[0my_train\u001b[0m\u001b[0;34m,\u001b[0m \u001b[0mlin_reg\u001b[0m\u001b[0;34m.\u001b[0m\u001b[0mpredict\u001b[0m\u001b[0;34m(\u001b[0m\u001b[0mX_train\u001b[0m\u001b[0;34m)\u001b[0m\u001b[0;34m)\u001b[0m\u001b[0;34m]\u001b[0m\u001b[0;34m\u001b[0m\u001b[0m\n",
      "\u001b[0;32m~/anaconda3/lib/python3.6/site-packages/sklearn/linear_model/coordinate_descent.py\u001b[0m in \u001b[0;36mfit\u001b[0;34m(self, X, y, check_input)\u001b[0m\n\u001b[1;32m    750\u001b[0m                           \u001b[0mrandom_state\u001b[0m\u001b[0;34m=\u001b[0m\u001b[0mself\u001b[0m\u001b[0;34m.\u001b[0m\u001b[0mrandom_state\u001b[0m\u001b[0;34m,\u001b[0m\u001b[0;34m\u001b[0m\u001b[0m\n\u001b[1;32m    751\u001b[0m                           \u001b[0mselection\u001b[0m\u001b[0;34m=\u001b[0m\u001b[0mself\u001b[0m\u001b[0;34m.\u001b[0m\u001b[0mselection\u001b[0m\u001b[0;34m,\u001b[0m\u001b[0;34m\u001b[0m\u001b[0m\n\u001b[0;32m--> 752\u001b[0;31m                           check_input=False)\n\u001b[0m\u001b[1;32m    753\u001b[0m             \u001b[0mcoef_\u001b[0m\u001b[0;34m[\u001b[0m\u001b[0mk\u001b[0m\u001b[0;34m]\u001b[0m \u001b[0;34m=\u001b[0m \u001b[0mthis_coef\u001b[0m\u001b[0;34m[\u001b[0m\u001b[0;34m:\u001b[0m\u001b[0;34m,\u001b[0m \u001b[0;36m0\u001b[0m\u001b[0;34m]\u001b[0m\u001b[0;34m\u001b[0m\u001b[0m\n\u001b[1;32m    754\u001b[0m             \u001b[0mdual_gaps_\u001b[0m\u001b[0;34m[\u001b[0m\u001b[0mk\u001b[0m\u001b[0;34m]\u001b[0m \u001b[0;34m=\u001b[0m \u001b[0mthis_dual_gap\u001b[0m\u001b[0;34m[\u001b[0m\u001b[0;36m0\u001b[0m\u001b[0;34m]\u001b[0m\u001b[0;34m\u001b[0m\u001b[0m\n",
      "\u001b[0;32m~/anaconda3/lib/python3.6/site-packages/sklearn/linear_model/coordinate_descent.py\u001b[0m in \u001b[0;36menet_path\u001b[0;34m(X, y, l1_ratio, eps, n_alphas, alphas, precompute, Xy, copy_X, coef_init, verbose, return_n_iter, positive, check_input, **params)\u001b[0m\n\u001b[1;32m    475\u001b[0m             model = cd_fast.enet_coordinate_descent(\n\u001b[1;32m    476\u001b[0m                 \u001b[0mcoef_\u001b[0m\u001b[0;34m,\u001b[0m \u001b[0ml1_reg\u001b[0m\u001b[0;34m,\u001b[0m \u001b[0ml2_reg\u001b[0m\u001b[0;34m,\u001b[0m \u001b[0mX\u001b[0m\u001b[0;34m,\u001b[0m \u001b[0my\u001b[0m\u001b[0;34m,\u001b[0m \u001b[0mmax_iter\u001b[0m\u001b[0;34m,\u001b[0m \u001b[0mtol\u001b[0m\u001b[0;34m,\u001b[0m \u001b[0mrng\u001b[0m\u001b[0;34m,\u001b[0m \u001b[0mrandom\u001b[0m\u001b[0;34m,\u001b[0m\u001b[0;34m\u001b[0m\u001b[0m\n\u001b[0;32m--> 477\u001b[0;31m                 positive)\n\u001b[0m\u001b[1;32m    478\u001b[0m         \u001b[0;32melse\u001b[0m\u001b[0;34m:\u001b[0m\u001b[0;34m\u001b[0m\u001b[0m\n\u001b[1;32m    479\u001b[0m             raise ValueError(\"Precompute should be one of True, False, \"\n",
      "\u001b[0;31mKeyboardInterrupt\u001b[0m: "
     ]
    }
   ],
   "source": [
    "r2_train = []\n",
    "r2_test = []\n",
    "for train_idx, test_idx in ss.split(new_X1):\n",
    "    X_train, y_train = new_X5[train_idx], Eig[train_idx]\n",
    "    X_test, y_test = new_X5[test_idx], Eig[test_idx]\n",
    "    \n",
    "    lin_reg.fit(X_train, y_train)\n",
    "    \n",
    "    r2_train += [r2_score(y_train, lin_reg.predict(X_train))]\n",
    "    \n",
    "    r2_test += [r2_score(y_test, lin_reg.predict(X_test))]\n",
    "    \n",
    "    print('MSE train: {}, test: {}'.format(mean_squared_error(y_train, lin_reg.predict(X_train)),\n",
    "                                          mean_squared_error(y_test, lin_reg.predict(X_test))))\n",
    "    \n",
    "    print('R2 train: {}, test: {}'.format(r2_train[-1], r2_test[-1]))\n",
    "    \n",
    "\n",
    "print('R2 train: {}, test: {}'.format(np.mean(r2_train[-1]), np.mean(r2_test)))"
   ]
  },
  {
   "cell_type": "code",
   "execution_count": 33,
   "metadata": {},
   "outputs": [
    {
     "name": "stdout",
     "output_type": "stream",
     "text": [
      "(789, 67)\n"
     ]
    }
   ],
   "source": [
    "bin_Y = Y.copy()\n",
    "bin_Y[Y > 0] = 1\n",
    "bin_Eig = np.real(eigvals(bin_Y))\n",
    "print(bin_Eig.shape)"
   ]
  },
  {
   "cell_type": "code",
   "execution_count": 34,
   "metadata": {},
   "outputs": [
    {
     "data": {
      "text/plain": [
       "array([ 67.08641815,  67.02017212,  67.        ,  66.97834778,\n",
       "        66.08122253,  66.04657745,  66.        ,  66.        ,\n",
       "        66.        ,  66.        ,  65.994133  ,  65.14337921,\n",
       "        65.09870148,  65.0782547 ,  65.07200623,  65.04857635,\n",
       "        65.03407288,  65.        ,  64.99991608,  64.60699463,\n",
       "        64.37125397,  64.24214172,  64.17796326,  64.10496521,\n",
       "        64.08881378,  64.03889465,  64.01860046,  63.85198975,\n",
       "        63.51137161,  63.29449463,  63.09503174,  62.88185501,\n",
       "        62.49235153,  62.29114151,  62.24263   ,  62.09181213,\n",
       "        62.03330994,  61.95084763,  61.67033768,  61.43547821,\n",
       "        61.        ,  60.40306854,  60.37657166,  59.95653152,\n",
       "        58.54263687,  57.94946289,  57.69984818,  57.3660965 ,\n",
       "        56.46022415,  55.25141907,  54.92009735,  54.04646683,\n",
       "        53.96074295,  53.68807602,  52.9986763 ,  52.71578979,\n",
       "        51.01651001,  50.12902451,  49.46409607,  48.61159134,\n",
       "        46.66085815,  44.3650322 ,  42.38878632,  40.26396179,\n",
       "        37.65307999,  15.49132061,  13.44597149], dtype=float32)"
      ]
     },
     "execution_count": 34,
     "metadata": {},
     "output_type": "execute_result"
    }
   ],
   "source": [
    "inv_bin_Eig = np.real(bin_Eig[:, ::-1])\n",
    "inv_bin_Eig[0].reshape(-1)"
   ]
  },
  {
   "cell_type": "code",
   "execution_count": 35,
   "metadata": {
    "scrolled": true
   },
   "outputs": [
    {
     "name": "stdout",
     "output_type": "stream",
     "text": [
      "MSE train: 0.25956979393959045, test: 0.2611013352870941\n",
      "R2 train: 0.0, test: -0.0006711064120700586\n",
      "MSE train: 0.5226812958717346, test: 0.5180923342704773\n",
      "R2 train: 0.0, test: -0.0008835881761215525\n",
      "MSE train: 0.6720675826072693, test: 0.8829840421676636\n",
      "R2 train: 0.0, test: -0.02813592839042885\n",
      "MSE train: 0.9155254364013672, test: 0.9919302463531494\n",
      "R2 train: 0.0, test: -0.004077906073507442\n",
      "MSE train: 1.133532166481018, test: 1.0962414741516113\n",
      "R2 train: 0.0, test: -0.0070891345600259115\n"
     ]
    }
   ],
   "source": [
    "Eig_r2_test = []\n",
    "for i in range(0, 10, 2):\n",
    "    r2_train = []\n",
    "    r2_test = []\n",
    "    for train_idx, test_idx in ss.split(new_X1):\n",
    "        X_train, y_train = new_X4[train_idx], inv_bin_Eig[train_idx, i]\n",
    "        X_test, y_test = new_X4[test_idx], inv_bin_Eig[test_idx, i]\n",
    "\n",
    "        lin_reg.fit(X_train, y_train)\n",
    "\n",
    "        r2_train += [r2_score(y_train, lin_reg.predict(X_train))]\n",
    "\n",
    "        r2_test += [r2_score(y_test, lin_reg.predict(X_test))]\n",
    "\n",
    "#         print('MSE train: {}, test: {}'.format(mean_squared_error(y_train, lin_reg.predict(X_train)),\n",
    "#                                               mean_squared_error(y_test, lin_reg.predict(X_test))))\n",
    "\n",
    "#         print('R2 train: {}, test: {}'.format(r2_train[-1], r2_test[-1]))\n",
    "\n",
    "    print('MSE train: {}, test: {}'.format(mean_squared_error(y_train, lin_reg.predict(X_train)),\n",
    "                                               mean_squared_error(y_test, lin_reg.predict(X_test))))\n",
    "\n",
    "    print('R2 train: {}, test: {}'.format(np.mean(r2_train[-1]), np.mean(r2_test)))\n",
    "    Eig_r2_test += [np.mean(r2_test)]"
   ]
  },
  {
   "cell_type": "code",
   "execution_count": 36,
   "metadata": {},
   "outputs": [
    {
     "name": "stdout",
     "output_type": "stream",
     "text": [
      "MSE train: 89.43193054199219, test: 87.72514343261719\n",
      "R2 train: 0.022667473108863634, test: -0.0008559463527721226\n",
      "MSE train: 41.95009231567383, test: 42.605587005615234\n",
      "R2 train: 0.0, test: -0.0008080471649159667\n",
      "MSE train: 25.467985153198242, test: 20.675827026367188\n",
      "R2 train: 0.0, test: -0.0024040576188918785\n",
      "MSE train: 20.964675903320312, test: 18.52753448486328\n",
      "R2 train: 0.0, test: -0.013570881958900735\n",
      "MSE train: 18.066219329833984, test: 18.83629608154297\n",
      "R2 train: 0.0, test: -0.0026754070809439736\n"
     ]
    }
   ],
   "source": [
    "Eig_r2_test = []\n",
    "for i in range(0, 10, 2):\n",
    "    r2_train = []\n",
    "    r2_test = []\n",
    "    for train_idx, test_idx in ss.split(new_X1):\n",
    "        X_train, y_train = new_X4[train_idx], bin_Eig[train_idx, i]\n",
    "        X_test, y_test = new_X4[test_idx], bin_Eig[test_idx, i]\n",
    "\n",
    "        lin_reg.fit(X_train, y_train)\n",
    "\n",
    "        r2_train += [r2_score(y_train, lin_reg.predict(X_train))]\n",
    "\n",
    "        r2_test += [r2_score(y_test, lin_reg.predict(X_test))]\n",
    "\n",
    "#         print('MSE train: {}, test: {}'.format(mean_squared_error(y_train, lin_reg.predict(X_train)),\n",
    "#                                               mean_squared_error(y_test, lin_reg.predict(X_test))))\n",
    "\n",
    "#         print('R2 train: {}, test: {}'.format(r2_train[-1], r2_test[-1]))\n",
    "\n",
    "    print('MSE train: {}, test: {}'.format(mean_squared_error(y_train, lin_reg.predict(X_train)),\n",
    "                                               mean_squared_error(y_test, lin_reg.predict(X_test))))\n",
    "\n",
    "    print('R2 train: {}, test: {}'.format(np.mean(r2_train[-1]), np.mean(r2_test)))\n",
    "    Eig_r2_test += [np.mean(r2_test)]"
   ]
  },
  {
   "cell_type": "code",
   "execution_count": 37,
   "metadata": {},
   "outputs": [
    {
     "name": "stdout",
     "output_type": "stream",
     "text": [
      "MSE train: 242245.140625, test: 1075019.0\n",
      "R2 train: 0.780650699655645, test: 0.014218372397116394\n",
      "MSE train: 486944.15625, test: 2083830.5\n",
      "R2 train: 0.8002242295864465, test: 0.11450499764058882\n",
      "MSE train: 582291.6875, test: 2603659.25\n",
      "R2 train: 0.7959036887321361, test: 0.05810950180521227\n",
      "MSE train: 725460.8125, test: 3013354.25\n",
      "R2 train: 0.813654831309046, test: 0.23554830609702804\n",
      "MSE train: 933109.0625, test: 3530382.5\n",
      "R2 train: 0.8317812833020162, test: 0.2376833503405268\n"
     ]
    }
   ],
   "source": [
    "Eig_r2_test = []\n",
    "for i in range(0, 10, 2):\n",
    "    r2_train = []\n",
    "    r2_test = []\n",
    "    for train_idx, test_idx in ss.split(new_X1):\n",
    "        X_train, y_train = new_X4[train_idx], Eig[train_idx, i]\n",
    "        X_test, y_test = new_X4[test_idx], Eig[test_idx, i]\n",
    "\n",
    "        lin_reg.fit(X_train, y_train)\n",
    "\n",
    "        r2_train += [r2_score(y_train, lin_reg.predict(X_train))]\n",
    "\n",
    "        r2_test += [r2_score(y_test, lin_reg.predict(X_test))]\n",
    "\n",
    "#         print('MSE train: {}, test: {}'.format(mean_squared_error(y_train, lin_reg.predict(X_train)),\n",
    "#                                               mean_squared_error(y_test, lin_reg.predict(X_test))))\n",
    "\n",
    "#         print('R2 train: {}, test: {}'.format(r2_train[-1], r2_test[-1]))\n",
    "\n",
    "    print('MSE train: {}, test: {}'.format(mean_squared_error(y_train, lin_reg.predict(X_train)),\n",
    "                                               mean_squared_error(y_test, lin_reg.predict(X_test))))\n",
    "\n",
    "    print('R2 train: {}, test: {}'.format(np.mean(r2_train[-1]), np.mean(r2_test)))\n",
    "    Eig_r2_test += [np.mean(r2_test)]"
   ]
  },
  {
   "cell_type": "code",
   "execution_count": 39,
   "metadata": {},
   "outputs": [
    {
     "data": {
      "text/plain": [
       "[<matplotlib.lines.Line2D at 0x7efd2a628240>]"
      ]
     },
     "execution_count": 39,
     "metadata": {},
     "output_type": "execute_result"
    },
    {
     "data": {
      "image/png": "[encoded data removed]",
      "text/plain": [
       "<matplotlib.figure.Figure at 0x7efd8804dd30>"
      ]
     },
     "metadata": {},
     "output_type": "display_data"
    }
   ],
   "source": [
    "plt.plot(range(0,10,2), Eig_r2_test)"
   ]
  },
  {
   "cell_type": "code",
   "execution_count": 54,
   "metadata": {
    "scrolled": true
   },
   "outputs": [
    {
     "name": "stdout",
     "output_type": "stream",
     "text": [
      "MSE train: 255121.640625, test: 935985.4375\n",
      "R2 train: 0.7700830300104436, test: 0.02546578945337637\n",
      "MSE train: 393402.6875, test: 1893735.5\n",
      "R2 train: 0.7824950424583943, test: 0.05086780095802342\n",
      "MSE train: 493920.46875, test: 2199514.0\n",
      "R2 train: 0.7913600139273705, test: 0.11820005330648727\n",
      "MSE train: 574331.8125, test: 2385239.0\n",
      "R2 train: 0.7872701662231311, test: 0.0853733899428688\n",
      "MSE train: 610808.875, test: 2154525.25\n",
      "R2 train: 0.7914749076214984, test: 0.11270404631256659\n",
      "MSE train: 614833.1875, test: 2832502.75\n",
      "R2 train: 0.8109822798134492, test: 0.14907953839120347\n",
      "MSE train: 692972.375, test: 3250073.5\n",
      "R2 train: 0.8249362769928784, test: 0.18359693687506515\n",
      "MSE train: 805600.8125, test: 3713470.0\n",
      "R2 train: 0.8342669862597367, test: 0.1593878994038619\n",
      "MSE train: 936108.625, test: 3707995.5\n",
      "R2 train: 0.8321767179628092, test: 0.26659448172162686\n",
      "MSE train: 1025229.3125, test: 3777232.25\n",
      "R2 train: 0.8470697595908241, test: 0.2896936047241159\n",
      "MSE train: 1098588.625, test: 4590499.0\n",
      "R2 train: 0.8573849212463136, test: 0.27118653301664114\n",
      "MSE train: 1190714.875, test: 6361363.5\n",
      "R2 train: 0.8609835033869063, test: 0.2649885173361181\n",
      "MSE train: 1342941.25, test: 7067261.5\n",
      "R2 train: 0.859937313054507, test: 0.29241575075695303\n",
      "MSE train: 1573789.0, test: 5996984.5\n",
      "R2 train: 0.8571209249897607, test: 0.313754288574892\n",
      "MSE train: 1608981.5, test: 9299381.0\n",
      "R2 train: 0.8614972915319355, test: 0.39020286280219557\n",
      "MSE train: 1968826.0, test: 7487111.5\n",
      "R2 train: 0.8602996000385875, test: 0.33104242163872094\n",
      "MSE train: 1977121.625, test: 8887365.0\n",
      "R2 train: 0.8716598186261828, test: 0.35622670893544245\n",
      "MSE train: 2099823.5, test: 12282482.0\n",
      "R2 train: 0.8661491506775826, test: 0.393495999939649\n",
      "MSE train: 2421641.25, test: 11536483.0\n",
      "R2 train: 0.872273175910579, test: 0.40402672223561575\n",
      "MSE train: 2825454.25, test: 10137543.0\n",
      "R2 train: 0.8659026485172915, test: 0.38490417297896107\n",
      "MSE train: 2937217.75, test: 12522774.0\n",
      "R2 train: 0.8718862876553944, test: 0.41095497578044493\n",
      "MSE train: 2893383.25, test: 14125182.0\n",
      "R2 train: 0.876359873155422, test: 0.37181398626390966\n",
      "MSE train: 3314151.0, test: 14179971.0\n",
      "R2 train: 0.8696160001506512, test: 0.43922989600821866\n",
      "MSE train: 3510864.25, test: 14832309.0\n",
      "R2 train: 0.8666959104285984, test: 0.4592948824140802\n",
      "MSE train: 3393879.5, test: 22220446.0\n",
      "R2 train: 0.8808810311527817, test: 0.39015473991198996\n",
      "MSE train: 4067974.0, test: 16319076.0\n",
      "R2 train: 0.8733829056274575, test: 0.4432758081760472\n",
      "MSE train: 4038312.75, test: 21187528.0\n",
      "R2 train: 0.8804379911082796, test: 0.43083161806513887\n",
      "MSE train: 4475608.0, test: 20485736.0\n",
      "R2 train: 0.886802728434517, test: 0.3956212229372391\n",
      "MSE train: 4506464.0, test: 22901180.0\n",
      "R2 train: 0.8864212397106784, test: 0.4569726475392528\n",
      "MSE train: 5060987.5, test: 21541748.0\n",
      "R2 train: 0.8872123387887603, test: 0.43454293001173916\n",
      "MSE train: 4976618.0, test: 27567354.0\n",
      "R2 train: 0.8898398575162324, test: 0.4261458632461457\n",
      "MSE train: 5781860.0, test: 24509252.0\n",
      "R2 train: 0.8816960124584519, test: 0.4597089699891237\n",
      "MSE train: 6114239.5, test: 26886868.0\n",
      "R2 train: 0.8831414859175833, test: 0.4498366945389969\n",
      "MSE train: 6555177.5, test: 26833020.0\n",
      "R2 train: 0.8857677619043198, test: 0.455605199851615\n",
      "MSE train: 6932348.5, test: 31769740.0\n",
      "R2 train: 0.880461509693557, test: 0.463998445431693\n",
      "MSE train: 6891602.0, test: 36013552.0\n",
      "R2 train: 0.8858808015852407, test: 0.5060296777813845\n",
      "MSE train: 7406761.0, test: 40561704.0\n",
      "R2 train: 0.8798359415997766, test: 0.47079064319304226\n",
      "MSE train: 7863215.0, test: 47291764.0\n",
      "R2 train: 0.882315277805375, test: 0.4593229239702031\n",
      "MSE train: 8309412.5, test: 57214100.0\n",
      "R2 train: 0.8793795295071465, test: 0.4397229913365693\n",
      "MSE train: 9753329.0, test: 52506712.0\n",
      "R2 train: 0.8777102149109164, test: 0.4277938610208336\n",
      "MSE train: 10295621.0, test: 55705788.0\n",
      "R2 train: 0.8790321965543015, test: 0.4361241110781684\n",
      "MSE train: 11624877.0, test: 53793752.0\n",
      "R2 train: 0.8787117134499635, test: 0.4006555314279597\n",
      "MSE train: 13271589.0, test: 58044324.0\n",
      "R2 train: 0.8679004500224922, test: 0.4226102630182537\n",
      "MSE train: 13665459.0, test: 68268984.0\n",
      "R2 train: 0.876021517098897, test: 0.3953156854289772\n",
      "MSE train: 16617933.0, test: 58990696.0\n",
      "R2 train: 0.8674658378209428, test: 0.42894561786662305\n",
      "MSE train: 17437214.0, test: 65791376.0\n",
      "R2 train: 0.8746070479379803, test: 0.40488183580121806\n",
      "MSE train: 16864158.0, test: 109267272.0\n",
      "R2 train: 0.8776702693722876, test: 0.3014395389092683\n",
      "MSE train: 20422112.0, test: 76285728.0\n",
      "R2 train: 0.8701491727782753, test: 0.38390286039864074\n",
      "MSE train: 21148342.0, test: 92342120.0\n",
      "R2 train: 0.8669642166363041, test: 0.4289217060488995\n",
      "MSE train: 22559772.0, test: 118846064.0\n",
      "R2 train: 0.8651946883692309, test: 0.4177796670470302\n",
      "MSE train: 24998346.0, test: 114307304.0\n",
      "R2 train: 0.8723992003423762, test: 0.41419760963225416\n",
      "MSE train: 25542182.0, test: 142508128.0\n",
      "R2 train: 0.8677037679728397, test: 0.3545460840735466\n",
      "MSE train: 27988780.0, test: 137150912.0\n",
      "R2 train: 0.8702088325965087, test: 0.36609333118432535\n",
      "MSE train: 32211224.0, test: 129791728.0\n",
      "R2 train: 0.8717448146041653, test: 0.36024710588343734\n",
      "MSE train: 34664232.0, test: 153353664.0\n",
      "R2 train: 0.8576375386379131, test: 0.42465402573265476\n",
      "MSE train: 36095360.0, test: 153079088.0\n",
      "R2 train: 0.8719998577644159, test: 0.36746720261620575\n",
      "MSE train: 39639504.0, test: 164994432.0\n",
      "R2 train: 0.8702685192618504, test: 0.4018916990493677\n",
      "MSE train: 41521384.0, test: 221008592.0\n",
      "R2 train: 0.8716130225934906, test: 0.3547815277818689\n",
      "MSE train: 48237376.0, test: 199422192.0\n",
      "R2 train: 0.8652196546116393, test: 0.3983373797996259\n",
      "MSE train: 51268352.0, test: 211579552.0\n",
      "R2 train: 0.8682092499474678, test: 0.3633207921512113\n",
      "MSE train: 55824300.0, test: 227869600.0\n",
      "R2 train: 0.8624596280076482, test: 0.42996729885332846\n",
      "MSE train: 56552036.0, test: 289362528.0\n",
      "R2 train: 0.8707227697280949, test: 0.3911912574306491\n",
      "MSE train: 53266300.0, test: 396785920.0\n",
      "R2 train: 0.8798563765173345, test: 0.40208306081743306\n",
      "MSE train: 64076836.0, test: 339634464.0\n",
      "R2 train: 0.8802227686383197, test: 0.37877062823883395\n",
      "MSE train: 75640024.0, test: 348097536.0\n",
      "R2 train: 0.8796077518117472, test: 0.41580067296931333\n",
      "MSE train: 107187760.0, test: 442622368.0\n",
      "R2 train: 0.870793293680057, test: 0.354530594198103\n",
      "MSE train: 146700992.0, test: 574129152.0\n",
      "R2 train: 0.8679019847010236, test: 0.3820225397622474\n"
     ]
    }
   ],
   "source": [
    "Eig_r2_test = []\n",
    "for i in range(67):\n",
    "    r2_train = []\n",
    "    r2_test = []\n",
    "    for train_idx, test_idx in ss.split(new_X1):\n",
    "        X_train, y_train = new_X4[train_idx], Eig[train_idx, i]\n",
    "        X_test, y_test = new_X4[test_idx], Eig[test_idx, i]\n",
    "\n",
    "        lin_reg = ElasticNet()\n",
    "        lin_reg.fit(X_train, y_train)\n",
    "\n",
    "        r2_train += [r2_score(y_train, lin_reg.predict(X_train))]\n",
    "\n",
    "        r2_test += [r2_score(y_test, lin_reg.predict(X_test))]\n",
    "\n",
    "#         print('MSE train: {}, test: {}'.format(mean_squared_error(y_train, lin_reg.predict(X_train)),\n",
    "#                                               mean_squared_error(y_test, lin_reg.predict(X_test))))\n",
    "\n",
    "#         print('R2 train: {}, test: {}'.format(r2_train[-1], r2_test[-1]))\n",
    "\n",
    "    print('MSE train: {}, test: {}'.format(mean_squared_error(y_train, lin_reg.predict(X_train)),\n",
    "                                               mean_squared_error(y_test, lin_reg.predict(X_test))))\n",
    "\n",
    "    print('R2 train: {}, test: {}'.format(np.mean(r2_train[-1]), np.mean(r2_test)))\n",
    "    Eig_r2_test += [np.mean(r2_test)]"
   ]
  },
  {
   "cell_type": "code",
   "execution_count": 55,
   "metadata": {},
   "outputs": [
    {
     "data": {
      "image/png": "[encoded data removed]",
      "text/plain": [
       "<matplotlib.figure.Figure at 0x7efd2a0ee588>"
      ]
     },
     "metadata": {},
     "output_type": "display_data"
    }
   ],
   "source": [
    "plt.plot(np.arange(67), Eig_r2_test)\n",
    "plt.xlabel('order of EigVal')\n",
    "plt.ylabel('Mean r2 score')\n",
    "plt.savefig('EIG_VALS_R2')"
   ]
  },
  {
   "cell_type": "code",
   "execution_count": null,
   "metadata": {
    "collapsed": true
   },
   "outputs": [],
   "source": []
  }
 ],
 "metadata": {
  "anaconda-cloud": {},
  "kernelspec": {
   "display_name": "Python 3",
   "language": "python",
   "name": "python3"
  },
  "language_info": {
   "codemirror_mode": {
    "name": "ipython",
    "version": 3
   },
   "file_extension": ".py",
   "mimetype": "text/x-python",
   "name": "python",
   "nbconvert_exporter": "python",
   "pygments_lexer": "ipython3",
   "version": "3.6.3"
  }
 },
 "nbformat": 4,
 "nbformat_minor": 1
}

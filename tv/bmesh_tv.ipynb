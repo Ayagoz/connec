{
 "cells": [
  {
   "cell_type": "code",
   "execution_count": 24,
   "metadata": {},
   "outputs": [
    {
     "name": "stdout",
     "output_type": "stream",
     "text": [
      "Connectomes:  (789, 2, 68, 68)\n",
      "Thinkness:  (789, 2, 163842)\n",
      "Log Jacob:  (789, 2, 163842)\n",
      "Unique Labels:  (789, 2, 163842)\n",
      "Mean Labels:  (2, 163842)\n",
      "Mean Area eq:  (2, 163842)\n",
      "Meshes coordinates shape:  (20484, 3)\n",
      "Number of triangles of meshes:  (40960, 3)\n",
      "new  (789, 20484) (789, 20484) (789, 20484) (20484,)\n"
     ]
    }
   ],
   "source": [
    "import numpy as np\n",
    "import pandas as pd\n",
    "import pickle\n",
    "import os \n",
    "\n",
    "import parsimony.functions.nesterov.tv as tv\n",
    "from parsimony.estimators import LinearRegressionL1L2TV, ElasticNet\n",
    "from parsimony.estimators import GridSearchKFoldRegression\n",
    "\n",
    "from sklearn.metrics import r2_score\n",
    "from sklearn.model_selection import train_test_split\n",
    "from scipy.spatial.distance import squareform\n",
    "\n",
    "from tv_utils import get_data_ij\n",
    "from data_load import load_data, load_meshes_coor_tria\n",
    "\n",
    "\n",
    "path = '/cobrain/groups/ml_group/data/HCP/HCP/'\n",
    "connec , thinkness, log_jac, unique_labels, labels, mean_area_eq, idx_subj_connec = load_data(path)\n",
    "\n",
    "# path_tria= \"/cobrain/groups/ml_group/data/HCP/HCP/\"\n",
    "path_new_tria = '/home/bgutman/datasets/HCP/Simplified_templates/'\n",
    "\n",
    "name_simp = '_200_mean_IC5.m'\n",
    "# name_orig = '_200_mean.m' \n",
    "\n",
    "# orig_coord, orig_tria = load_meshes_coor_tria(path_tria, name_orig)\n",
    "new_coord , new_tria = load_meshes_coor_tria(path_new_tria, name_simp)\n",
    "\n",
    "\n",
    "path_res = '/home/ayagoz/connec/results/'\n",
    "                   \n",
    "Y = connec[:,0,:,:]\n",
    "\n",
    "\n",
    "m = int(len(new_coord)/2)\n",
    "new_log_jac = np.concatenate([log_jac[:,0, :m], log_jac[:,1,:m]], axis = 1)\n",
    "\n",
    "new_thick = np.concatenate([thinkness[:,0, :m], thinkness[:,1,:m]], axis = 1)\n",
    "\n",
    "new_area = np.concatenate([mean_area_eq[0, :m] * np.exp(new_log_jac[:,:m]), \n",
    "                           mean_area_eq[1, :m] * np.exp(new_log_jac[:,m:])], axis = 1)\n",
    "\n",
    "new_labels = np.concatenate([labels[0,:m], labels[1,:m]], axis = 0)\n",
    "\n",
    "print('new ', new_log_jac.shape, new_thick.shape, new_area.shape, new_labels.shape)\n"
   ]
  },
  {
   "cell_type": "code",
   "execution_count": null,
   "metadata": {
    "collapsed": true
   },
   "outputs": [],
   "source": []
  },
  {
   "cell_type": "code",
   "execution_count": 25,
   "metadata": {},
   "outputs": [
    {
     "data": {
      "text/plain": [
       "((789, 2, 163842), (789, 2, 163842), (789, 2, 163842), (2, 163842))"
      ]
     },
     "execution_count": 25,
     "metadata": {},
     "output_type": "execute_result"
    }
   ],
   "source": [
    "log_jac.shape, thinkness.shape, mesh_area.shape, mean_labels.shape"
   ]
  },
  {
   "cell_type": "code",
   "execution_count": 26,
   "metadata": {},
   "outputs": [
    {
     "data": {
      "text/plain": [
       "((789, 20484), (789, 20484), (789, 20484), (20484,))"
      ]
     },
     "execution_count": 26,
     "metadata": {},
     "output_type": "execute_result"
    }
   ],
   "source": [
    "m = int(len(new_coord)/2)\n",
    "\n",
    "new_log_jac = np.concatenate([log_jac[:,0, :m], log_jac[:,1,:m]], axis = 1)\n",
    "new_thick = np.concatenate([thinkness[:,0, :m], thinkness[:,1,:m]], axis = 1)\n",
    "new_area = np.concatenate([mesh_area[:,0, :m], mesh_area[:,1,:m]], axis = 1)\n",
    "new_labels = np.concatenate([mean_labels[0,:m], mean_labels[1,:m]], axis = 0)\n",
    "new_log_jac.shape, new_thick.shape, new_area.shape, new_labels.shape"
   ]
  },
  {
   "cell_type": "code",
   "execution_count": 27,
   "metadata": {},
   "outputs": [
    {
     "name": "stdout",
     "output_type": "stream",
     "text": [
      "(68,)\n"
     ]
    }
   ],
   "source": [
    "idx_nodes = list(range(1,4)) + list(range(5,39)) + list(range(40,71))\n",
    "idx_nodes = np.array(idx_nodes)\n",
    "print(idx_nodes.shape)"
   ]
  },
  {
   "cell_type": "code",
   "execution_count": 28,
   "metadata": {
    "collapsed": true
   },
   "outputs": [],
   "source": [
    "i = 54\n",
    "j = 62\n",
    "coord_ij, tria_ij, data_ij  = get_data_ij(idx_nodes[i], idx_nodes[j], new_labels, new_tria, new_coord, new_log_jac)\n",
    "X = data_ij\n",
    "X_train, X_test, y_train, y_test = train_test_split(X, Y[:,i,j], shuffle = True,\n",
    "                                                        random_state = 1, test_size = 0.33)"
   ]
  },
  {
   "cell_type": "code",
   "execution_count": 29,
   "metadata": {},
   "outputs": [
    {
     "data": {
      "text/plain": [
       "((1003, 3), (1759, 3), (789, 1003))"
      ]
     },
     "execution_count": 29,
     "metadata": {},
     "output_type": "execute_result"
    }
   ],
   "source": [
    "coord_ij.shape, tria_ij.shape, data_ij.shape"
   ]
  },
  {
   "cell_type": "code",
   "execution_count": 33,
   "metadata": {
    "collapsed": true
   },
   "outputs": [],
   "source": [
    "A_ij = tv.linear_operator_from_mesh(coord_ij, tria_ij)\n",
    "\n",
    "l1 = [0.1, 0.3, 0.5, 0.8, 1., 3.]\n",
    "l2 = [0., 0.1, 0.3]\n",
    "tv = [0.1, 0.5, 1., 3., 5.]\n"
   ]
  },
  {
   "cell_type": "markdown",
   "metadata": {},
   "source": [
    "# DEFINE FUNCTION THAT CHOOSE EDGES AND MAKE LIST OF TUPLES (i,j)\n",
    "\n",
    "### AAAAAAAAAAAAAAAAAA\n",
    "\n",
    "SMTH LIKE:\n",
    "\n",
    "    - the most different edges\n",
    "    - the variableness or smth\n",
    "    - the best coherense or smth like this (согласованные)"
   ]
  },
  {
   "cell_type": "code",
   "execution_count": null,
   "metadata": {
    "collapsed": true
   },
   "outputs": [],
   "source": [
    "results = pd.DataFrame(columns=['edge', 'l1','l2','tv', 'mse_test', 'r2_test'])\n",
    "row = 0\n",
    "for e in edges:\n",
    "    for a in l1:\n",
    "        for b in l2:\n",
    "            for c in tv:\n",
    "                i, j = e\n",
    "                coord_ij, tria_ij, data_ij  = get_data_ij(idx_nodes[i], idx_nodes[j], \n",
    "                                                          new_labels, new_tria, new_coord, new_log_jac)\n",
    "                X = data_ij\n",
    "                X_train, X_test, y_train, y_test = train_test_split(X, Y[:,i,j], shuffle = True,\n",
    "                                                                        random_state = 1, test_size = 0.33)\n",
    "                \n",
    "                tv_reg = LinearRegressionL1L2TV(**{'l1':a, 'l2':b, 'tv':c}, A = A_ij)\n",
    "                tv_reg.fit(X_train, y_train)\n",
    "                \n",
    "                y_train_pred = tv_reg.predict(X_train)\n",
    "                y_test_pred = tv_reg.predict(X_test)\n",
    "                \n",
    "                mse_test = mean_squared_error(y_test, y_test_pred)\n",
    "                r2_test = r2_score(y_test, y_test_pred_tv)\n",
    "                print('TRAIN MSE TV: {}, TEST MSE TV: {}'.format(mean_squared_error(y_train, y_train_pred),\n",
    "                                                                mse_test))\n",
    "\n",
    "                print('TRAIN R2 TV: {}, TEST R2 TV: {}\\n'.format(r2_score(y_train, y_train_pred),\n",
    "                                                                r2_test))\n",
    "                results.loc[row] = [e, a, b, c, mse_test, r2_test]\n",
    "    row += 1"
   ]
  },
  {
   "cell_type": "code",
   "execution_count": null,
   "metadata": {
    "collapsed": true
   },
   "outputs": [],
   "source": [
    "results.to_csv('/home/ayagoz/connec/results/TV/all_IC5_edge.csv')"
   ]
  },
  {
   "cell_type": "code",
   "execution_count": 43,
   "metadata": {
    "collapsed": true
   },
   "outputs": [],
   "source": []
  },
  {
   "cell_type": "code",
   "execution_count": null,
   "metadata": {
    "collapsed": true
   },
   "outputs": [],
   "source": []
  },
  {
   "cell_type": "code",
   "execution_count": null,
   "metadata": {
    "collapsed": true
   },
   "outputs": [],
   "source": []
  },
  {
   "cell_type": "code",
   "execution_count": null,
   "metadata": {
    "collapsed": true
   },
   "outputs": [],
   "source": []
  },
  {
   "cell_type": "code",
   "execution_count": null,
   "metadata": {
    "collapsed": true
   },
   "outputs": [],
   "source": []
  },
  {
   "cell_type": "code",
   "execution_count": null,
   "metadata": {
    "collapsed": true
   },
   "outputs": [],
   "source": []
  },
  {
   "cell_type": "code",
   "execution_count": null,
   "metadata": {
    "collapsed": true
   },
   "outputs": [],
   "source": []
  },
  {
   "cell_type": "code",
   "execution_count": null,
   "metadata": {
    "collapsed": true
   },
   "outputs": [],
   "source": []
  },
  {
   "cell_type": "code",
   "execution_count": null,
   "metadata": {
    "collapsed": true
   },
   "outputs": [],
   "source": []
  },
  {
   "cell_type": "code",
   "execution_count": null,
   "metadata": {
    "collapsed": true
   },
   "outputs": [],
   "source": [
    "\n",
    "params_l1l2tv = {'l1': 0.9, 'l2':0.0, 'tv':.9}\n",
    "params_l1l2 = {'l': 1., 'alpha':0.9}\n",
    "\n",
    "# l in params_l1l2 refers to l1 in paramss_l1l2tv,\n",
    "# l2 from params_l1l2tv = alpha * (1 - l) / 2\n",
    "l = [0.1, 0.3, 0.5, 0.8, 1., 3.]\n",
    "alpha = [1.]\n",
    "reg = ElasticNet(**params_l1l2)"
   ]
  },
  {
   "cell_type": "code",
   "execution_count": 34,
   "metadata": {
    "collapsed": true
   },
   "outputs": [],
   "source": [
    "tv_reg.set_params(**{'l1':0.1, 'l2':.0, 'tv': 0.1})"
   ]
  },
  {
   "cell_type": "code",
   "execution_count": 39,
   "metadata": {},
   "outputs": [
    {
     "data": {
      "text/plain": [
       "{'A': [<1003x1003 sparse matrix of type '<class 'numpy.float64'>'\n",
       "  \twith 1890 stored elements in Compressed Sparse Row format>,\n",
       "  <1003x1003 sparse matrix of type '<class 'numpy.float64'>'\n",
       "  \twith 1710 stored elements in Compressed Sparse Row format>,\n",
       "  <1003x1003 sparse matrix of type '<class 'numpy.float64'>'\n",
       "  \twith 1498 stored elements in Compressed Sparse Row format>,\n",
       "  <1003x1003 sparse matrix of type '<class 'numpy.float64'>'\n",
       "  \twith 310 stored elements in Compressed Sparse Row format>,\n",
       "  <1003x1003 sparse matrix of type '<class 'numpy.float64'>'\n",
       "  \twith 96 stored elements in Compressed Sparse Row format>,\n",
       "  <1003x1003 sparse matrix of type '<class 'numpy.float64'>'\n",
       "  \twith 16 stored elements in Compressed Sparse Row format>],\n",
       " 'l1': 0.1,\n",
       " 'l2': 0.0,\n",
       " 'mean': True,\n",
       " 'mu': 5e-08,\n",
       " 'penalty_start': 0,\n",
       " 'rho': 1.0,\n",
       " 'tv': 0.1}"
      ]
     },
     "execution_count": 39,
     "metadata": {},
     "output_type": "execute_result"
    }
   ],
   "source": [
    "tv_reg.get_params()"
   ]
  },
  {
   "cell_type": "code",
   "execution_count": 16,
   "metadata": {},
   "outputs": [
    {
     "ename": "KeyboardInterrupt",
     "evalue": "",
     "output_type": "error",
     "traceback": [
      "\u001b[0;31m-----------------------------------------------------------------------\u001b[0m",
      "\u001b[0;31mKeyboardInterrupt\u001b[0m                     Traceback (most recent call last)",
      "\u001b[0;32m<ipython-input-16-6a2294cfc8c1>\u001b[0m in \u001b[0;36m<module>\u001b[0;34m()\u001b[0m\n\u001b[0;32m----> 1\u001b[0;31m \u001b[0mtv_reg\u001b[0m\u001b[0;34m.\u001b[0m\u001b[0mfit\u001b[0m\u001b[0;34m(\u001b[0m\u001b[0mX_train\u001b[0m\u001b[0;34m,\u001b[0m \u001b[0my_train\u001b[0m\u001b[0;34m)\u001b[0m\u001b[0;34m\u001b[0m\u001b[0m\n\u001b[0m\u001b[1;32m      2\u001b[0m \u001b[0my_pred_tv\u001b[0m \u001b[0;34m=\u001b[0m \u001b[0mtv_reg\u001b[0m\u001b[0;34m.\u001b[0m\u001b[0mpredict\u001b[0m\u001b[0;34m(\u001b[0m\u001b[0mX_test\u001b[0m\u001b[0;34m,\u001b[0m \u001b[0;34m)\u001b[0m\u001b[0;34m\u001b[0m\u001b[0m\n\u001b[1;32m      3\u001b[0m \u001b[0;34m\u001b[0m\u001b[0m\n\u001b[1;32m      4\u001b[0m \u001b[0mreg\u001b[0m\u001b[0;34m.\u001b[0m\u001b[0mfit\u001b[0m\u001b[0;34m(\u001b[0m\u001b[0mX_train\u001b[0m\u001b[0;34m,\u001b[0m \u001b[0my_train\u001b[0m\u001b[0;34m)\u001b[0m\u001b[0;34m\u001b[0m\u001b[0m\n\u001b[1;32m      5\u001b[0m \u001b[0my_pred\u001b[0m \u001b[0;34m=\u001b[0m \u001b[0mreg\u001b[0m\u001b[0;34m.\u001b[0m\u001b[0mpredict\u001b[0m\u001b[0;34m(\u001b[0m\u001b[0mX_test\u001b[0m\u001b[0;34m)\u001b[0m\u001b[0;34m\u001b[0m\u001b[0m\n",
      "\u001b[0;32m~/anaconda3/lib/python3.6/site-packages/parsimony/estimators.py\u001b[0m in \u001b[0;36mfit\u001b[0;34m(self, X, y, beta)\u001b[0m\n\u001b[1;32m    859\u001b[0m \u001b[0;34m\u001b[0m\u001b[0m\n\u001b[1;32m    860\u001b[0m         \u001b[0mfunction\u001b[0m\u001b[0;34m.\u001b[0m\u001b[0mset_params\u001b[0m\u001b[0;34m(\u001b[0m\u001b[0mmu\u001b[0m\u001b[0;34m=\u001b[0m\u001b[0mself\u001b[0m\u001b[0;34m.\u001b[0m\u001b[0mmu\u001b[0m\u001b[0;34m)\u001b[0m\u001b[0;34m\u001b[0m\u001b[0m\n\u001b[0;32m--> 861\u001b[0;31m         \u001b[0mself\u001b[0m\u001b[0;34m.\u001b[0m\u001b[0mbeta\u001b[0m \u001b[0;34m=\u001b[0m \u001b[0mself\u001b[0m\u001b[0;34m.\u001b[0m\u001b[0malgorithm\u001b[0m\u001b[0;34m.\u001b[0m\u001b[0mrun\u001b[0m\u001b[0;34m(\u001b[0m\u001b[0mfunction\u001b[0m\u001b[0;34m,\u001b[0m \u001b[0mbeta\u001b[0m\u001b[0;34m)\u001b[0m\u001b[0;34m\u001b[0m\u001b[0m\n\u001b[0m\u001b[1;32m    862\u001b[0m \u001b[0;34m\u001b[0m\u001b[0m\n\u001b[1;32m    863\u001b[0m         \u001b[0;32mif\u001b[0m \u001b[0misinstance\u001b[0m\u001b[0;34m(\u001b[0m\u001b[0mself\u001b[0m\u001b[0;34m.\u001b[0m\u001b[0malgorithm\u001b[0m\u001b[0;34m,\u001b[0m \u001b[0mproximal\u001b[0m\u001b[0;34m.\u001b[0m\u001b[0mADMM\u001b[0m\u001b[0;34m)\u001b[0m\u001b[0;34m:\u001b[0m\u001b[0;34m\u001b[0m\u001b[0m\n",
      "\u001b[0;32m~/anaconda3/lib/python3.6/site-packages/parsimony/algorithms/bases.py\u001b[0m in \u001b[0;36mwrapper\u001b[0;34m(self, function, *args, **kwargs)\u001b[0m\n\u001b[1;32m     99\u001b[0m             \u001b[0mself\u001b[0m\u001b[0;34m.\u001b[0m\u001b[0minfo_reset\u001b[0m\u001b[0;34m(\u001b[0m\u001b[0;34m)\u001b[0m\u001b[0;34m\u001b[0m\u001b[0m\n\u001b[1;32m    100\u001b[0m \u001b[0;34m\u001b[0m\u001b[0m\n\u001b[0;32m--> 101\u001b[0;31m         \u001b[0;32mreturn\u001b[0m \u001b[0mf\u001b[0m\u001b[0;34m(\u001b[0m\u001b[0mself\u001b[0m\u001b[0;34m,\u001b[0m \u001b[0mfunction\u001b[0m\u001b[0;34m,\u001b[0m \u001b[0;34m*\u001b[0m\u001b[0margs\u001b[0m\u001b[0;34m,\u001b[0m \u001b[0;34m**\u001b[0m\u001b[0mkwargs\u001b[0m\u001b[0;34m)\u001b[0m\u001b[0;34m\u001b[0m\u001b[0m\n\u001b[0m\u001b[1;32m    102\u001b[0m \u001b[0;34m\u001b[0m\u001b[0m\n\u001b[1;32m    103\u001b[0m     \u001b[0;32mreturn\u001b[0m \u001b[0mwrapper\u001b[0m\u001b[0;34m\u001b[0m\u001b[0m\n",
      "\u001b[0;32m~/anaconda3/lib/python3.6/site-packages/parsimony/algorithms/bases.py\u001b[0m in \u001b[0;36mwrapper\u001b[0;34m(self, function, *args, **kwargs)\u001b[0m\n\u001b[1;32m     79\u001b[0m         \u001b[0mBaseAlgorithm\u001b[0m\u001b[0;34m.\u001b[0m\u001b[0mcheck_compatibility\u001b[0m\u001b[0;34m(\u001b[0m\u001b[0mfunction\u001b[0m\u001b[0;34m,\u001b[0m \u001b[0mself\u001b[0m\u001b[0;34m.\u001b[0m\u001b[0mINTERFACES\u001b[0m\u001b[0;34m)\u001b[0m\u001b[0;34m\u001b[0m\u001b[0m\n\u001b[1;32m     80\u001b[0m \u001b[0;34m\u001b[0m\u001b[0m\n\u001b[0;32m---> 81\u001b[0;31m         \u001b[0;32mreturn\u001b[0m \u001b[0mf\u001b[0m\u001b[0;34m(\u001b[0m\u001b[0mself\u001b[0m\u001b[0;34m,\u001b[0m \u001b[0mfunction\u001b[0m\u001b[0;34m,\u001b[0m \u001b[0;34m*\u001b[0m\u001b[0margs\u001b[0m\u001b[0;34m,\u001b[0m \u001b[0;34m**\u001b[0m\u001b[0mkwargs\u001b[0m\u001b[0;34m)\u001b[0m\u001b[0;34m\u001b[0m\u001b[0m\n\u001b[0m\u001b[1;32m     82\u001b[0m \u001b[0;34m\u001b[0m\u001b[0m\n\u001b[1;32m     83\u001b[0m     \u001b[0;32mreturn\u001b[0m \u001b[0mwrapper\u001b[0m\u001b[0;34m\u001b[0m\u001b[0m\n",
      "\u001b[0;32m~/anaconda3/lib/python3.6/site-packages/parsimony/algorithms/proximal.py\u001b[0m in \u001b[0;36mrun\u001b[0;34m(self, function, beta)\u001b[0m\n\u001b[1;32m    573\u001b[0m                                  max_iter=self.max_iter - self.num_iter)\n\u001b[1;32m    574\u001b[0m             \u001b[0;31m# Run FISTA.\u001b[0m\u001b[0;34m\u001b[0m\u001b[0;34m\u001b[0m\u001b[0m\n\u001b[0;32m--> 575\u001b[0;31m             \u001b[0mbeta\u001b[0m \u001b[0;34m=\u001b[0m \u001b[0malgorithm\u001b[0m\u001b[0;34m.\u001b[0m\u001b[0mrun\u001b[0m\u001b[0;34m(\u001b[0m\u001b[0mfunction\u001b[0m\u001b[0;34m,\u001b[0m \u001b[0mbeta\u001b[0m\u001b[0;34m)\u001b[0m\u001b[0;34m\u001b[0m\u001b[0m\n\u001b[0m\u001b[1;32m    576\u001b[0m \u001b[0;34m\u001b[0m\u001b[0m\n\u001b[1;32m    577\u001b[0m             \u001b[0;31m# Update global iteration counter.\u001b[0m\u001b[0;34m\u001b[0m\u001b[0;34m\u001b[0m\u001b[0m\n",
      "\u001b[0;32m~/anaconda3/lib/python3.6/site-packages/parsimony/algorithms/bases.py\u001b[0m in \u001b[0;36mwrapper\u001b[0;34m(self, function, *args, **kwargs)\u001b[0m\n\u001b[1;32m     99\u001b[0m             \u001b[0mself\u001b[0m\u001b[0;34m.\u001b[0m\u001b[0minfo_reset\u001b[0m\u001b[0;34m(\u001b[0m\u001b[0;34m)\u001b[0m\u001b[0;34m\u001b[0m\u001b[0m\n\u001b[1;32m    100\u001b[0m \u001b[0;34m\u001b[0m\u001b[0m\n\u001b[0;32m--> 101\u001b[0;31m         \u001b[0;32mreturn\u001b[0m \u001b[0mf\u001b[0m\u001b[0;34m(\u001b[0m\u001b[0mself\u001b[0m\u001b[0;34m,\u001b[0m \u001b[0mfunction\u001b[0m\u001b[0;34m,\u001b[0m \u001b[0;34m*\u001b[0m\u001b[0margs\u001b[0m\u001b[0;34m,\u001b[0m \u001b[0;34m**\u001b[0m\u001b[0mkwargs\u001b[0m\u001b[0;34m)\u001b[0m\u001b[0;34m\u001b[0m\u001b[0m\n\u001b[0m\u001b[1;32m    102\u001b[0m \u001b[0;34m\u001b[0m\u001b[0m\n\u001b[1;32m    103\u001b[0m     \u001b[0;32mreturn\u001b[0m \u001b[0mwrapper\u001b[0m\u001b[0;34m\u001b[0m\u001b[0m\n",
      "\u001b[0;32m~/anaconda3/lib/python3.6/site-packages/parsimony/algorithms/bases.py\u001b[0m in \u001b[0;36mwrapper\u001b[0;34m(self, function, *args, **kwargs)\u001b[0m\n\u001b[1;32m     79\u001b[0m         \u001b[0mBaseAlgorithm\u001b[0m\u001b[0;34m.\u001b[0m\u001b[0mcheck_compatibility\u001b[0m\u001b[0;34m(\u001b[0m\u001b[0mfunction\u001b[0m\u001b[0;34m,\u001b[0m \u001b[0mself\u001b[0m\u001b[0;34m.\u001b[0m\u001b[0mINTERFACES\u001b[0m\u001b[0;34m)\u001b[0m\u001b[0;34m\u001b[0m\u001b[0m\n\u001b[1;32m     80\u001b[0m \u001b[0;34m\u001b[0m\u001b[0m\n\u001b[0;32m---> 81\u001b[0;31m         \u001b[0;32mreturn\u001b[0m \u001b[0mf\u001b[0m\u001b[0;34m(\u001b[0m\u001b[0mself\u001b[0m\u001b[0;34m,\u001b[0m \u001b[0mfunction\u001b[0m\u001b[0;34m,\u001b[0m \u001b[0;34m*\u001b[0m\u001b[0margs\u001b[0m\u001b[0;34m,\u001b[0m \u001b[0;34m**\u001b[0m\u001b[0mkwargs\u001b[0m\u001b[0;34m)\u001b[0m\u001b[0;34m\u001b[0m\u001b[0m\n\u001b[0m\u001b[1;32m     82\u001b[0m \u001b[0;34m\u001b[0m\u001b[0m\n\u001b[1;32m     83\u001b[0m     \u001b[0;32mreturn\u001b[0m \u001b[0mwrapper\u001b[0m\u001b[0;34m\u001b[0m\u001b[0m\n",
      "\u001b[0;32m~/anaconda3/lib/python3.6/site-packages/parsimony/algorithms/proximal.py\u001b[0m in \u001b[0;36mrun\u001b[0;34m(self, function, beta)\u001b[0m\n\u001b[1;32m    339\u001b[0m \u001b[0;34m\u001b[0m\u001b[0m\n\u001b[1;32m    340\u001b[0m             \u001b[0mbetaold\u001b[0m \u001b[0;34m=\u001b[0m \u001b[0mbetanew\u001b[0m\u001b[0;34m\u001b[0m\u001b[0m\n\u001b[0;32m--> 341\u001b[0;31m             betanew = function.prox(z - step * function.grad(z),\n\u001b[0m\u001b[1;32m    342\u001b[0m                                     \u001b[0mstep\u001b[0m\u001b[0;34m,\u001b[0m\u001b[0;34m\u001b[0m\u001b[0m\n\u001b[1;32m    343\u001b[0m                                     \u001b[0meps\u001b[0m\u001b[0;34m=\u001b[0m\u001b[0;36m1.0\u001b[0m \u001b[0;34m/\u001b[0m \u001b[0;34m(\u001b[0m\u001b[0mfloat\u001b[0m\u001b[0;34m(\u001b[0m\u001b[0mi\u001b[0m\u001b[0;34m)\u001b[0m \u001b[0;34m**\u001b[0m \u001b[0;34m(\u001b[0m\u001b[0;36m4.0\u001b[0m \u001b[0;34m+\u001b[0m \u001b[0mconsts\u001b[0m\u001b[0;34m.\u001b[0m\u001b[0mFLOAT_EPSILON\u001b[0m\u001b[0;34m)\u001b[0m\u001b[0;34m)\u001b[0m\u001b[0;34m,\u001b[0m\u001b[0;34m\u001b[0m\u001b[0m\n",
      "\u001b[0;32m~/anaconda3/lib/python3.6/site-packages/parsimony/functions/combinedfunctions.py\u001b[0m in \u001b[0;36mgrad\u001b[0;34m(self, beta)\u001b[0m\n\u001b[1;32m    758\u001b[0m         \u001b[0mFrom\u001b[0m \u001b[0mthe\u001b[0m \u001b[0minterface\u001b[0m \u001b[0;34m\"Gradient\"\u001b[0m\u001b[0;34m.\u001b[0m\u001b[0;34m\u001b[0m\u001b[0m\n\u001b[1;32m    759\u001b[0m         \"\"\"\n\u001b[0;32m--> 760\u001b[0;31m         \u001b[0;32mreturn\u001b[0m \u001b[0mself\u001b[0m\u001b[0;34m.\u001b[0m\u001b[0mrr\u001b[0m\u001b[0;34m.\u001b[0m\u001b[0mgrad\u001b[0m\u001b[0;34m(\u001b[0m\u001b[0mbeta\u001b[0m\u001b[0;34m)\u001b[0m\u001b[0;31m \u001b[0m\u001b[0;31m\\\u001b[0m\u001b[0;34m\u001b[0m\u001b[0m\n\u001b[0m\u001b[1;32m    761\u001b[0m              \u001b[0;34m+\u001b[0m \u001b[0mself\u001b[0m\u001b[0;34m.\u001b[0m\u001b[0mtv\u001b[0m\u001b[0;34m.\u001b[0m\u001b[0mgrad\u001b[0m\u001b[0;34m(\u001b[0m\u001b[0mbeta\u001b[0m\u001b[0;34m)\u001b[0m\u001b[0;34m\u001b[0m\u001b[0m\n\u001b[1;32m    762\u001b[0m \u001b[0;34m\u001b[0m\u001b[0m\n",
      "\u001b[0;32m~/anaconda3/lib/python3.6/site-packages/parsimony/functions/losses.py\u001b[0m in \u001b[0;36mgrad\u001b[0;34m(self, beta)\u001b[0m\n\u001b[1;32m    283\u001b[0m         \u001b[0;32mTrue\u001b[0m\u001b[0;34m\u001b[0m\u001b[0m\n\u001b[1;32m    284\u001b[0m         \"\"\"\n\u001b[0;32m--> 285\u001b[0;31m         \u001b[0mgradOLS\u001b[0m \u001b[0;34m=\u001b[0m \u001b[0mnp\u001b[0m\u001b[0;34m.\u001b[0m\u001b[0mdot\u001b[0m\u001b[0;34m(\u001b[0m\u001b[0;34m(\u001b[0m\u001b[0mnp\u001b[0m\u001b[0;34m.\u001b[0m\u001b[0mdot\u001b[0m\u001b[0;34m(\u001b[0m\u001b[0mself\u001b[0m\u001b[0;34m.\u001b[0m\u001b[0mX\u001b[0m\u001b[0;34m,\u001b[0m \u001b[0mbeta\u001b[0m\u001b[0;34m)\u001b[0m \u001b[0;34m-\u001b[0m \u001b[0mself\u001b[0m\u001b[0;34m.\u001b[0m\u001b[0my\u001b[0m\u001b[0;34m)\u001b[0m\u001b[0;34m.\u001b[0m\u001b[0mT\u001b[0m\u001b[0;34m,\u001b[0m \u001b[0mself\u001b[0m\u001b[0;34m.\u001b[0m\u001b[0mX\u001b[0m\u001b[0;34m)\u001b[0m\u001b[0;34m.\u001b[0m\u001b[0mT\u001b[0m\u001b[0;34m\u001b[0m\u001b[0m\n\u001b[0m\u001b[1;32m    286\u001b[0m \u001b[0;34m\u001b[0m\u001b[0m\n\u001b[1;32m    287\u001b[0m         \u001b[0;32mif\u001b[0m \u001b[0mself\u001b[0m\u001b[0;34m.\u001b[0m\u001b[0mmean\u001b[0m\u001b[0;34m:\u001b[0m\u001b[0;34m\u001b[0m\u001b[0m\n",
      "\u001b[0;31mKeyboardInterrupt\u001b[0m: "
     ]
    }
   ],
   "source": [
    "tv_reg.fit(X_train, y_train)\n",
    "y_pred_tv = tv_reg.predict(X_test, )\n",
    "\n",
    "reg.fit(X_train, y_train)\n",
    "y_pred = reg.predict(X_test)\n",
    "\n",
    "y_train_pred = reg.predict(X_train)\n",
    "\n",
    "print('TRAIN MSE TV: {}, TEST MSE TV: {}'.format(mean_squared_error(y_train, y_train_pred_tv),\n",
    "                                                mean_squared_error(y_test, y_pred_tv)))\n",
    "\n",
    "print('TRAIN R2 TV: {}, TEST R2 TV: {}\\n'.format(r2_score(y_train, y_train_pred_tv),\n",
    "                                                r2_score(y_test, y_pred_tv)))\n",
    "\n",
    "print('TRAIN MSE regression: {}, TEST MSE regression: {}'.format(mean_squared_error(y_train, y_train_pred),\n",
    "                                                mean_squared_error(y_test, y_pred)))\n",
    "\n",
    "print('TRAIN R2 regression: {}, TEST R2 regression: {}'.format(r2_score(y_train, y_train_pred),\n",
    "                                                r2_score(y_test, y_pred)))"
   ]
  },
  {
   "cell_type": "code",
   "execution_count": null,
   "metadata": {
    "collapsed": true
   },
   "outputs": [],
   "source": []
  },
  {
   "cell_type": "code",
   "execution_count": null,
   "metadata": {
    "collapsed": true
   },
   "outputs": [],
   "source": []
  },
  {
   "cell_type": "code",
   "execution_count": null,
   "metadata": {
    "collapsed": true
   },
   "outputs": [],
   "source": []
  }
 ],
 "metadata": {
  "kernelspec": {
   "display_name": "Python 3",
   "language": "python",
   "name": "python3"
  },
  "language_info": {
   "codemirror_mode": {
    "name": "ipython",
    "version": 3
   },
   "file_extension": ".py",
   "mimetype": "text/x-python",
   "name": "python",
   "nbconvert_exporter": "python",
   "pygments_lexer": "ipython3",
   "version": "3.6.3"
  }
 },
 "nbformat": 4,
 "nbformat_minor": 2
}

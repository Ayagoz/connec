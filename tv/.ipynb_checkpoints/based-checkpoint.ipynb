{
 "cells": [
  {
   "cell_type": "code",
   "execution_count": null,
   "metadata": {
    "collapsed": true
   },
   "outputs": [],
   "source": [
    "import numpy as np\n",
    "import pandas as pd\n",
    "import os\n",
    "\n",
    "from global_utils import load_data, global_count"
   ]
  },
  {
   "cell_type": "code",
   "execution_count": null,
   "metadata": {
    "collapsed": true
   },
   "outputs": [],
   "source": [
    "path='/home/bgutman/datasets/HCP/'\n",
    "bad_subj = ['168139','361941', '257845', '671855'] \n",
    "data, labels, mean_area = load_data(path, bad_subj_include= bad_subj)"
   ]
  },
  {
   "cell_type": "code",
   "execution_count": null,
   "metadata": {
    "collapsed": true
   },
   "outputs": [],
   "source": [
    "new_data = global_count(data, labels, mean_area)"
   ]
  },
  {
   "cell_type": "code",
   "execution_count": null,
   "metadata": {
    "collapsed": true
   },
   "outputs": [],
   "source": [
    "coord, tria = load_meshes_coor_tria()"
   ]
  },
  {
   "cell_type": "code",
   "execution_count": null,
   "metadata": {
    "collapsed": true
   },
   "outputs": [],
   "source": [
    "def get_data_ij(i, j, labels, all_triangles, coordinates, data):\n",
    "    idx_node_i = np.where(labels == i)[0]\n",
    "    idx_node_j = np.where(labels == j)[0]\n",
    "    all_idx_ij = set((idx_node_i).tolist() + (idx_node_j).tolist())\n",
    "    \n",
    "    triangles_ij = []\n",
    "    for mesh in all_triangles:\n",
    "        if len(all_idx_ij.intersection(set(mesh))) == 3:\n",
    "            triangles_ij += [mesh]\n",
    "    triangles_ij = np.array(triangles_ij)\n",
    "\n",
    "    unique_triangles_nodes_ij = sorted(np.unique(triangles_ij.reshape(-1)))\n",
    "    #print(len(all_idx_ij), len(unique_triangles_nodes_ij))\n",
    "    if len(unique_triangles_nodes_ij) < len(all_idx_ij):\n",
    "        all_idx_ij = sorted(list(all_idx_ij.intersection(set(unique_triangles_nodes_ij))))\n",
    "    else:\n",
    "        all_idx_ij = list(all_idx_ij)\n",
    "    numeration = dict(zip(unique_triangles_nodes_ij, np.arange(len(unique_triangles_nodes_ij))))\n",
    "    #print(all_idx_ij[:10])\n",
    "    n = triangles_ij.shape[0]\n",
    "\n",
    "    re_triangles_ij = np.array(list(map(lambda x: numeration[x], triangles_ij.reshape(-1)))).reshape(n,3)\n",
    "\n",
    "    coord_ij = coordinates[all_idx_ij,:]\n",
    "    \n",
    "    return coord_ij, re_triangles_ij, data[:, all_idx_ij]\n"
   ]
  },
  {
   "cell_type": "code",
   "execution_count": null,
   "metadata": {
    "collapsed": true
   },
   "outputs": [],
   "source": [
    "print()"
   ]
  },
  {
   "cell_type": "code",
   "execution_count": null,
   "metadata": {
    "collapsed": true
   },
   "outputs": [],
   "source": []
  }
 ],
 "metadata": {
  "kernelspec": {
   "display_name": "Python 3",
   "language": "python",
   "name": "python3"
  },
  "language_info": {
   "codemirror_mode": {
    "name": "ipython",
    "version": 3
   },
   "file_extension": ".py",
   "mimetype": "text/x-python",
   "name": "python",
   "nbconvert_exporter": "python",
   "pygments_lexer": "ipython3",
   "version": "3.6.3"
  }
 },
 "nbformat": 4,
 "nbformat_minor": 2
}

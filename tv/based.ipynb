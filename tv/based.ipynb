{
 "cells": [
  {
   "cell_type": "code",
   "execution_count": 47,
   "metadata": {},
   "outputs": [],
   "source": [
    "import numpy as np\n",
    "import pandas as pd\n",
    "import os\n",
    "import sys\n",
    "\n",
    "import parsimony.functions.nesterov.tv as tv\n",
    "from parsimony.estimators import LinearRegressionL1L2TV, ElasticNet\n",
    "import parsimony.algorithms as algorithms\n",
    "\n",
    "from sklearn.metrics import r2_score, mean_squared_error\n",
    "from sklearn.model_selection import train_test_split\n",
    "from scipy.spatial.distance import squareform\n",
    "\n",
    "from global_utils import load_data, load_meshes_coor_tria, get_data_ij, convert"
   ]
  },
  {
   "cell_type": "code",
   "execution_count": 2,
   "metadata": {},
   "outputs": [
    {
     "name": "stdout",
     "output_type": "stream",
     "text": [
      "Number of subjects: 789\n",
      "Data contains: \n",
      "thick shape (302310,) \n",
      "logjac shape (302310,) \n",
      "labels shape (302310,)           \n",
      "mean_area shape (302310,) \n"
     ]
    }
   ],
   "source": [
    "path='/home/bgutman/datasets/HCP/'\n",
    "bad_subj = ['168139','361941', '257845', '671855'] \n",
    "data, labels, mean_area = load_data(path, bad_subj_include= bad_subj)"
   ]
  },
  {
   "cell_type": "code",
   "execution_count": 9,
   "metadata": {},
   "outputs": [
    {
     "name": "stdout",
     "output_type": "stream",
     "text": [
      "Meshes coordinates shape:  (302310, 3)\n",
      "Number of triangles of meshes:  (603625, 3)\n"
     ]
    }
   ],
   "source": [
    "coord, tria = load_meshes_coor_tria()"
   ]
  },
  {
   "cell_type": "code",
   "execution_count": 12,
   "metadata": {
    "collapsed": true
   },
   "outputs": [],
   "source": [
    "Y = []\n",
    "for one in data.connectome:\n",
    "    Y += [squareform(one)]\n",
    "\n",
    "Y = np.array(Y)"
   ]
  },
  {
   "cell_type": "code",
   "execution_count": 48,
   "metadata": {},
   "outputs": [
    {
     "data": {
      "text/plain": [
       "<parsimony.algorithms.proximal.CONESTA at 0x7ff7d83a7048>"
      ]
     },
     "execution_count": 48,
     "metadata": {},
     "output_type": "execute_result"
    }
   ],
   "source": [
    "algorithms.proximal.CONESTA(), algorithms.proximal.FISTA()"
   ]
  },
  {
   "cell_type": "code",
   "execution_count": 11,
   "metadata": {
    "collapsed": true
   },
   "outputs": [],
   "source": [
    "def one_edge_tv(coord_ij, tria_ij, data_ij, Y_ij, params):\n",
    "    \n",
    "    A_ij = tv.linear_operator_from_mesh(coord_ij, tria_ij)\n",
    "    \n",
    "    X_train, X_test, y_train, y_test = train_test_split(data_ij, Y_ij, shuffle = True,\n",
    "                                                        random_state = 1, test_size = 0.33)\n",
    "    \n",
    "    tv_reg = LinearRegressionL1L2TV(**params, A = A_ij, algorithm=algorithms.proximal.FISTA(max_iter=10**5), \n",
    "                                    algorithm_params={'max_iter': 10**5})\n",
    "    tv_reg.fit(X_train, y_train)\n",
    "\n",
    "    y_train_pred = tv_reg.predict(X_train)\n",
    "    y_test_pred = tv_reg.predict(X_test)\n",
    "\n",
    "    mse_test = mean_squared_error(y_test, y_test_pred)\n",
    "    r2_test = r2_score(y_test, y_test_pred_tv)\n",
    "    print('TRAIN MSE TV: {}, TEST MSE TV: {}'.format(mean_squared_error(y_train, y_train_pred),\n",
    "                                                    mse_test))\n",
    "\n",
    "    print('TRAIN R2 TV: {}, TEST R2 TV: {}\\n'.format(r2_score(y_train, y_train_pred),\n",
    "                                                    r2_test))\n",
    "    \n",
    "    return r2_test"
   ]
  },
  {
   "cell_type": "code",
   "execution_count": 10,
   "metadata": {},
   "outputs": [],
   "source": [
    "i = 54\n",
    "j = 62\n",
    "coord_ij, tria_ij, data_ij  = get_data_ij(i, j, labels, coord, tria, convert(data.thickness))"
   ]
  },
  {
   "cell_type": "code",
   "execution_count": null,
   "metadata": {
    "collapsed": true
   },
   "outputs": [],
   "source": [
    "file_name = sys.argv[1]\n"
   ]
  },
  {
   "cell_type": "code",
   "execution_count": 52,
   "metadata": {},
   "outputs": [],
   "source": [
    "with open('file.txt', 'w') as f:\n",
    "    f.write('node i, node j, l1, l2, tv\\n')\n",
    "    f.write(str([0,1,0.1,0.1,0.1]) + '\\n')\n",
    "    "
   ]
  },
  {
   "cell_type": "code",
   "execution_count": 53,
   "metadata": {},
   "outputs": [],
   "source": [
    "with open('file.txt', 'r') as f:\n",
    "    head = f.readline().strip().split(', ')\n",
    "    params_num = np.array([float(a) for a in f.readline().strip().strip('[').strip(']').split(', ')])\n",
    "    params = {head[j]: params_num[j] for j in range(len(params_num))}"
   ]
  },
  {
   "cell_type": "code",
   "execution_count": 56,
   "metadata": {},
   "outputs": [
    {
     "name": "stdout",
     "output_type": "stream",
     "text": [
      "I will take edge (0, 1) and compute tv reg with given params\n"
     ]
    }
   ],
   "source": [
    "if list(params.keys()) == ['l1', 'l2', 'tv']:\n",
    "    print('I will take all edges and compute tv regression with given params')\n",
    "    flag = True\n",
    "else:\n",
    "    print('I will take edge ({0:.0f}, {1:.0f}) and compute tv reg with given params'.format(params['node i'], params['node j']))"
   ]
  },
  {
   "cell_type": "code",
   "execution_count": 58,
   "metadata": {},
   "outputs": [],
   "source": [
    "with open('file.txt', 'w') as f:\n",
    "    f.write(str(list(params.keys())))\n",
    "    f.write('\\n')\n",
    "    f.write(str(list(params.values())))\n",
    "    i = 0 \n",
    "    j = 1\n",
    "    res = 0.38473846823\n",
    "    f.write('edge ({0:.0f}, {1:.0f}) test r2 score {2:.5f}'.format(i, j, res))"
   ]
  },
  {
   "cell_type": "code",
   "execution_count": null,
   "metadata": {
    "collapsed": true
   },
   "outputs": [],
   "source": [
    "import numpy as np\n",
    "import pandas as pd\n",
    "import os\n",
    "import sys\n",
    "\n",
    "import parsimony.functions.nesterov.tv as tv\n",
    "from parsimony.estimators import LinearRegressionL1L2TV, ElasticNet\n",
    "import parsimony.algorithms as algorithms\n",
    "\n",
    "from sklearn.metrics import r2_score, mean_squared_error\n",
    "from sklearn.model_selection import train_test_split\n",
    "from scipy.spatial.distance import squareform\n",
    "\n",
    "from global_utils import load_data, load_meshes_coor_tria, get_data_ij, convert\n",
    "\n",
    "def one_edge_tv(coord_ij, tria_ij, data_ij, Y_ij, params):\n",
    "    \n",
    "    A_ij = tv.linear_operator_from_mesh(coord_ij, tria_ij)\n",
    "    \n",
    "    X_train, X_test, y_train, y_test = train_test_split(data_ij, Y_ij, shuffle = True,\n",
    "                                                        random_state = 1, test_size = 0.33)\n",
    "    \n",
    "    tv_reg = LinearRegressionL1L2TV(**params, A = A_ij)\n",
    "    tv_reg.fit(X_train, y_train)\n",
    "\n",
    "    y_train_pred = tv_reg.predict(X_train)\n",
    "    y_test_pred = tv_reg.predict(X_test)\n",
    "\n",
    "    mse_test = mean_squared_error(y_test, y_test_pred)\n",
    "    r2_test = r2_score(y_test, y_test_pred_tv)\n",
    "    print('TRAIN MSE TV: {}, TEST MSE TV: {}'.format(mean_squared_error(y_train, y_train_pred),\n",
    "                                                    mse_test))\n",
    "\n",
    "    print('TRAIN R2 TV: {}, TEST R2 TV: {}\\n'.format(r2_score(y_train, y_train_pred),\n",
    "                                                    r2_test))\n",
    "    \n",
    "    return r2_test\n",
    "def main():\n",
    "    file_name = sys.argv[1]\n",
    "    path_data = sys.argv[2]\n",
    "    type_data = sys.argv[3]\n",
    "    with open(file_name, 'r') as f:\n",
    "        head = f.readline().strip().split(', ')\n",
    "        params_num = np.array([float(a) for a in f.readline().strip().strip('[').strip(']').split(', ')])\n",
    "        params = {head[j]: params_num[j] for j in range(len(params_num))}\n",
    "    flag = False\n",
    "    if list(params.keys()) == ['l1', 'l2', 'tv']:\n",
    "        print('I will take all edges and compute tv regression with given params')\n",
    "        flag = True\n",
    "    else:\n",
    "        print('I will take edge ({0:.0f}, {1:.0f}) and compute tv reg with given params'.format(params['node i'],\n",
    "                                                                                                params['node j']))\n",
    "    \n",
    "    path = path_data\n",
    "    bad_subj = ['168139','361941', '257845', '671855'] \n",
    "    data, labels, mean_area = load_data(path, bad_subj_include=bad_subj)\n",
    "    coord, tria = load_meshes_coor_tria(path)\n",
    "    \n",
    "    Y = []\n",
    "    for one in data.connectome:\n",
    "        Y += [squareform(one)]\n",
    "    Y = np.array(Y)\n",
    "    best = 0.\n",
    "    with open(file_name, 'w') as f:\n",
    "        f.write(type_data)\n",
    "        f.write('\\n')\n",
    "        f.write(str(list(params.keys())))\n",
    "        f.write('\\n')\n",
    "        f.write(str(list(params.values())))\n",
    "        f.write('\\n')\n",
    "        if flag:\n",
    "            for i in range(Y.shape[-1]):\n",
    "                for j in range(i+1, Y.shape[-1]):\n",
    "                    coord_ij, tria_ij, data_ij  = get_data_ij(i, j, labels, coord, tria,\n",
    "                                                              convert(getattr(data, type_data)))\n",
    "                    \n",
    "                    res = one_edge_tv(coord_ij, tria_ij, data_ij, Y[:, i, j], params)\n",
    "                    f.write('edge ({0:.0f}, {1:.0f}) test r2 score {2:.3f}'.format(i, j, res))\n",
    "                    f.write('\\n')\n",
    "                    if res > best:\n",
    "                        print('NEW BEST RESULT R2 {0:.3f} for ({1:.0f}, {2:.0f})'.format(res, i, j))\n",
    "                        best = res\n",
    "        else: \n",
    "            i = params['node i']\n",
    "            j = params['node j']\n",
    "            coord_ij, tria_ij, data_ij  = get_data_ij(i, j, labels,\n",
    "                                                      coord, tria,convert(getattr(data, type_data)))\n",
    "            params.pop('node i')\n",
    "            params.pop('node j')\n",
    "            res = one_edge_tv(coord_ij, tria_ij, data_ij, Y[:, i, j], params)\n",
    "            f.write('edge ({0:.0f}, {1:.0f}) test r2 score {2:.3f}'.format(i, j, res))\n",
    "            f.write('\\n')\n",
    "            print('RESULT R2 {0:.3f} for ({1:.0f}, {2:.0f})'.format(res, i, j))\n",
    "main()"
   ]
  },
  {
   "cell_type": "code",
   "execution_count": 60,
   "metadata": {},
   "outputs": [
    {
     "data": {
      "text/plain": [
       "0.0"
      ]
     },
     "execution_count": 60,
     "metadata": {},
     "output_type": "execute_result"
    }
   ],
   "source": [
    "params.pop('node i')"
   ]
  },
  {
   "cell_type": "code",
   "execution_count": 61,
   "metadata": {},
   "outputs": [
    {
     "data": {
      "text/plain": [
       "{'l1': 0.10000000000000001,\n",
       " 'l2': 0.10000000000000001,\n",
       " 'node j': 1.0,\n",
       " 'tv': 0.10000000000000001}"
      ]
     },
     "execution_count": 61,
     "metadata": {},
     "output_type": "execute_result"
    }
   ],
   "source": [
    "params"
   ]
  },
  {
   "cell_type": "code",
   "execution_count": null,
   "metadata": {
    "collapsed": true
   },
   "outputs": [],
   "source": []
  }
 ],
 "metadata": {
  "kernelspec": {
   "display_name": "Python 3",
   "language": "python",
   "name": "python3"
  },
  "language_info": {
   "codemirror_mode": {
    "name": "ipython",
    "version": 3
   },
   "file_extension": ".py",
   "mimetype": "text/x-python",
   "name": "python",
   "nbconvert_exporter": "python",
   "pygments_lexer": "ipython3",
   "version": "3.6.3"
  }
 },
 "nbformat": 4,
 "nbformat_minor": 2
}

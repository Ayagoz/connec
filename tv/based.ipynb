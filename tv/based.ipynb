{
 "cells": [
  {
   "cell_type": "code",
   "execution_count": 18,
   "metadata": {},
   "outputs": [
    {
     "name": "stderr",
     "output_type": "stream",
     "text": [
      "/home/ayagoz/anaconda3/lib/python3.6/site-packages/parsimony/config.py:55: RuntimeWarning: Could not locate the config file.\n",
      "  warnings.warn(\"Could not locate the config file.\", RuntimeWarning)\n"
     ]
    }
   ],
   "source": [
    "import numpy as np\n",
    "import pandas as pd\n",
    "import os\n",
    "import sys\n",
    "\n",
    "import parsimony.functions.nesterov.tv as tv\n",
    "from parsimony.estimators import LinearRegressionL1L2TV, ElasticNet\n",
    "import parsimony.algorithms as algorithms\n",
    "\n",
    "from sklearn.metrics import r2_score, mean_squared_error\n",
    "from sklearn.model_selection import train_test_split\n",
    "from scipy.spatial.distance import squareform\n",
    "\n",
    "from global_utils import load_data, load_meshes_coor_tria, get_data_ij, convert"
   ]
  },
  {
   "cell_type": "code",
   "execution_count": 19,
   "metadata": {},
   "outputs": [
    {
     "name": "stdout",
     "output_type": "stream",
     "text": [
      "Number of subjects: 789\n",
      "Data contains: \n",
      "thick shape (302310,) \n",
      "logjac shape (302310,) \n",
      "labels shape (302310,)           \n",
      "mean_area shape (302310,) \n"
     ]
    }
   ],
   "source": [
    "path='/home/bgutman/datasets/HCP/'\n",
    "bad_subj = ['168139','361941', '257845', '671855'] \n",
    "data, labels, mean_area = load_data(path, bad_subj_include= bad_subj)"
   ]
  },
  {
   "cell_type": "code",
   "execution_count": 9,
   "metadata": {},
   "outputs": [
    {
     "name": "stdout",
     "output_type": "stream",
     "text": [
      "Meshes coordinates shape:  (302310, 3)\n",
      "Number of triangles of meshes:  (603625, 3)\n"
     ]
    }
   ],
   "source": [
    "coord, tria = load_meshes_coor_tria()"
   ]
  },
  {
   "cell_type": "code",
   "execution_count": 12,
   "metadata": {
    "collapsed": true
   },
   "outputs": [],
   "source": [
    "Y = []\n",
    "for one in data.connectome:\n",
    "    Y += [squareform(one)]\n",
    "\n",
    "Y = np.array(Y)"
   ]
  },
  {
   "cell_type": "code",
   "execution_count": 11,
   "metadata": {
    "collapsed": true
   },
   "outputs": [],
   "source": [
    "def one_edge_tv(coord_ij, tria_ij, data_ij, Y_ij, params):\n",
    "    \n",
    "    A_ij = tv.linear_operator_from_mesh(coord_ij, tria_ij)\n",
    "    \n",
    "    X_train, X_test, y_train, y_test = train_test_split(data_ij, Y_ij, shuffle = True,\n",
    "                                                        random_state = 1, test_size = 0.33)\n",
    "    \n",
    "    tv_reg = LinearRegressionL1L2TV(**params, A = A_ij, algorithm=algorithms.proximal.FISTA(max_iter=10**5), \n",
    "                                    algorithm_params={'max_iter': 10**5})\n",
    "    tv_reg.fit(X_train, y_train)\n",
    "\n",
    "    y_train_pred = tv_reg.predict(X_train)\n",
    "    y_test_pred = tv_reg.predict(X_test)\n",
    "\n",
    "    mse_test = mean_squared_error(y_test, y_test_pred)\n",
    "    r2_test = r2_score(y_test, y_test_pred_tv)\n",
    "    print('TRAIN MSE TV: {}, TEST MSE TV: {}'.format(mean_squared_error(y_train, y_train_pred),\n",
    "                                                    mse_test))\n",
    "\n",
    "    print('TRAIN R2 TV: {}, TEST R2 TV: {}\\n'.format(r2_score(y_train, y_train_pred),\n",
    "                                                    r2_test))\n",
    "    \n",
    "    return r2_test"
   ]
  },
  {
   "cell_type": "code",
   "execution_count": 10,
   "metadata": {
    "collapsed": true
   },
   "outputs": [],
   "source": [
    "i = 54\n",
    "j = 62\n",
    "coord_ij, tria_ij, data_ij  = get_data_ij(i, j, labels, coord, tria, convert(data.thickness))"
   ]
  },
  {
   "cell_type": "code",
   "execution_count": 28,
   "metadata": {
    "collapsed": true
   },
   "outputs": [],
   "source": [
    "import pickle"
   ]
  },
  {
   "cell_type": "code",
   "execution_count": 39,
   "metadata": {
    "collapsed": true
   },
   "outputs": [],
   "source": [
    "file_name = sys.argv[1]\n",
    "a = np.random.rand(789)\n",
    "with open('global.pkl', 'wb') as f:\n",
    "    pickle.dump(a, f, protocol=2)"
   ]
  },
  {
   "cell_type": "code",
   "execution_count": 36,
   "metadata": {
    "collapsed": true
   },
   "outputs": [],
   "source": [
    "with open('global.pkl', 'rb') as f:\n",
    "    new = pickle.load(f, )"
   ]
  },
  {
   "cell_type": "code",
   "execution_count": 46,
   "metadata": {
    "collapsed": true
   },
   "outputs": [],
   "source": [
    "np.allclose(new, a)\n",
    "type_Y_data = 'global.pkl'"
   ]
  },
  {
   "cell_type": "code",
   "execution_count": 53,
   "metadata": {
    "collapsed": true
   },
   "outputs": [],
   "source": [
    "with open('file.txt', 'w') as f:\n",
    "    f.write('l1, l2, tv\\n')\n",
    "    f.write(str([0.1,0.1,0.1]) + '\\n')\n"
   ]
  },
  {
   "cell_type": "code",
   "execution_count": 14,
   "metadata": {},
   "outputs": [
    {
     "ename": "ValueError",
     "evalue": "could not convert string to float: '0.10000000000000001]edge (0'",
     "output_type": "error",
     "traceback": [
      "\u001b[0;31m-----------------------------------------------------------------------\u001b[0m",
      "\u001b[0;31mValueError\u001b[0m                            Traceback (most recent call last)",
      "\u001b[0;32m<ipython-input-14-ea34952f7310>\u001b[0m in \u001b[0;36m<module>\u001b[0;34m()\u001b[0m\n\u001b[1;32m      1\u001b[0m \u001b[0;32mwith\u001b[0m \u001b[0mopen\u001b[0m\u001b[0;34m(\u001b[0m\u001b[0;34m'file.txt'\u001b[0m\u001b[0;34m,\u001b[0m \u001b[0;34m'r'\u001b[0m\u001b[0;34m)\u001b[0m \u001b[0;32mas\u001b[0m \u001b[0mf\u001b[0m\u001b[0;34m:\u001b[0m\u001b[0;34m\u001b[0m\u001b[0m\n\u001b[1;32m      2\u001b[0m     \u001b[0mhead\u001b[0m \u001b[0;34m=\u001b[0m \u001b[0mf\u001b[0m\u001b[0;34m.\u001b[0m\u001b[0mreadline\u001b[0m\u001b[0;34m(\u001b[0m\u001b[0;34m)\u001b[0m\u001b[0;34m.\u001b[0m\u001b[0mstrip\u001b[0m\u001b[0;34m(\u001b[0m\u001b[0;34m)\u001b[0m\u001b[0;34m.\u001b[0m\u001b[0msplit\u001b[0m\u001b[0;34m(\u001b[0m\u001b[0;34m', '\u001b[0m\u001b[0;34m)\u001b[0m\u001b[0;34m\u001b[0m\u001b[0m\n\u001b[0;32m----> 3\u001b[0;31m     \u001b[0mparams_num\u001b[0m \u001b[0;34m=\u001b[0m \u001b[0mnp\u001b[0m\u001b[0;34m.\u001b[0m\u001b[0marray\u001b[0m\u001b[0;34m(\u001b[0m\u001b[0;34m[\u001b[0m\u001b[0mfloat\u001b[0m\u001b[0;34m(\u001b[0m\u001b[0ma\u001b[0m\u001b[0;34m)\u001b[0m \u001b[0;32mfor\u001b[0m \u001b[0ma\u001b[0m \u001b[0;32min\u001b[0m \u001b[0mf\u001b[0m\u001b[0;34m.\u001b[0m\u001b[0mreadline\u001b[0m\u001b[0;34m(\u001b[0m\u001b[0;34m)\u001b[0m\u001b[0;34m.\u001b[0m\u001b[0mstrip\u001b[0m\u001b[0;34m(\u001b[0m\u001b[0;34m)\u001b[0m\u001b[0;34m.\u001b[0m\u001b[0mstrip\u001b[0m\u001b[0;34m(\u001b[0m\u001b[0;34m'['\u001b[0m\u001b[0;34m)\u001b[0m\u001b[0;34m.\u001b[0m\u001b[0mstrip\u001b[0m\u001b[0;34m(\u001b[0m\u001b[0;34m']'\u001b[0m\u001b[0;34m)\u001b[0m\u001b[0;34m.\u001b[0m\u001b[0msplit\u001b[0m\u001b[0;34m(\u001b[0m\u001b[0;34m', '\u001b[0m\u001b[0;34m)\u001b[0m\u001b[0;34m]\u001b[0m\u001b[0;34m)\u001b[0m\u001b[0;34m\u001b[0m\u001b[0m\n\u001b[0m\u001b[1;32m      4\u001b[0m     \u001b[0mparams\u001b[0m \u001b[0;34m=\u001b[0m \u001b[0;34m{\u001b[0m\u001b[0mhead\u001b[0m\u001b[0;34m[\u001b[0m\u001b[0mj\u001b[0m\u001b[0;34m]\u001b[0m\u001b[0;34m:\u001b[0m \u001b[0mparams_num\u001b[0m\u001b[0;34m[\u001b[0m\u001b[0mj\u001b[0m\u001b[0;34m]\u001b[0m \u001b[0;32mfor\u001b[0m \u001b[0mj\u001b[0m \u001b[0;32min\u001b[0m \u001b[0mrange\u001b[0m\u001b[0;34m(\u001b[0m\u001b[0mlen\u001b[0m\u001b[0;34m(\u001b[0m\u001b[0mparams_num\u001b[0m\u001b[0;34m)\u001b[0m\u001b[0;34m)\u001b[0m\u001b[0;34m}\u001b[0m\u001b[0;34m\u001b[0m\u001b[0m\n",
      "\u001b[0;32m<ipython-input-14-ea34952f7310>\u001b[0m in \u001b[0;36m<listcomp>\u001b[0;34m(.0)\u001b[0m\n\u001b[1;32m      1\u001b[0m \u001b[0;32mwith\u001b[0m \u001b[0mopen\u001b[0m\u001b[0;34m(\u001b[0m\u001b[0;34m'file.txt'\u001b[0m\u001b[0;34m,\u001b[0m \u001b[0;34m'r'\u001b[0m\u001b[0;34m)\u001b[0m \u001b[0;32mas\u001b[0m \u001b[0mf\u001b[0m\u001b[0;34m:\u001b[0m\u001b[0;34m\u001b[0m\u001b[0m\n\u001b[1;32m      2\u001b[0m     \u001b[0mhead\u001b[0m \u001b[0;34m=\u001b[0m \u001b[0mf\u001b[0m\u001b[0;34m.\u001b[0m\u001b[0mreadline\u001b[0m\u001b[0;34m(\u001b[0m\u001b[0;34m)\u001b[0m\u001b[0;34m.\u001b[0m\u001b[0mstrip\u001b[0m\u001b[0;34m(\u001b[0m\u001b[0;34m)\u001b[0m\u001b[0;34m.\u001b[0m\u001b[0msplit\u001b[0m\u001b[0;34m(\u001b[0m\u001b[0;34m', '\u001b[0m\u001b[0;34m)\u001b[0m\u001b[0;34m\u001b[0m\u001b[0m\n\u001b[0;32m----> 3\u001b[0;31m     \u001b[0mparams_num\u001b[0m \u001b[0;34m=\u001b[0m \u001b[0mnp\u001b[0m\u001b[0;34m.\u001b[0m\u001b[0marray\u001b[0m\u001b[0;34m(\u001b[0m\u001b[0;34m[\u001b[0m\u001b[0mfloat\u001b[0m\u001b[0;34m(\u001b[0m\u001b[0ma\u001b[0m\u001b[0;34m)\u001b[0m \u001b[0;32mfor\u001b[0m \u001b[0ma\u001b[0m \u001b[0;32min\u001b[0m \u001b[0mf\u001b[0m\u001b[0;34m.\u001b[0m\u001b[0mreadline\u001b[0m\u001b[0;34m(\u001b[0m\u001b[0;34m)\u001b[0m\u001b[0;34m.\u001b[0m\u001b[0mstrip\u001b[0m\u001b[0;34m(\u001b[0m\u001b[0;34m)\u001b[0m\u001b[0;34m.\u001b[0m\u001b[0mstrip\u001b[0m\u001b[0;34m(\u001b[0m\u001b[0;34m'['\u001b[0m\u001b[0;34m)\u001b[0m\u001b[0;34m.\u001b[0m\u001b[0mstrip\u001b[0m\u001b[0;34m(\u001b[0m\u001b[0;34m']'\u001b[0m\u001b[0;34m)\u001b[0m\u001b[0;34m.\u001b[0m\u001b[0msplit\u001b[0m\u001b[0;34m(\u001b[0m\u001b[0;34m', '\u001b[0m\u001b[0;34m)\u001b[0m\u001b[0;34m]\u001b[0m\u001b[0;34m)\u001b[0m\u001b[0;34m\u001b[0m\u001b[0m\n\u001b[0m\u001b[1;32m      4\u001b[0m     \u001b[0mparams\u001b[0m \u001b[0;34m=\u001b[0m \u001b[0;34m{\u001b[0m\u001b[0mhead\u001b[0m\u001b[0;34m[\u001b[0m\u001b[0mj\u001b[0m\u001b[0;34m]\u001b[0m\u001b[0;34m:\u001b[0m \u001b[0mparams_num\u001b[0m\u001b[0;34m[\u001b[0m\u001b[0mj\u001b[0m\u001b[0;34m]\u001b[0m \u001b[0;32mfor\u001b[0m \u001b[0mj\u001b[0m \u001b[0;32min\u001b[0m \u001b[0mrange\u001b[0m\u001b[0;34m(\u001b[0m\u001b[0mlen\u001b[0m\u001b[0;34m(\u001b[0m\u001b[0mparams_num\u001b[0m\u001b[0;34m)\u001b[0m\u001b[0;34m)\u001b[0m\u001b[0;34m}\u001b[0m\u001b[0;34m\u001b[0m\u001b[0m\n",
      "\u001b[0;31mValueError\u001b[0m: could not convert string to float: '0.10000000000000001]edge (0'"
     ]
    }
   ],
   "source": [
    "with open('file.txt', 'r') as f:\n",
    "    head = f.readline().strip().split(', ')\n",
    "    params_num = np.array([float(a) for a in f.readline().strip().strip('[').strip(']').split(', ')])\n",
    "    params = {head[j]: params_num[j] for j in range(len(params_num))}"
   ]
  },
  {
   "cell_type": "code",
   "execution_count": 9,
   "metadata": {
    "collapsed": true
   },
   "outputs": [],
   "source": [
    "import numpy as np"
   ]
  },
  {
   "cell_type": "code",
   "execution_count": 10,
   "metadata": {},
   "outputs": [
    {
     "name": "stdout",
     "output_type": "stream",
     "text": [
      "I will take edge (0, 1) and compute tv reg with given params\n"
     ]
    }
   ],
   "source": [
    "if list(params.keys()) == ['l1', 'l2', 'tv']:\n",
    "    print('I will take all edges and compute tv regression with given params')\n",
    "    flag = True\n",
    "else:\n",
    "    print('I will take edge ({0:.0f}, {1:.0f}) and compute tv reg with given params'.format(params['node i'], params['node j']))"
   ]
  },
  {
   "cell_type": "code",
   "execution_count": 13,
   "metadata": {
    "collapsed": true
   },
   "outputs": [],
   "source": [
    "with open('file.txt', 'w') as f:\n",
    "    for a in list(params.keys()):\n",
    "        f.write(str(a))\n",
    "        if a != list(params.keys())[-1]:\n",
    "            f.write(', ')\n",
    "    f.write('\\n')\n",
    "    f.write(str(list(params.values())))\n",
    "    i = 0 \n",
    "    j = 1\n",
    "    res = 0.38473846823\n",
    "    f.write('edge ({0:.0f}, {1:.0f}) test r2 score {2:.5f}'.format(i, j, res))"
   ]
  },
  {
   "cell_type": "code",
   "execution_count": 1,
   "metadata": {},
   "outputs": [
    {
     "name": "stderr",
     "output_type": "stream",
     "text": [
      "/home/ayagoz/anaconda3/lib/python3.6/site-packages/parsimony/config.py:55: RuntimeWarning: Could not locate the config file.\n",
      "  warnings.warn(\"Could not locate the config file.\", RuntimeWarning)\n"
     ]
    }
   ],
   "source": [
    "import numpy as np\n",
    "import pandas as pd\n",
    "import pickle\n",
    "import os\n",
    "import sys\n",
    "\n",
    "import parsimony.functions.nesterov.tv as tv\n",
    "from parsimony.estimators import LinearRegressionL1L2TV, ElasticNet\n",
    "import parsimony.algorithms as algorithms\n",
    "\n",
    "from sklearn.metrics import r2_score, mean_squared_error\n",
    "from sklearn.model_selection import train_test_split\n",
    "from scipy.spatial.distance import squareform\n",
    "\n",
    "from global_utils import load_data, load_meshes_coor_tria, get_data_ij, convert\n",
    "\n",
    "def one_edge_tv(coord_ij, tria_ij, data_ij, Y_ij, params):\n",
    "    \n",
    "    A_ij = tv.linear_operator_from_mesh(coord_ij, tria_ij)\n",
    "    \n",
    "    X_train, X_test, y_train, y_test = train_test_split(data_ij, Y_ij, shuffle = True,random_state = 1, test_size = 0.33)\n",
    "    \n",
    "    tv_reg = LinearRegressionL1L2TV(**params, A = A_ij)\n",
    "    \n",
    "    tv_reg.fit(X_train, y_train)\n",
    "\n",
    "    y_train_pred = tv_reg.predict(X_train)\n",
    "    y_test_pred = tv_reg.predict(X_test)\n",
    "\n",
    "    mse_test = mean_squared_error(y_test, y_test_pred)\n",
    "    r2_test = r2_score(y_test, y_test_pred_tv)\n",
    "    print('TRAIN MSE TV: {}, TEST MSE TV: {}'.format(mean_squared_error(y_train, y_train_pred),\n",
    "                                                    mse_test))\n",
    "\n",
    "    print('TRAIN R2 TV: {}, TEST R2 TV: {}\\n'.format(r2_score(y_train, y_train_pred),\n",
    "                                                    r2_test))\n",
    "    \n",
    "    return r2_test\n",
    "def main():\n",
    "    file_name = sys.argv[1]\n",
    "    path_data = sys.argv[2]\n",
    "    type_X_data = sys.argv[3]\n",
    "    type_Y_data = sys.argv[4]\n",
    "    all_meshes = bool(sys.argv[5])\n",
    "    \n",
    "    with open(file_name, 'r') as f:\n",
    "        head = f.readline().strip().split(', ')\n",
    "        params_num = np.array([float(a) for a in f.readline().strip().strip('[').strip(']').split(', ')])\n",
    "        params = {head[j]: params_num[j] for j in range(len(params_num))}\n",
    "    flag = False\n",
    "    if list(params.keys()) == ['l1', 'l2', 'tv'] and (type_Y_data == 'edge'):\n",
    "        print('I will take all edges and compute tv regression with given params')\n",
    "        flag = True\n",
    "    else:\n",
    "        print('I will take edge ({0:.0f}, {1:.0f}) and compute tv reg with given params'.format(params['node i'],\n",
    "                                                                                                params['node j']))\n",
    "    \n",
    "    path = path_data\n",
    "    bad_subj = ['168139','361941', '257845', '671855'] \n",
    "    data, labels, mean_area = load_data(path, bad_subj_include=bad_subj)\n",
    "    coord, tria = load_meshes_coor_tria(path)\n",
    "    if type_Y_data == 'edge':\n",
    "        Y = []\n",
    "        for one in data.connectome:\n",
    "            Y += [squareform(one)]\n",
    "        Y = np.array(Y)\n",
    "    else:\n",
    "        if os.path.isfile(type_Y_data):\n",
    "            with open(type_Y_data, 'rb') as f:\n",
    "                Y = pickle.load(f)\n",
    "    best = 0.\n",
    "    with open(file_name, 'w') as f:\n",
    "        f.write(type_data)\n",
    "        f.write('\\n')\n",
    "        f.write(str(list(params.keys())))\n",
    "        f.write('\\n')\n",
    "        f.write(str(list(params.values())))\n",
    "        f.write('\\n')\n",
    "        if flag and (type_Y_data == 'edge'):\n",
    "            for i in range(Y.shape[-1]):\n",
    "                for j in range(i+1, Y.shape[-1]):\n",
    "                    if all_meshes:\n",
    "                        coord_ij = coord\n",
    "                        tria_ij = tria\n",
    "                        data_ij = getattr(data, type_X_data)\n",
    "                    else:\n",
    "                        coord_ij, tria_ij, data_ij  = get_data_ij(i, j, labels, coord, \n",
    "                                                                  tria, convert(getattr(data, type_X_data)))\n",
    "                    \n",
    "                    \n",
    "                    #res = one_edge_tv(coord_ij, tria_ij, data_ij, Y[:, i, j], params)\n",
    "                    res = 0.\n",
    "                    f.write('edge ({0:.0f}, {1:.0f}) test r2 score {2:.3f}'.format(i, j, res))\n",
    "                    f.write('\\n')\n",
    "                    if res > best:\n",
    "                        print('NEW BEST RESULT R2 {0:.3f} for ({1:.0f}, {2:.0f})'.format(res, i, j))\n",
    "                        best = res\n",
    "        else: \n",
    "            i = params['node i']\n",
    "            j = params['node j']\n",
    "            if all_meshes:\n",
    "                coord_ij = coord\n",
    "                tria_ij = tria\n",
    "                data_ij = getattr(data, type_X_data)\n",
    "            else:\n",
    "                coord_ij, tria_ij, data_ij  = get_data_ij(i, j, labels,\n",
    "                                                          coord, tria,convert(getattr(data, type_X_data)))\n",
    "\n",
    "            params.pop('node i')\n",
    "            params.pop('node j')\n",
    "            if type_Y_data == 'edge':\n",
    "                y = Y[:,i,j]\n",
    "            else:\n",
    "                y = Y\n",
    "            #res = one_edge_tv(coord_ij, tria_ij, data_ij, y, params)\n",
    "            res = 0.\n",
    "            f.write('edge ({0:.0f}, {1:.0f}) test r2 score {2:.3f}'.format(i, j, res))\n",
    "            f.write('\\n')\n",
    "            print('RESULT R2 {0:.3f} for ({1:.0f}, {2:.0f})'.format(res, i, j))\n"
   ]
  },
  {
   "cell_type": "code",
   "execution_count": 20,
   "metadata": {
    "collapsed": true
   },
   "outputs": [],
   "source": [
    "Y = []\n",
    "for one in data.connectome:\n",
    "    Y += [squareform(one)]\n",
    "Y = np.array(Y)"
   ]
  },
  {
   "cell_type": "code",
   "execution_count": 21,
   "metadata": {},
   "outputs": [
    {
     "data": {
      "text/plain": [
       "(789, 68, 68)"
      ]
     },
     "execution_count": 21,
     "metadata": {},
     "output_type": "execute_result"
    }
   ],
   "source": [
    "Y.shape"
   ]
  },
  {
   "cell_type": "code",
   "execution_count": 23,
   "metadata": {},
   "outputs": [
    {
     "data": {
      "text/plain": [
       "array([  49.,    2.,    8.,   12.,    3.,   10.,   21.,   11.,    4.,\n",
       "         26.,    5.,   31.,    1.,    1.,    0.,    0.,   17.,    0.,\n",
       "          4.,   46.,   10.,    3.,    2.,   10.,    3.,   11.,   68.,\n",
       "         11.,  143.,    2.,    0.,    0.,    3.,   99.,    0.,    1.,\n",
       "         14.,    0.,   17.,   15.,    0.,    0.,    5.,    1.,    0.,\n",
       "          3.,    2.,    1.,    1.,   23.,    0.,  260.,   53.,    2.,\n",
       "         57.,    0.,    1.,    3.,   31.,    4.,    9.,    0.,    0.,\n",
       "          2.,    0.,   11.,   11.,   92.,    0.,    0.,   26.,    2.,\n",
       "        140.,    0.,   14.,    5.,    1.,    6.,  207.,    0.,   44.,\n",
       "          2.,    3.,    0.,    9.,    4.,    0.,   19.,  337.,   16.,\n",
       "         28.,   36.,    3.,   84.,    0.,    7.,    2.,    4.,  116.,\n",
       "          1.,    7.,    9.,    4.,   86.,    0.,    9.,    2.,    1.,\n",
       "          1.,   12.,   24.,    0.,    0.,   10.,    0.,    9.,    0.,\n",
       "          2.,    8.,   11.,    0.,    9.,   12.,    0.,    6.,    2.,\n",
       "          6.,    0.,    0.,   10.,   93.,    6.,    3.,    4.,    3.,\n",
       "          8.,  130.,    1.,   17.,    4.,    0.,   15.,    0.,   32.,\n",
       "          2.,    0.,  207.,    1.,    1.,    0.,  142.,    0.,    3.,\n",
       "          2.,   33.,   25.,    0.,   15.,  227.,    5.,   37.,    0.,\n",
       "         41.,   12.,    9.,   11.,   49.,    0.,  177.,    3.,    2.,\n",
       "        299.,    8.,  102.,    4.,    4.,    9.,    0.,    8.,    0.,\n",
       "          5.,    0.,   44.,    0.,    2.,   94.,    3.,  202.,    1.,\n",
       "         46.,    3.,   19.,    1.,   22.,   65.,    4.,   31.,   10.,\n",
       "          1.,    1.,    3.,   28.,    5.,    7.,    0.,    7.,    2.,\n",
       "         33.,    0.,    0.,    2.,    2.,    3.,   21.,    1.,    2.,\n",
       "          9.,    5.,    7.,    0.,   11.,    1.,    6.,   35.,   62.,\n",
       "          0.,    1.,    1.,   22.,  115.,    0.,   31.,   80.,   19.,\n",
       "          0.,   24.,   12.,  176.,    0.,   49.,    0.,    5.,    1.,\n",
       "         67.,    3.,    1.,   22.,  127.,    1.,    1.,    0.,    0.,\n",
       "          4.,   21.,    3.,   14.,   78.,    1.,   24.,    1.,    7.,\n",
       "          0.,   16.,    3.,    9.,   59.,    9.,   12.,   15.,    0.,\n",
       "          4.,    2.,    0.,    1.,    1.,    4.,    0.,    2.,    9.,\n",
       "         34.,   28.,   34.,    1.,    0.,   29.,   86.,   38.,    1.,\n",
       "          3.,  113.,   29.,    0.,    1.,    3.,   22.,    0.,   43.,\n",
       "          0.,    6.,    0.,    3.,    0.,    0.,   70.,   27.,   20.,\n",
       "         33.,    7.,    3.,    0.,   72.,    1.,   20.,   56.,    2.,\n",
       "          3.,    0.,    0.,   28.,   14.,    0.,    1.,    1.,    0.,\n",
       "         16.,   77.,   48.,  109.,    0.,    3.,    3.,   22.,   21.,\n",
       "          2.,   18.,    0.,    3.,   26.,    2.,    6.,   35.,    2.,\n",
       "         20.,    1.,   99.,  137.,   16.,   16.,   31.,    0.,    0.,\n",
       "          4.,  137.,   38.,   17.,    6.,    0.,    0.,    0.,    1.,\n",
       "          5.,    1.,    6.,   65.,   10.,    2.,    2.,   15.,    7.,\n",
       "         63.,    1.,   41.,    7.,   71.,    0.,   58.,    3.,    5.,\n",
       "          8.,  152.,  110.,   43.,   37.,   30.,   58.,   10.,   65.,\n",
       "         31.,   15.,    0.,   16.,   17.,   15.,   11.,   16.,   33.,\n",
       "          3.,   39.,    1.,   20.,   23.,    5.,   15.,  177.,    0.,\n",
       "          1.,    8.,    0.,    0.,    6.,   93.,   19.,    0.,    1.,\n",
       "         21.,    1.,    7.,    1.,    4.,    2.,   71.,   33.,  228.,\n",
       "         84.,    8.,   30.,   18.,    0.,   35.,    2.,    8.,   14.,\n",
       "          6.,    4.,   52.,    0.,    1.,    6.,    1.,    1.,    0.,\n",
       "         56.,    7.,   11.,    0.,    1.,    0.,    7.,    5.,   13.,\n",
       "          4.,    0.,   39.,  173.,   10.,    0.,    1.,    0.,    1.,\n",
       "        171.,   28.,    4.,   13.,    3.,   32.,   46.,    0.,    2.,\n",
       "          3.,    1.,   14.,   34.,    0.,    0.,    4.,   36.,  171.,\n",
       "          0.,    1.,    2.,    0.,  201.,   52.,    6.,  261.,   14.,\n",
       "         40.,    3.,    2.,   55.,   17.,    7.,    1.,    1.,   48.,\n",
       "          6.,    2.,    3.,    4.,   15.,   50.,    1.,    1.,    6.,\n",
       "          7.,   29.,    4.,   26.,    2.,    7.,   36.,    3.,  156.,\n",
       "          0.,    0.,    1.,   25.,    1.,  498.,    1.,    1.,   25.,\n",
       "          7.,   72.,   17.,    1.,    1.,   23.,   66.,   64.,   18.,\n",
       "          0.,    0.,   11.,    0.,   17.,    2.,   38.,    5.,   37.,\n",
       "          1.,    9.,    3.,   18.,    1.,    1.,   20.,   64.,   30.,\n",
       "         26.,   56.,    0.,   49.,    2.,    7.,    8.,    1.,  278.,\n",
       "          1.,    3.,    0.,    8.,   14.,    0.,   16.,    4.,    1.,\n",
       "          6.,    2.,    2.,    3.,    1.,   35.,    2.,   60.,    0.,\n",
       "          2.,    1.,    1.,    1.,   46.,   33.,   32.,    2.,    0.,\n",
       "         59.,    1.,    0.,   16.,    1.,    0.,   19.,   21.,    0.,\n",
       "          2.,   11.,    2.,    7.,    6.,   23.,    1.,    0.,    0.,\n",
       "          2.,   70.,   47.,  119.,  285.,   26.,  181.,   18.,  125.,\n",
       "          8.,    0.,    1.,   42.,   14.,   52.,    4.,    6.,   12.,\n",
       "          1.,    6.,   50.,    0.,    2.,    3.,    5.,    1.,   19.,\n",
       "          0.,    0.,    2.,   42.,    6.,    0.,   11.,    1.,    1.,\n",
       "         13.,   33.,   18.,    5.,   15.,   13.,    0.,    4.,    4.,\n",
       "          0.,   11.,    0.,   75.,    0.,    4.,   15.,    8.,    2.,\n",
       "          6.,    5.,    2.,   64.,   14.,   29.,    1.,    0.,   18.,\n",
       "        167.,    0.,   11.,    2.,   35.,    4.,   17.,    0.,  103.,\n",
       "         15.,    1.,    1.,    1.,   54.,    6.,    4.,    7.,    0.,\n",
       "         19.,    4.,   84.,    1.,   27.,    7.,    1.,   25.,    9.,\n",
       "          2.,    1.,   15.,    0.,    5.,   13.,    4.,   27.,   52.,\n",
       "          0.,    0.,    2.,    7.,    2.,    8.,    0.,    2.,    5.,\n",
       "         21.,   16.,    4.,    6.,    1.,    0.,    2.,    8.,    4.,\n",
       "         89.,   25.,    9.,    2.,    3.,   15.,   49.,   51.,    0.,\n",
       "          0.,    2.,   12.,  303.,    0.,    1.,    5.,    2.,    0.,\n",
       "         23.,   15.,    7.,    2.,   14.,    0.,   11.,   15.,    3.,\n",
       "          2.,   84.,   21.,   10.,    9.,   10.,   28.,    9.,   22.,\n",
       "         59.,    4.,    8.,   58.,  102.,  137.,   27.,    0.,    3.,\n",
       "         27.,  161.,    0.,    6.,    0.,  294.,    1.,   10.,    5.,\n",
       "         18.,   15.,    0.,    0.,   54.,   76.,   15.,    1.,    1.,\n",
       "          7.,    0.,   10.,    1.,   97.,    0.], dtype=float32)"
      ]
     },
     "execution_count": 23,
     "metadata": {},
     "output_type": "execute_result"
    }
   ],
   "source": [
    "Y[:,0,1]"
   ]
  },
  {
   "cell_type": "code",
   "execution_count": null,
   "metadata": {
    "collapsed": true
   },
   "outputs": [],
   "source": []
  }
 ],
 "metadata": {
  "kernelspec": {
   "display_name": "Python 3",
   "language": "python",
   "name": "python3"
  },
  "language_info": {
   "codemirror_mode": {
    "name": "ipython",
    "version": 3
   },
   "file_extension": ".py",
   "mimetype": "text/x-python",
   "name": "python",
   "nbconvert_exporter": "python",
   "pygments_lexer": "ipython3",
   "version": "3.6.3"
  }
 },
 "nbformat": 4,
 "nbformat_minor": 2
}

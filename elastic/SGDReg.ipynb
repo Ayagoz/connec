{
 "cells": [
  {
   "cell_type": "code",
   "execution_count": 56,
   "metadata": {},
   "outputs": [
    {
     "name": "stdout",
     "output_type": "stream",
     "text": [
      "Connectomes:  (789, 2, 68, 68)\n",
      "Thinkness:  (789, 2, 163842)\n",
      "Log Jacob:  (789, 2, 163842)\n",
      "Unique Labels:  (789, 2, 163842)\n",
      "Mean Labels:  (2, 163842)\n",
      "Mean Area eq:  (2, 163842)\n",
      "(789, 2278)\n",
      "(789, 983052)\n",
      "(456,)\n"
     ]
    }
   ],
   "source": [
    "import numpy as np\n",
    "import pandas as pd\n",
    "import pickle\n",
    "from scipy.spatial.distance import squareform\n",
    "\n",
    "import os\n",
    "\n",
    "from data_load import load_data\n",
    "from sklearn.preprocessing import StandardScaler, MinMaxScaler\n",
    "\n",
    "from sklearn.linear_model import SGDRegressor\n",
    "from sklearn.model_selection import ShuffleSplit\n",
    "\n",
    "\n",
    "\n",
    "path = '/cobrain/groups/ml_group/data/HCP/HCP/'\n",
    "connec , thinkness, log_jac, unique_labels, labels, mean_area_eq, idx_subj_connec, idx_subj_think, idx_subj_logjac = load_data(path)\n",
    "\n",
    "\n",
    "thinkness = thinkness.reshape(789, -1)\n",
    "log_jac = log_jac.reshape(789, -1)\n",
    "mean_area_eq = mean_area_eq.reshape(-1)\n",
    "labels = labels.reshape(-1)\n",
    "\n",
    "vol = np.exp(log_jac)* mean_area_eq * thinkness\n",
    "\n",
    "X = np.concatenate([thinkness, log_jac, vol],axis = -1)\n",
    "Y = connec[:,0,:,:]\n",
    "Y = np.array([squareform(one) for one in Y])\n",
    "print(Y.shape)\n",
    "print(X.shape)\n",
    "\n",
    "a = np.percentile(Y.std(axis = 0), 40) \n",
    "b = np.percentile(Y.std(axis = 0), 60)\n",
    "\n",
    "a1 = set(np.where(a<=Y.std(axis = 0))[0]) \n",
    "b1 = set(np.where(Y.std(axis = 0) <= b)[0])\n",
    "c = np.array(list(a1.intersection(b1)))\n",
    "\n",
    "print(c.shape)\n",
    "\n",
    "alpha = [1e-3, 0.1, 1.0, 10] \n",
    "l1_ratio = [1e-3, 0.1,  0.4,  1, 5.]\n",
    "\n",
    "sgdr = SGDRegressor(penalty='elasticnet', tol = 1e-6)\n",
    "rs = ShuffleSplit(n_splits=3, test_size=0.2, random_state=0)\n",
    "\n",
    "\n",
    "\n",
    "\n",
    "results = pd.DataFrame(columns=['alpha', 'l1_ratio', 'edge', 'mean_test', 'mean_train'])\n",
    "row = 0\n",
    "for a in alpha:\n",
    "    for l in l1_ratio:\n",
    "        sgdr = SGDRegressor(penalty='elasticnet', tol = 1e-6)\n",
    "        sgdr.set_params(**{'alpha':a, 'l1_ratio': l})\n",
    "        print('PARAMS alpha: {}, l1_ratio: {}'.format(a, l))\n",
    "        for i in sorted(c):\n",
    "            print('FOR EDGE NUMBER ' + str(i))\n",
    "            r2_test, r2_train = [], []\n",
    "            \n",
    "            for train_index, test_index in rs.split(X):\n",
    "                X_train, y_train = X[train_index], Y[train_index, i]\n",
    "                X_test, y_test = X[test_index], Y[test_index, i]\n",
    "                sgdr.fit(X_train, y_train)\n",
    "                r2_train += [sgdr.score(X_train, y_train)]\n",
    "                r2_test += [sgdr.score(X_test, y_test)]\n",
    "                print('R2 train: {}, test: {}'.format(r2_train[-1], r2_test[-1]))\n",
    "            print('MEAN R2 TRAIN: {}, TEST: {}'.format(np.mean(r2_train), np.mean(r2_test)))\n",
    "    results.loc[row] = [a, l, i, np.mean(r2_test), np.mean(r2_train)]\n",
    "    row += 1\n",
    "\n",
    "results.to_csv('/home/ayagoz/connec/results/SGDReg/all_to_edge')"
   ]
  },
  {
   "cell_type": "code",
   "execution_count": 52,
   "metadata": {},
   "outputs": [
    {
     "name": "stdout",
     "output_type": "stream",
     "text": [
      "(456,)\n"
     ]
    }
   ],
   "source": [
    "a = np.percentile(Y.std(axis = 0), 40) \n",
    "b = np.percentile(Y.std(axis = 0), 60)\n",
    "\n",
    "a1 = set(np.where(a<=Y.std(axis = 0))[0]) \n",
    "b1 = set(np.where(Y.std(axis = 0) <= b)[0])\n",
    "c = np.array(list(a1.intersection(b1)))\n",
    "\n",
    "print(c.shape)"
   ]
  },
  {
   "cell_type": "code",
   "execution_count": null,
   "metadata": {
    "collapsed": true
   },
   "outputs": [],
   "source": []
  },
  {
   "cell_type": "code",
   "execution_count": 13,
   "metadata": {},
   "outputs": [],
   "source": [
    "from sklearn.datasets import make_regression"
   ]
  },
  {
   "cell_type": "code",
   "execution_count": 17,
   "metadata": {
    "collapsed": true
   },
   "outputs": [],
   "source": [
    "x,y = make_regression()"
   ]
  },
  {
   "cell_type": "code",
   "execution_count": 18,
   "metadata": {},
   "outputs": [
    {
     "data": {
      "text/plain": [
       "(100, 2)"
      ]
     },
     "execution_count": 18,
     "metadata": {},
     "output_type": "execute_result"
    }
   ],
   "source": [
    "y = np.array([y, y**2]).T\n",
    "y.shape\n"
   ]
  },
  {
   "cell_type": "code",
   "execution_count": 50,
   "metadata": {
    "collapsed": true
   },
   "outputs": [],
   "source": []
  },
  {
   "cell_type": "code",
   "execution_count": null,
   "metadata": {
    "collapsed": true
   },
   "outputs": [],
   "source": []
  }
 ],
 "metadata": {
  "kernelspec": {
   "display_name": "Python 3",
   "language": "python",
   "name": "python3"
  },
  "language_info": {
   "codemirror_mode": {
    "name": "ipython",
    "version": 3
   },
   "file_extension": ".py",
   "mimetype": "text/x-python",
   "name": "python",
   "nbconvert_exporter": "python",
   "pygments_lexer": "ipython3",
   "version": "3.6.3"
  }
 },
 "nbformat": 4,
 "nbformat_minor": 2
}

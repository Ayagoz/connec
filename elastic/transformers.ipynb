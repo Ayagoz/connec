{
 "cells": [
  {
   "cell_type": "code",
   "execution_count": 5,
   "metadata": {
    "collapsed": true
   },
   "outputs": [],
   "source": [
    "import numpy as np\n",
    "import pandas as pd \n",
    "import os\n",
    "import sys\n",
    "import pickle\n",
    "\n",
    "from sklearn.metrics import r2_score\n",
    "from sklearn.model_selection import train_test_split\n",
    "from sklearn.preprocessing import StandardScaler, MinMaxScaler\n",
    "from sklearn.linear_model import SGDRegressor, ElasticNet\n",
    "\n",
    "\n",
    "from utils import load_data, roi_transformer, meshes_transformer, edge_convert, node_convert "
   ]
  },
  {
   "cell_type": "code",
   "execution_count": null,
   "metadata": {
    "collapsed": true
   },
   "outputs": [],
   "source": [
    "path_data = sys.argv[1]\n",
    "type_X_data = sys.argv[2]\n",
    "type_Y_data = sys.argv[3]\n",
    "multitarget = bool(sys.argv[4])"
   ]
  },
  {
   "cell_type": "code",
   "execution_count": null,
   "metadata": {
    "collapsed": true
   },
   "outputs": [],
   "source": [
    "data, labels, mean_area = load_data(path_data)"
   ]
  },
  {
   "cell_type": "code",
   "execution_count": null,
   "metadata": {
    "collapsed": true
   },
   "outputs": [],
   "source": [
    "if type_X_data == 'all_meshes':\n",
    "    X = meshes_transformer(data, labels, mean_area)\n",
    "    \n",
    "if type_X_data == 'roi':\n",
    "    X = roi_transformer(data, labels, mean_area)\n",
    "\n",
    "if type_Y_data == 'edge':\n",
    "    Y = edge_convert(data.connectome)\n",
    "\n",
    "if type_Y_data == 'node':\n",
    "    Y = node_convert(data.connectome)\n",
    "flag = False\n",
    "if '.pkl' in type_Y_data:\n",
    "    with open(type_Y_data, 'rb') as f:\n",
    "        Y = pickle.load(f)\n",
    "    flag = True"
   ]
  },
  {
   "cell_type": "code",
   "execution_count": 28,
   "metadata": {
    "collapsed": true
   },
   "outputs": [],
   "source": [
    "from sklearn.datasets import make_regression\n",
    "X, y = make_regression(n_targets=10)"
   ]
  },
  {
   "cell_type": "code",
   "execution_count": 17,
   "metadata": {
    "collapsed": true
   },
   "outputs": [],
   "source": [
    "def meshes_loop(X, y, params):\n",
    "    alpha = params['alpha']\n",
    "    l1_ratio = params['l1_ratio']\n",
    "    results = pd.DataFrame(columns=['alpha', 'l1_ratio', 'y', 'r2_test', 'r2_train'])\n",
    "    row = 0\n",
    "    for a in alpha:\n",
    "        for l in l1_ratio:\n",
    "            sgdr = SGDRegressor(penalty='elasticnet', tol=1e-6, max_iter=params['max_iter'])\n",
    "            sgdr.set_params(**{'alpha':a, 'l1_ratio': l})\n",
    "            print('PARAMS alpha: {}, l1_ratio: {}'.format(a, l))\n",
    "            X_train, X_test, y_train, y_test = train_test_split(X, y, test_size=0.2, random_state=0)\n",
    "            sgdr.fit(X_train, y_train)\n",
    "            r2_test = r2_score(y_test, sgdr.predict(X_test))\n",
    "            r2_train = r2_score(y_train, sgdr.predict(X_train))\n",
    "            results.loc[row] = [a, l, params['y'], r2_test, r2_train]\n",
    "            row += 1\n",
    "\n",
    "    results.to_csv(params['name'])"
   ]
  },
  {
   "cell_type": "code",
   "execution_count": 24,
   "metadata": {
    "collapsed": true
   },
   "outputs": [],
   "source": [
    "def roi_loop(X, y, params):\n",
    "    alpha = params['alpha']\n",
    "    l1_ratio = params['l1_ratio']\n",
    "    results = pd.DataFrame(columns=['alpha', 'l1_ratio', 'edge', 'r2_test', 'r2_train'])\n",
    "    row = 0\n",
    "    for a in alpha:\n",
    "        for l in l1_ratio:\n",
    "            elastic = ElasticNet(normalize=True, max_iter=params['max_iter'])\n",
    "            elastic.set_params(**{'alpha':a, 'l1_ratio': l})\n",
    "            print('PARAMS alpha: {}, l1_ratio: {}'.format(a, l))\n",
    "            X_train, X_test, y_train, y_test = train_test_split(X, y, test_size=0.2, random_state=0)\n",
    "            elastic.fit(X_train, y_train)\n",
    "            r2_test = r2_score(y_test, elastic.predict(X_test))\n",
    "            r2_train = r2_score(y_train, elastic.predict(X_train))\n",
    "            results.loc[row] = [a, l, params['y'], r2_test, r2_train]\n",
    "            row += 1\n",
    "\n",
    "    results.to_csv(params['name'])"
   ]
  },
  {
   "cell_type": "code",
   "execution_count": 25,
   "metadata": {},
   "outputs": [],
   "source": [
    "params = {'alpha': [1e-5, ], \n",
    "         'l1_ratio': [1e-5,],\n",
    "          'max_iter':100,\n",
    "          'y':'node',\n",
    "         'name': 'type_X_data' + 'type_Y_data'}"
   ]
  },
  {
   "cell_type": "code",
   "execution_count": null,
   "metadata": {
    "collapsed": true
   },
   "outputs": [],
   "source": [
    "assert len(Y.shape) > 2, 'Smth wrong with Y'\n",
    "params = {'alpha': [1e-5, 1e-3, 0.1, 1.0, 5, 10, 20,], \n",
    "         'l1_ratio': [1e-5, 1e-3, 0.1, 0.25, 0.4, 0.7, 1],\n",
    "          'max_iter': 10000,\n",
    "          'y': type_Y_data,\n",
    "         'name': type_X_data + type_Y_data}\n",
    "if len(Y.shape) == 2:\n",
    "    if Y.shape[-1] == 68:\n",
    "        name = 'node'\n",
    "    if Y.shape[-1] == 2278:\n",
    "        name = 'edge'\n",
    "    \n",
    "if type_X_data == 'all_meshes':\n",
    "    if len(Y.shape) == 1:\n",
    "        meshes_loop(X, Y, params)\n",
    "    if len(Y.shape) == 2:\n",
    "        for i in range(Y.shape[-1]):\n",
    "            params['y'] = name + '_' + str(i)\n",
    "            params['name'] = type_X_data + type_Y_data + '_' + str(i)\n",
    "            meshes_loop(X, Y[:, i], params)\n",
    "if type_X_data == 'roi':\n",
    "    if multitarget == True:\n",
    "        params['name'] = params['name'] + '_multi_target'\n",
    "        roi_loop(X, y, params)\n",
    "    else:\n",
    "        for i in range(Y.shape[-1]):\n",
    "            params['y'] = name + '_' + str(i)\n",
    "            params['name'] = params['name'] + '_' + str(i)\n",
    "            roi_loop(X, Y[:, i], params)"
   ]
  },
  {
   "cell_type": "code",
   "execution_count": 31,
   "metadata": {
    "collapsed": true
   },
   "outputs": [],
   "source": [
    "a = np.random.rand(789)"
   ]
  },
  {
   "cell_type": "code",
   "execution_count": 34,
   "metadata": {},
   "outputs": [],
   "source": [
    "with open('global.pkl', 'wb') as f:\n",
    "    pickle.dump(a, f)"
   ]
  },
  {
   "cell_type": "code",
   "execution_count": 9,
   "metadata": {},
   "outputs": [],
   "source": [
    "X1 = roi_transformer(data, labels, mean_area)"
   ]
  },
  {
   "cell_type": "code",
   "execution_count": 17,
   "metadata": {},
   "outputs": [],
   "source": [
    "X2 = meshes_transformer(data, labels, mean_area)"
   ]
  },
  {
   "cell_type": "code",
   "execution_count": 28,
   "metadata": {},
   "outputs": [],
   "source": [
    "Y1 = edge_convert(data.connectome)"
   ]
  },
  {
   "cell_type": "code",
   "execution_count": 29,
   "metadata": {
    "collapsed": true
   },
   "outputs": [],
   "source": [
    "Y2 = node_convert(data.connectome)"
   ]
  },
  {
   "cell_type": "code",
   "execution_count": 30,
   "metadata": {},
   "outputs": [
    {
     "data": {
      "text/plain": [
       "((789, 2278), (789, 68))"
      ]
     },
     "execution_count": 30,
     "metadata": {},
     "output_type": "execute_result"
    }
   ],
   "source": [
    "Y1.shape, Y2.shape"
   ]
  }
 ],
 "metadata": {
  "kernelspec": {
   "display_name": "Python 3",
   "language": "python",
   "name": "python3"
  },
  "language_info": {
   "codemirror_mode": {
    "name": "ipython",
    "version": 3
   },
   "file_extension": ".py",
   "mimetype": "text/x-python",
   "name": "python",
   "nbconvert_exporter": "python",
   "pygments_lexer": "ipython3",
   "version": "3.6.3"
  }
 },
 "nbformat": 4,
 "nbformat_minor": 2
}

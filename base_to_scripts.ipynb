{
 "cells": [
  {
   "cell_type": "code",
   "execution_count": 1,
   "metadata": {
    "collapsed": true
   },
   "outputs": [],
   "source": [
    "import numpy as np\n",
    "import pandas as pd\n",
    "import pickle\n",
    "\n",
    "import os\n",
    "\n",
    "\n",
    "from sklearn.preprocessing import PolynomialFeatures\n",
    "from sklearn.linear_model import ElasticNet\n",
    "\n",
    "from sklearn.model_selection import GridSearchCV\n",
    "\n",
    "\n",
    "path_data = \"/cobrain/groups/ml_group/data/HCP/cleaned_data/\"\n",
    "\n",
    "\n",
    "with open(path_data + \"subjects_roi_thinkness\", 'rb') as f:\n",
    "    roi_think = pickle.load(f)\n",
    "\n",
    "with open(path_data + \"subjects_roi_volume\", 'rb') as f:\n",
    "    roi_volume = pickle.load(f)\n",
    "\n",
    "\n",
    "with open(path_data + 'modularity', 'rb') as f:\n",
    "    modularity = pickle.load(f)\n",
    "    \n",
    "with open(path_data + 'average_clustering', 'rb') as f:\n",
    "    av_clust = pickle.load(f)\n",
    "    \n",
    "\n",
    "X = np.concatenate([roi_think, roi_volume], axis = -1)\n",
    "\n",
    "elastic_param = {'alpha': [ 1e-5, 1e-3, 0.1, 1.0, 5, 10, 20, 50,], \n",
    "                 'l1_ratio': [1e-9, 1e-5, 1e-3, 0.1, 0.25, 0.4, 0.7, 1],\n",
    "                 'max_iter':[1000, 10000]}\n",
    "\n",
    "feature = PolynomialFeatures(degree=3, )\n",
    "new_X = feature.fit_transform(X)\n",
    "\n",
    "print('Fit ElasticNet for modularity')\n",
    "elastic = ElasticNet()\n",
    "\n",
    "rg = GridSearchCV(elastic, elastic_param, scoring = 'r2', \n",
    "                        n_jobs=10, cv = 10)\n",
    "\n",
    "rg.fit(new_X, modularity)\n",
    "orig = pd.DataFrame.from_dict(rg.cv_results_)\n",
    "orig = orig.sort_values(by = 'rank_test_score').iloc[:1]\n",
    "print('result for modularity', float(orig.mean_test_score))\n",
    "\n",
    "print('Fit ElasticNet for av clust')\n",
    "elastic = ElasticNet()\n",
    "\n",
    "\n",
    "rg = GridSearchCV(elastic, elastic_param, scoring = 'r2', \n",
    "                        n_jobs=10, cv = 10)\n",
    "\n",
    "rg.fit(new_X, av_clust)\n",
    "orig = pd.DataFrame.from_dict(rg.cv_results_)\n",
    "orig = orig.sort_values(by = 'rank_test_score').iloc[:1]\n",
    "print('result for av _clust', float(orig.mean_test_score))"
   ]
  },
  {
   "cell_type": "code",
   "execution_count": 104,
   "metadata": {},
   "outputs": [
    {
     "name": "stdout",
     "output_type": "stream",
     "text": [
      "-5.0\n"
     ]
    }
   ],
   "source": [
    "a = np.ones((6,6))\n",
    "np.fill_diagonal(a, 0)\n",
    "print(np.linalg.det(a))"
   ]
  },
  {
   "cell_type": "code",
   "execution_count": null,
   "metadata": {
    "collapsed": true
   },
   "outputs": [],
   "source": [
    "path = '/home/ayagoz/connec/results/'"
   ]
  },
  {
   "cell_type": "code",
   "execution_count": null,
   "metadata": {
    "collapsed": true
   },
   "outputs": [],
   "source": []
  },
  {
   "cell_type": "code",
   "execution_count": null,
   "metadata": {
    "collapsed": true
   },
   "outputs": [],
   "source": []
  },
  {
   "cell_type": "code",
   "execution_count": null,
   "metadata": {
    "collapsed": true
   },
   "outputs": [],
   "source": []
  },
  {
   "cell_type": "code",
   "execution_count": null,
   "metadata": {
    "collapsed": true
   },
   "outputs": [],
   "source": []
  },
  {
   "cell_type": "code",
   "execution_count": null,
   "metadata": {
    "collapsed": true
   },
   "outputs": [],
   "source": []
  },
  {
   "cell_type": "code",
   "execution_count": null,
   "metadata": {
    "collapsed": true
   },
   "outputs": [],
   "source": []
  },
  {
   "cell_type": "code",
   "execution_count": null,
   "metadata": {
    "collapsed": true
   },
   "outputs": [],
   "source": []
  },
  {
   "cell_type": "code",
   "execution_count": null,
   "metadata": {
    "collapsed": true
   },
   "outputs": [],
   "source": []
  },
  {
   "cell_type": "code",
   "execution_count": 20,
   "metadata": {
    "collapsed": true
   },
   "outputs": [],
   "source": [
    "with open(path_data + \"mean_mesh_labels\", 'rb') as f:\n",
    "    mean_labels = pickle.load(f)"
   ]
  },
  {
   "cell_type": "code",
   "execution_count": null,
   "metadata": {
    "collapsed": true
   },
   "outputs": [],
   "source": []
  },
  {
   "cell_type": "code",
   "execution_count": 5,
   "metadata": {
    "collapsed": true
   },
   "outputs": [],
   "source": [
    "with open(path_data + \"mean_mesh_labels\", 'rb') as f:\n",
    "    mean_labels = pickle.load(f)"
   ]
  },
  {
   "cell_type": "code",
   "execution_count": 6,
   "metadata": {
    "collapsed": true
   },
   "outputs": [],
   "source": [
    "with open(path_data + \"normed_connectomes\", 'rb') as f:\n",
    "    Y = pickle.load(f)"
   ]
  },
  {
   "cell_type": "code",
   "execution_count": null,
   "metadata": {
    "collapsed": true
   },
   "outputs": [],
   "source": [
    "with open(path_data + \"subjects_log_jac\", 'rb') as f:\n",
    "    log_jac = pickle.load(f)"
   ]
  },
  {
   "cell_type": "code",
   "execution_count": null,
   "metadata": {
    "collapsed": true
   },
   "outputs": [],
   "source": [
    "with open(path_data + \"subjects_thinkness\", 'rb') as f:\n",
    "    thinkness = pickle.load(f)"
   ]
  },
  {
   "cell_type": "code",
   "execution_count": null,
   "metadata": {
    "collapsed": true
   },
   "outputs": [],
   "source": [
    "with open(path_data + \"subjects_mesh_area\", 'rb') as f:\n",
    "    mesh_area = pickle.load(f)"
   ]
  },
  {
   "cell_type": "code",
   "execution_count": null,
   "metadata": {
    "collapsed": true
   },
   "outputs": [],
   "source": [
    "with open(path_data + \"subjects_roi_thinkness\", 'rb') as f:\n",
    "    roi_thinkness = pickle.load(f)"
   ]
  },
  {
   "cell_type": "code",
   "execution_count": null,
   "metadata": {
    "collapsed": true
   },
   "outputs": [],
   "source": [
    "with open(path_data + \"subjects_roi_volume\", 'rb') as f:\n",
    "    roi_volume = pickle.load(f)"
   ]
  },
  {
   "cell_type": "code",
   "execution_count": null,
   "metadata": {
    "collapsed": true
   },
   "outputs": [],
   "source": []
  },
  {
   "cell_type": "code",
   "execution_count": null,
   "metadata": {
    "collapsed": true
   },
   "outputs": [],
   "source": []
  },
  {
   "cell_type": "code",
   "execution_count": null,
   "metadata": {
    "collapsed": true
   },
   "outputs": [],
   "source": []
  },
  {
   "cell_type": "code",
   "execution_count": null,
   "metadata": {
    "collapsed": true
   },
   "outputs": [],
   "source": []
  },
  {
   "cell_type": "code",
   "execution_count": null,
   "metadata": {
    "collapsed": true
   },
   "outputs": [],
   "source": []
  },
  {
   "cell_type": "code",
   "execution_count": null,
   "metadata": {
    "collapsed": true
   },
   "outputs": [],
   "source": [
    "# path_meshes = '/home/bgutman/datasets/HCP/'\n",
    "\n",
    "# mesh_coord, mesh_triangles = load_meshes_coor_tria(path_meshes)"
   ]
  },
  {
   "cell_type": "code",
   "execution_count": 2,
   "metadata": {
    "collapsed": true
   },
   "outputs": [],
   "source": [
    "A = tv_helper.linear_operator_from_mesh(mesh_coord, mesh_triangles)"
   ]
  },
  {
   "cell_type": "code",
   "execution_count": 3,
   "metadata": {
    "collapsed": true
   },
   "outputs": [],
   "source": [
    "l1 = 0.1  # l1 penalty\n",
    "l2 = 0.1  # l2 penalty\n",
    "tv = 0.1  # tv penalty"
   ]
  },
  {
   "cell_type": "code",
   "execution_count": 4,
   "metadata": {
    "collapsed": true
   },
   "outputs": [],
   "source": [
    "#path_data = \"/cobrain/groups/ml_group/data/HCP/cleaned_data/\""
   ]
  },
  {
   "cell_type": "code",
   "execution_count": 5,
   "metadata": {
    "collapsed": true
   },
   "outputs": [],
   "source": [
    "with open(path_data + \"normed_connectomes\", 'rb') as f:\n",
    "    Y = pickle.load(f)\n",
    "with open(path_data + \"subjects_log_jac\", 'rb') as f:\n",
    "    log_jac = pickle.load(f)\n",
    "with open(path_data + \"subjects_thinkness\", 'rb') as f:\n",
    "    thinkness = pickle.load(f)\n",
    "with open(path_data + \"subjects_mesh_area\", 'rb') as f:\n",
    "    mesh_area = pickle.load(f)\n",
    "with open(path_data + \"subjects_roi_thinkness\", 'rb') as f:\n",
    "    roi_thinkness = pickle.load(f)\n",
    "with open(path_data + \"subjects_roi_volume\", 'rb') as f:\n",
    "    roi_volume = pickle.load(f)\n",
    "with open(path_data + \"mean_mesh_labels\", 'rb') as f:\n",
    "    mean_labels = pickle.load(f)"
   ]
  },
  {
   "cell_type": "code",
   "execution_count": 428,
   "metadata": {
    "collapsed": true
   },
   "outputs": [],
   "source": [
    "params = {\n",
    "    'l1': [1e-7, 1e-3, 0.1, 0.5, 1, 10, 100],\n",
    "    \n",
    "    'l2': [1e-7, 1e-3, 0.1,0.5, 1, 10, 100],\n",
    "    \n",
    "    'tv': [1e-7, 1e-3, 0.1,0.5, 1, 10, 100],\n",
    "    \n",
    "    'penalty_start': [0,10,100,1000,10000],\n",
    "    \n",
    "}"
   ]
  },
  {
   "cell_type": "code",
   "execution_count": 370,
   "metadata": {
    "collapsed": true
   },
   "outputs": [],
   "source": []
  },
  {
   "cell_type": "code",
   "execution_count": null,
   "metadata": {
    "collapsed": true
   },
   "outputs": [],
   "source": []
  },
  {
   "cell_type": "code",
   "execution_count": null,
   "metadata": {
    "collapsed": true
   },
   "outputs": [],
   "source": [
    "param_grid ={'l1': [1e-7, 1e-3, 0.1, 0.5, 1, 10, 100],\n",
    "    \n",
    "             'l2': [1e-7, 1e-3, 0.1,0.5, 1, 10, 100],\n",
    "\n",
    "             'tv': [1e-7, 1e-3, 0.1,0.5, 1, 10, 100],\n",
    "\n",
    "             'penalty_start': [0,10,100,1000,10000],\n",
    "}"
   ]
  },
  {
   "cell_type": "code",
   "execution_count": null,
   "metadata": {
    "collapsed": true
   },
   "outputs": [],
   "source": [
    "StanS = StandardScaler()\n",
    "St_think =  StanS.fit_transform(thinkness)\n",
    "St_log_jac =  StanS.fit_transform(log_jac)\n",
    "St_mesh_area =  StanS.fit_transform(mesh_area)\n",
    "\n",
    "MinM = MinMaxScaler()\n",
    "MinM_think =  MinM.fit_transform(thinkness)\n",
    "MinM_log_jac =  MinM.fit_transform(log_jac)\n",
    "MinM_mesh_area =  MinM.fit_transform(mesh_area)"
   ]
  },
  {
   "cell_type": "code",
   "execution_count": null,
   "metadata": {
    "collapsed": true
   },
   "outputs": [],
   "source": [
    "score_st = []\n",
    "best_params_st = []\n",
    "score_mm = []\n",
    "best_params_mm = []\n",
    "for i in range(1,70):\n",
    "        for j in range(i,70):\n",
    "            if i!=4 and i!=39:\n",
    "                if np.sum(y[:,i,j])! = 0:\n",
    "                \n",
    "                    new_tria = get_meshes_coord_tria(mesh_triangles, mean_labels, i, j)\n",
    "                    A = tv_helper.linear_operator_from_mesh(mesh_coord, new_tria)\n",
    "\n",
    "                    X = get_nodes_attribute(St_think, St_log_jac,St_mesh_area, mean_labels, i, j)\n",
    "                    tvenet_estimator = estimators.LinearRegressionL2SmoothedL1TV(l1=0., l2=0., tv=0., A = A)\n",
    "                    GridSearch = GridSearchKFoldRegression(tvenet_estimator, param_grid, maximise=False, K = 10)\n",
    "                    GridSearch.fit(X, y[:,i, j])\n",
    "                    score_st += [GridSearch._best_results]\n",
    "                    best_params_st += [GridSearch._best_params]\n",
    "\n",
    "\n",
    "\n",
    "                    X = get_nodes_attribute(MinM_think, MinM_log_jac, MinM_mesh_area, mean_labels, i, j)\n",
    "\n",
    "                    tvenet_estimator = estimators.LinearRegressionL2SmoothedL1TV(l1=0.1, l2=0.1, tv=0.1, A = A)\n",
    "                    GridSearch = GridSearchKFoldRegression(tvenet_estimator, param_grid,maximise=False, K = 10)\n",
    "                    GridSearch.fit(X, y[:,i, j])\n",
    "                    score_mm += [GridSearch._best_results]\n",
    "                    best_params_mm += [GridSearch._best_params]"
   ]
  },
  {
   "cell_type": "code",
   "execution_count": null,
   "metadata": {
    "collapsed": true
   },
   "outputs": [],
   "source": [
    "score_st = np.array(score_st)\n",
    "best_params_st = np.array(best_params_st)\n",
    "score_mm = np.array(score_mm)\n",
    "best_params_mm = np.array(best_params_mm)"
   ]
  },
  {
   "cell_type": "code",
   "execution_count": 401,
   "metadata": {
    "collapsed": true
   },
   "outputs": [],
   "source": []
  },
  {
   "cell_type": "code",
   "execution_count": null,
   "metadata": {
    "collapsed": true
   },
   "outputs": [],
   "source": [
    "name_dir = 'exper_tv_nodes_to_edge'\n",
    "edge = '/edge[' + str(i) + ',' + str(j) + ']'\n",
    "if !os.path.exists(name_dir):\n",
    "    os.mkdir(name_dir)\n",
    "    \n",
    "    if !os.path.exists(name_dir + edge):\n",
    "        os.mkdir(name_dir + edge)\n",
    "\n",
    "with open(name_dir + edge + '/score_st.pkl', 'wb') as f:\n",
    "    pickle.dump(score_st,f)\n",
    "with open(name_dir + edge + '/score_mm.pkl', 'wb') as f:\n",
    "    pickle.dump(score_mm,f)\n",
    "with open(name_dir + edge + '/best_params_st.pkl', 'wb') as f:\n",
    "    pickle.dump(best_params_st,f)\n",
    "with open(name_dir + edge + '/best_params_mm.pkl', 'wb') as f:\n",
    "    pickle.dump(best_params_mm,f)"
   ]
  },
  {
   "cell_type": "code",
   "execution_count": null,
   "metadata": {
    "collapsed": true
   },
   "outputs": [],
   "source": []
  },
  {
   "cell_type": "code",
   "execution_count": null,
   "metadata": {
    "collapsed": true
   },
   "outputs": [],
   "source": []
  },
  {
   "cell_type": "code",
   "execution_count": null,
   "metadata": {
    "collapsed": true
   },
   "outputs": [],
   "source": []
  },
  {
   "cell_type": "code",
   "execution_count": null,
   "metadata": {
    "collapsed": true
   },
   "outputs": [],
   "source": []
  },
  {
   "cell_type": "code",
   "execution_count": null,
   "metadata": {
    "collapsed": true
   },
   "outputs": [],
   "source": []
  },
  {
   "cell_type": "code",
   "execution_count": null,
   "metadata": {
    "collapsed": true
   },
   "outputs": [],
   "source": []
  },
  {
   "cell_type": "code",
   "execution_count": null,
   "metadata": {
    "collapsed": true
   },
   "outputs": [],
   "source": []
  }
 ],
 "metadata": {
  "kernelspec": {
   "display_name": "Python 3",
   "language": "python",
   "name": "python3"
  },
  "language_info": {
   "codemirror_mode": {
    "name": "ipython",
    "version": 3
   },
   "file_extension": ".py",
   "mimetype": "text/x-python",
   "name": "python",
   "nbconvert_exporter": "python",
   "pygments_lexer": "ipython3",
   "version": "3.6.3"
  }
 },
 "nbformat": 4,
 "nbformat_minor": 2
}

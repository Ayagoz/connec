{
 "cells": [
  {
   "cell_type": "code",
   "execution_count": 1,
   "metadata": {
    "collapsed": true
   },
   "outputs": [],
   "source": [
    "import numpy as np \n",
    "from sklearn.model_selection import cross_val_score\n",
    "from sklearn.datasets import make_regression\n",
    "from custom_sklearn.flexible_linear import FlexibleLinearRegression"
   ]
  },
  {
   "cell_type": "code",
   "execution_count": 159,
   "metadata": {
    "collapsed": true
   },
   "outputs": [],
   "source": [
    "X, y = make_regression(100, 6)"
   ]
  },
  {
   "cell_type": "code",
   "execution_count": 160,
   "metadata": {},
   "outputs": [
    {
     "name": "stdout",
     "output_type": "stream",
     "text": [
      "(100, 6) (100,)\n"
     ]
    }
   ],
   "source": [
    "print(X.shape, y.shape)\n",
    "tria = np.array([[1,2,3],[2,3,4],[2,4,5],[4,5,6],[3,4,6]])"
   ]
  },
  {
   "cell_type": "code",
   "execution_count": 161,
   "metadata": {
    "collapsed": true
   },
   "outputs": [],
   "source": [
    "def integration_mesh_to_tria(triangles, meshes_think):\n",
    "    assert triangles.shape[-1] == 3, 'Not correct traingles, should consist of 3 nodes'\n",
    "    k, _ = triangles.shape\n",
    "    n, _ = meshes_think.shape\n",
    "    new_x = np.zeros((n, k))\n",
    "    \n",
    "    if min(triangles.reshape(-1)) != 0:\n",
    "        triangles -= 1\n",
    "    \n",
    "    for i in range(k):\n",
    "        new_x[:, i] = meshes_think[:, np.ix_(triangles[i])].mean(axis = -1).reshape(-1)\n",
    "    \n",
    "    return new_x"
   ]
  },
  {
   "cell_type": "code",
   "execution_count": 165,
   "metadata": {},
   "outputs": [],
   "source": [
    "new_x = integration_mesh_to_tria(tria, X)"
   ]
  },
  {
   "cell_type": "code",
   "execution_count": 166,
   "metadata": {
    "collapsed": true
   },
   "outputs": [],
   "source": [
    "from itertools import combinations\n",
    "def detection_of_intersection_tria(triangles, mode = 'node'):\n",
    "    assert triangles.shape[-1] == 3, 'Not correct traingles, should consist of 3 nodes'\n",
    "    k, _ = triangles.shape\n",
    "    indicator = np.zeros((k,k))\n",
    "    for i in range(k):\n",
    "        if mode == 'node':\n",
    "            edges = tuple(triangles[i])\n",
    "            for one in edges:\n",
    "                idx = np.where(np.isin(triangles[i+1:], [one]).sum(axis=-1) == 1)[0] + i + 1\n",
    "                indicator[i,np.ix_(idx)] = 1\n",
    "\n",
    "        else:\n",
    "            edges = list(combinations(triangles[i], r=2))\n",
    "            for one in edges:\n",
    "                idx = np.where(np.isin(triangles[i+1:], list(one)).sum(axis=-1) == 2)[0] + i + 1\n",
    "                indicator[i,np.ix_(idx)] = 1\n",
    "    #print(indicator)\n",
    "    return (indicator + indicator.T)"
   ]
  },
  {
   "cell_type": "code",
   "execution_count": 167,
   "metadata": {},
   "outputs": [
    {
     "data": {
      "text/plain": [
       "array([[ 0.,  1.,  1.,  0.,  1.],\n",
       "       [ 1.,  0.,  1.,  1.,  1.],\n",
       "       [ 1.,  1.,  0.,  1.,  1.],\n",
       "       [ 0.,  1.,  1.,  0.,  1.],\n",
       "       [ 1.,  1.,  1.,  1.,  0.]])"
      ]
     },
     "execution_count": 167,
     "metadata": {},
     "output_type": "execute_result"
    }
   ],
   "source": [
    "detection_of_intersection_tria(tria, mode = 'node')"
   ]
  },
  {
   "cell_type": "code",
   "execution_count": 204,
   "metadata": {
    "collapsed": true
   },
   "outputs": [],
   "source": [
    "from scipy.spatial.distance import squareform\n",
    "global tria \n",
    "\n",
    "def compute_manhat_and_sign(weights):\n",
    "    n = weights.shape[0]\n",
    "    i,j = np.tril_indices(n, k = -1)\n",
    "    w = weights.reshape(-1,1).copy()\n",
    "\n",
    "    a = squareform((w[:, np.newaxis, :] - w[np.newaxis, :, :]).reshape(n,n)[i,j])\n",
    "    \n",
    "    indic = detection_of_intersection_tria(tria, mode = 'node')\n",
    "    assert n == indic.shape[0], 'WTF, you should use a valid feature, TRIANGLES'\n",
    "    a = a * indic\n",
    "    manhat = np.abs(a)\n",
    "    sign_w = np.sign(a)\n",
    "\n",
    "    return manhat, sign_w"
   ]
  },
  {
   "cell_type": "code",
   "execution_count": 205,
   "metadata": {},
   "outputs": [],
   "source": [
    "def tvl1_normed_cost_func(z):\n",
    "    \n",
    "    abs_dist_w, sign_dist_w = compute_manhat_and_sign(z)\n",
    "    norm_w = np.linalg.norm(z)\n",
    "    if norm_w == 0:\n",
    "        return 0, np.zeros(len(z))\n",
    "    else:\n",
    "        cost = np.sum(abs_dist_w)/(2*norm_w**2)\n",
    "        dw = np.zeros(len(z))\n",
    "\n",
    "        i,j = np.tril_indices(z.shape[0],k = -1)\n",
    "\n",
    "        dw += z * np.sum(abs_dist_w)/ norm_w**4\n",
    "\n",
    "        for i in range(len(dw)):\n",
    "            idx = np.where(abs_dist_w[i] > 0)[0]\n",
    "            dw[i] += np.sum([(2* (i > j) - 1) * sign_dist_w[i, j] for j in idx])/(norm_w)**2\n",
    "      \n",
    "        return cost, dw"
   ]
  },
  {
   "cell_type": "code",
   "execution_count": 255,
   "metadata": {},
   "outputs": [],
   "source": [
    "flex = FlexibleLinearRegression(C=1e-8, reg_cost_func=tvl1_normed_cost_func)"
   ]
  },
  {
   "cell_type": "code",
   "execution_count": 256,
   "metadata": {
    "collapsed": true
   },
   "outputs": [],
   "source": [
    "from sklearn.model_selection import train_test_split"
   ]
  },
  {
   "cell_type": "code",
   "execution_count": 257,
   "metadata": {
    "collapsed": true
   },
   "outputs": [],
   "source": [
    "X_train, X_test, y_train, y_test = train_test_split(\n",
    "            new_x, y, test_size=0.33)"
   ]
  },
  {
   "cell_type": "code",
   "execution_count": 258,
   "metadata": {
    "scrolled": true
   },
   "outputs": [
    {
     "data": {
      "text/plain": [
       "FlexibleLinearRegression(C=1e-08, cost_func='l2', cost_opts=None,\n",
       "             reg_cost_func=<function tvl1_normed_cost_func at 0x7fb28ce409d8>,\n",
       "             reg_cost_opts=None)"
      ]
     },
     "execution_count": 258,
     "metadata": {},
     "output_type": "execute_result"
    }
   ],
   "source": [
    "flex.fit(X_train, y_train)"
   ]
  },
  {
   "cell_type": "code",
   "execution_count": 259,
   "metadata": {},
   "outputs": [
    {
     "data": {
      "text/plain": [
       "592.2687631367221"
      ]
     },
     "execution_count": 259,
     "metadata": {},
     "output_type": "execute_result"
    }
   ],
   "source": [
    "np.sum((y_train - flex.predict(X_train))**2)/len(y_train)"
   ]
  },
  {
   "cell_type": "code",
   "execution_count": 260,
   "metadata": {},
   "outputs": [
    {
     "data": {
      "text/plain": [
       "570.23144305138146"
      ]
     },
     "execution_count": 260,
     "metadata": {},
     "output_type": "execute_result"
    }
   ],
   "source": [
    "np.sum((y_test - flex.predict(X_test))**2)/len(y_test)"
   ]
  },
  {
   "cell_type": "code",
   "execution_count": null,
   "metadata": {
    "collapsed": true
   },
   "outputs": [],
   "source": []
  },
  {
   "cell_type": "code",
   "execution_count": null,
   "metadata": {
    "collapsed": true
   },
   "outputs": [],
   "source": []
  },
  {
   "cell_type": "code",
   "execution_count": null,
   "metadata": {
    "collapsed": true
   },
   "outputs": [],
   "source": []
  },
  {
   "cell_type": "code",
   "execution_count": null,
   "metadata": {
    "collapsed": true
   },
   "outputs": [],
   "source": []
  },
  {
   "cell_type": "code",
   "execution_count": null,
   "metadata": {
    "collapsed": true
   },
   "outputs": [],
   "source": []
  }
 ],
 "metadata": {
  "anaconda-cloud": {},
  "kernelspec": {
   "display_name": "Python [conda root]",
   "language": "python",
   "name": "conda-root-py"
  },
  "language_info": {
   "codemirror_mode": {
    "name": "ipython",
    "version": 3
   },
   "file_extension": ".py",
   "mimetype": "text/x-python",
   "name": "python",
   "nbconvert_exporter": "python",
   "pygments_lexer": "ipython3",
   "version": "3.5.2"
  }
 },
 "nbformat": 4,
 "nbformat_minor": 2
}

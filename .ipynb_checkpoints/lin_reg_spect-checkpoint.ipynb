{
 "cells": [
  {
   "cell_type": "code",
   "execution_count": null,
   "metadata": {},
   "outputs": [],
   "source": [
    "import numpy as np\n",
    "import scipy as sc \n",
    "import pandas as pd \n",
    "from scipy.integrate import quad\n",
    "from scipy.spatial.distance import squareform\n",
    "from numpy import random\n",
    "import networkx as nx\n",
    "import pickle\n",
    "\n",
    "from data_load import load_meshes_coor_tria, load_data\n",
    "\n",
    "import os\n",
    "from sklearn.linear_model import ElasticNet\n",
    "from sklearn.metrics import r2_score, mean_squared_error\n",
    "from sklearn.model_selection import StratifiedShuffleSplit, ShuffleSplit\n",
    "\n",
    "\n",
    "import matplotlib.pyplot as plt\n",
    "%matplotlib inline\n",
    "\n",
    "path_data  = '/cobrain/groups/ml_group/data/HCP/HCP/'\n",
    "connec , thinkness, log_jac, unique_labels, labels, mean_area_eq, idx_subj_connec, idx_subj_think, idx_subj_logjac = load_data(path_data)\n",
    "path_tria = '/cobrain/groups/ml_group/data/HCP/HCP/'\n",
    "name = \"_200_mean_IC5.m\"\n",
    "coord, tria = load_meshes_coor_tria(path_tria, name)"
   ]
  },
  {
   "cell_type": "code",
   "execution_count": 2,
   "metadata": {
    "collapsed": true
   },
   "outputs": [],
   "source": [
    "# with open(path_data + \"not_normed_connectomes\", 'rb') as f:\n",
    "#     Y = pickle.load(f)\n",
    "Y = connec[:,0,:,:]"
   ]
  },
  {
   "cell_type": "code",
   "execution_count": 3,
   "metadata": {},
   "outputs": [
    {
     "data": {
      "text/plain": [
       "((789, 20484), (789, 20484), (789, 20484), (20484,))"
      ]
     },
     "execution_count": 3,
     "metadata": {},
     "output_type": "execute_result"
    }
   ],
   "source": [
    "m = len(coord)//2\n",
    "new_thickness = np.concatenate([thinkness[:,0,:m], thinkness[:,1,:m]], axis = -1)\n",
    "\n",
    "new_log_jac = np.concatenate([log_jac[:,0,:m], log_jac[:,1,:m]], axis = -1)\n",
    "\n",
    "new_mesh_area = np.concatenate([mesh_area[:,0,:m], mesh_area[:,1,:m]], axis = -1)\n",
    "\n",
    "new_labels = np.concatenate([labels[0,:m], labels[1,:m]])\n",
    "new_thickness.shape, new_log_jac.shape, new_mesh_area.shape, new_labels.shape"
   ]
  },
  {
   "cell_type": "code",
   "execution_count": 4,
   "metadata": {
    "collapsed": true
   },
   "outputs": [],
   "source": [
    "thinkness = thinkness.reshape(789,-1)\n",
    "log_jac = log_jac.reshape(789,-1)\n",
    "mesh_area = mesh_area.reshape(789,-1)\n",
    "mean_labels = mean_labels.reshape(-1)\n",
    "idx = np.where(mean_labels != 0)[0]\n",
    "X1 = thinkness[:,idx]\n",
    "X2 = log_jac[:,idx] \n",
    "X3 = mesh_area[:,idx]"
   ]
  },
  {
   "cell_type": "code",
   "execution_count": 5,
   "metadata": {
    "collapsed": true
   },
   "outputs": [],
   "source": [
    "new_idx = np.where(new_labels != 0)[0]\n",
    "new_X1 = new_thickness[:,new_idx]\n",
    "new_X2 = new_log_jac[:,new_idx] \n",
    "new_X3 = new_mesh_area[:,new_idx]"
   ]
  },
  {
   "cell_type": "code",
   "execution_count": 5,
   "metadata": {
    "collapsed": true
   },
   "outputs": [],
   "source": [
    "def eigvals(Y):\n",
    "    T = np.array([np.diag(y.sum(axis = -1)) - y for y in Y])\n",
    "    E = np.array([sorted(np.linalg.eigvals(t))[1:] for t in T])\n",
    "    return E"
   ]
  },
  {
   "cell_type": "code",
   "execution_count": 6,
   "metadata": {},
   "outputs": [
    {
     "data": {
      "text/plain": [
       "(789, 68, 68)"
      ]
     },
     "execution_count": 6,
     "metadata": {},
     "output_type": "execute_result"
    }
   ],
   "source": [
    "Y.shape"
   ]
  },
  {
   "cell_type": "code",
   "execution_count": 7,
   "metadata": {
    "collapsed": true
   },
   "outputs": [],
   "source": [
    "Eig = eigvals(Y)"
   ]
  },
  {
   "cell_type": "code",
   "execution_count": 8,
   "metadata": {},
   "outputs": [
    {
     "data": {
      "text/plain": [
       "(789, 67)"
      ]
     },
     "execution_count": 8,
     "metadata": {},
     "output_type": "execute_result"
    }
   ],
   "source": [
    "Eig.shape"
   ]
  },
  {
   "cell_type": "code",
   "execution_count": 9,
   "metadata": {
    "collapsed": true
   },
   "outputs": [],
   "source": [
    "lin_reg = ElasticNet()\n",
    "ss = ShuffleSplit(n_splits=3, test_size=0.2)"
   ]
  },
  {
   "cell_type": "code",
   "execution_count": 10,
   "metadata": {},
   "outputs": [
    {
     "data": {
      "text/plain": [
       "(789, 18904)"
      ]
     },
     "execution_count": 10,
     "metadata": {},
     "output_type": "execute_result"
    }
   ],
   "source": [
    "new_X1.shape"
   ]
  },
  {
   "cell_type": "code",
   "execution_count": 11,
   "metadata": {},
   "outputs": [
    {
     "name": "stderr",
     "output_type": "stream",
     "text": [
      "/nmnt/media/home/ayagoz/anaconda3/lib/python3.5/site-packages/sklearn/linear_model/coordinate_descent.py:491: ConvergenceWarning: Objective did not converge. You might want to increase the number of iterations. Fitting data with very small alpha may cause precision problems.\n",
      "  ConvergenceWarning)\n"
     ]
    },
    {
     "name": "stdout",
     "output_type": "stream",
     "text": [
      "MSE train: 3764679.75, test: 117483256.0\n",
      "R2 train: 0.9707246030968945, test: 0.19076469899324222\n",
      "MSE train: 4012967.75, test: 93184704.0\n",
      "R2 train: 0.9706645485066137, test: 0.21486607358246276\n",
      "MSE train: 4095885.0, test: 95372688.0\n",
      "R2 train: 0.9695252013199028, test: 0.2689009111103208\n",
      "R2 train: 0.9695252013199028, test: 0.2248438945620086\n"
     ]
    }
   ],
   "source": [
    "r2_train = []\n",
    "r2_test = []\n",
    "for train_idx, test_idx in ss.split(new_X1):\n",
    "    X_train, y_train = new_X1[train_idx], Eig[train_idx]\n",
    "    X_test, y_test = new_X1[test_idx], Eig[test_idx]\n",
    "    \n",
    "    lin_reg.fit(X_train, y_train)\n",
    "    \n",
    "    r2_train += [r2_score(y_train, lin_reg.predict(X_train))]\n",
    "    \n",
    "    r2_test += [r2_score(y_test, lin_reg.predict(X_test))]\n",
    "    \n",
    "    print('MSE train: {}, test: {}'.format(mean_squared_error(y_train, lin_reg.predict(X_train)),\n",
    "                                          mean_squared_error(y_test, lin_reg.predict(X_test))))\n",
    "    \n",
    "    print('R2 train: {}, test: {}'.format(r2_train[-1], r2_test[-1]))\n",
    "    \n",
    "\n",
    "print('R2 train: {}, test: {}'.format(np.mean(r2_train[-1]), np.mean(r2_test)))"
   ]
  },
  {
   "cell_type": "code",
   "execution_count": null,
   "metadata": {
    "collapsed": true
   },
   "outputs": [],
   "source": []
  },
  {
   "cell_type": "code",
   "execution_count": null,
   "metadata": {
    "collapsed": true
   },
   "outputs": [],
   "source": []
  },
  {
   "cell_type": "code",
   "execution_count": null,
   "metadata": {
    "collapsed": true
   },
   "outputs": [],
   "source": []
  },
  {
   "cell_type": "code",
   "execution_count": null,
   "metadata": {
    "collapsed": true
   },
   "outputs": [],
   "source": []
  },
  {
   "cell_type": "code",
   "execution_count": null,
   "metadata": {
    "collapsed": true
   },
   "outputs": [],
   "source": []
  },
  {
   "cell_type": "code",
   "execution_count": null,
   "metadata": {
    "collapsed": true
   },
   "outputs": [],
   "source": []
  },
  {
   "cell_type": "code",
   "execution_count": null,
   "metadata": {
    "collapsed": true
   },
   "outputs": [],
   "source": []
  }
 ],
 "metadata": {
  "anaconda-cloud": {},
  "kernelspec": {
   "display_name": "Python 3",
   "language": "python",
   "name": "python3"
  },
  "language_info": {
   "codemirror_mode": {
    "name": "ipython",
    "version": 3
   },
   "file_extension": ".py",
   "mimetype": "text/x-python",
   "name": "python",
   "nbconvert_exporter": "python",
   "pygments_lexer": "ipython3",
   "version": "3.6.3"
  }
 },
 "nbformat": 4,
 "nbformat_minor": 1
}

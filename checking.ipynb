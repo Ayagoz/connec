{
 "cells": [
  {
   "cell_type": "code",
   "execution_count": 5,
   "metadata": {},
   "outputs": [
    {
     "name": "stdout",
     "output_type": "stream",
     "text": [
      "Connectomes:  (789, 2, 68, 68)\n",
      "Thinkness:  (789, 2, 163842)\n",
      "Log Jacob:  (789, 2, 163842)\n",
      "Unique Labels:  (789, 2, 163842)\n",
      "Mean Labels:  (2, 163842)\n",
      "Mean Area eq:  (2, 163842)\n"
     ]
    }
   ],
   "source": [
    "import numpy as np\n",
    "import scipy as sc \n",
    "import pandas as pd \n",
    "from scipy.integrate import quad\n",
    "from scipy.spatial.distance import squareform\n",
    "from numpy import random\n",
    "import networkx as nx\n",
    "import pickle\n",
    "\n",
    "from tv.data_load import load_data\n",
    "import os\n",
    "from sklearn.svm import SVC\n",
    "from sklearn.model_selection import StratifiedShuffleSplit\n",
    "\n",
    "import matplotlib.pyplot as plt\n",
    "%matplotlib inline\n",
    "\n",
    "path = '/home/bgutman/datasets/HCP/'\n",
    "connec , thinkness, log_jac, unique_labels, labels, mean_area_eq, idx_subj_connec, idx_subj_think, idx_subj_logjac = load_data(path)\n"
   ]
  },
  {
   "cell_type": "code",
   "execution_count": null,
   "metadata": {},
   "outputs": [],
   "source": [
    "np.where(labels[0]!=0)[0].shape, np.where(labels[1]!=0)[0].shape, "
   ]
  },
  {
   "cell_type": "code",
   "execution_count": 84,
   "metadata": {},
   "outputs": [
    {
     "data": {
      "text/plain": [
       "array([ 0.10931737,  0.00248825, -0.2810666 ,  0.26209646,  0.39557737,\n",
       "       -0.12322377,  0.29820508,  0.10148587, -0.04911281,  0.03229546], dtype=float32)"
      ]
     },
     "execution_count": 84,
     "metadata": {},
     "output_type": "execute_result"
    }
   ],
   "source": [
    "name = '_LogJac_2e-4_eq.raw'\n",
    "log_jac_rnd_subj = []\n",
    "for subj_id in rnd_idx:\n",
    "    with open(path_log_jac + subj_id + '/' + 'LH' + name, 'rb') as f:\n",
    "        l_log = np.fromfile(f, count=-1 ,dtype='float32')\n",
    "    with open(path_log_jac + subj_id + '/' + 'RH' + name, 'rb') as f:\n",
    "        r_log = np.fromfile(f, count=-1 ,dtype='float32')\n",
    "    log_jac_rnd_subj += [np.concatenate([l_log, r_log])]\n",
    "log_jac_rnd_subj[0][:10]"
   ]
  },
  {
   "cell_type": "code",
   "execution_count": 86,
   "metadata": {},
   "outputs": [
    {
     "data": {
      "text/plain": [
       "array([ 0.15088511,  0.0441572 , -0.24098271,  0.30375329,  0.43716973,\n",
       "       -0.08146474,  0.33986503,  0.14321454, -0.0074365 ,  0.07392117], dtype=float32)"
      ]
     },
     "execution_count": 86,
     "metadata": {},
     "output_type": "execute_result"
    }
   ],
   "source": [
    "name = '_LogJac_2e-4.raw'\n",
    "log_jac_rnd_subj = []\n",
    "for subj_id in rnd_idx:\n",
    "    with open(path_log_jac + subj_id + '/' + 'LH' + name, 'rb') as f:\n",
    "        l_log = np.fromfile(f, count=-1 ,dtype='float32')\n",
    "    with open(path_log_jac + subj_id + '/' + 'RH' + name, 'rb') as f:\n",
    "        r_log = np.fromfile(f, count=-1 ,dtype='float32')\n",
    "    log_jac_rnd_subj += [np.concatenate([l_log, r_log])]\n",
    "log_jac_rnd_subj[0][:10]"
   ]
  },
  {
   "cell_type": "code",
   "execution_count": 85,
   "metadata": {
    "scrolled": true
   },
   "outputs": [
    {
     "data": {
      "text/plain": [
       "array([ 0.16003117,  0.12447903, -0.22958869,  0.25944901,  0.40776467,\n",
       "       -0.08842522,  0.37073737,  0.22918081, -0.26744515,  0.08832674], dtype=float32)"
      ]
     },
     "execution_count": 85,
     "metadata": {},
     "output_type": "execute_result"
    }
   ],
   "source": [
    "name = '_LogJac_no_smooth.raw'\n",
    "log_jac_rnd_subj = []\n",
    "for subj_id in rnd_idx:\n",
    "    with open(path_log_jac + subj_id + '/' + 'LH' + name, 'rb') as f:\n",
    "        l_log = np.fromfile(f, count=-1 ,dtype='float32')\n",
    "    with open(path_log_jac + subj_id + '/' + 'RH' + name, 'rb') as f:\n",
    "        r_log = np.fromfile(f, count=-1 ,dtype='float32')\n",
    "    log_jac_rnd_subj += [np.concatenate([l_log, r_log])]\n",
    "log_jac_rnd_subj[0][:10]"
   ]
  },
  {
   "cell_type": "code",
   "execution_count": 87,
   "metadata": {},
   "outputs": [
    {
     "data": {
      "text/plain": [
       "array([ 0.11844908,  0.08272374, -0.27125239,  0.21779856,  0.36620718,\n",
       "       -0.13027602,  0.32908732,  0.1874184 , -0.30914211,  0.04677144], dtype=float32)"
      ]
     },
     "execution_count": 87,
     "metadata": {},
     "output_type": "execute_result"
    }
   ],
   "source": [
    "name = '_LogJac_no_smooth_eq.raw'\n",
    "log_jac_rnd_subj = []\n",
    "for subj_id in rnd_idx:\n",
    "    with open(path_log_jac + subj_id + '/' + 'LH' + name, 'rb') as f:\n",
    "        l_log = np.fromfile(f, count=-1 ,dtype='float32')\n",
    "    with open(path_log_jac + subj_id + '/' + 'RH' + name, 'rb') as f:\n",
    "        r_log = np.fromfile(f, count=-1 ,dtype='float32')\n",
    "    log_jac_rnd_subj += [np.concatenate([l_log, r_log])]\n",
    "log_jac_rnd_subj[0][:10]"
   ]
  },
  {
   "cell_type": "code",
   "execution_count": null,
   "metadata": {
    "collapsed": true
   },
   "outputs": [],
   "source": []
  },
  {
   "cell_type": "code",
   "execution_count": null,
   "metadata": {
    "collapsed": true
   },
   "outputs": [],
   "source": []
  },
  {
   "cell_type": "code",
   "execution_count": 6,
   "metadata": {},
   "outputs": [
    {
     "name": "stdout",
     "output_type": "stream",
     "text": [
      "[ 0.10931737  0.00248825 -0.2810666   0.26209646  0.39557737 -0.12322377\n",
      "  0.29820508  0.10148587 -0.04911281  0.03229546]\n"
     ]
    },
    {
     "ename": "NameError",
     "evalue": "name 'idx_0' is not defined",
     "output_type": "error",
     "traceback": [
      "\u001b[0;31m----------------------------------------------------------------------\u001b[0m",
      "\u001b[0;31mNameError\u001b[0m                            Traceback (most recent call last)",
      "\u001b[0;32m<ipython-input-6-d00297af7d22>\u001b[0m in \u001b[0;36m<module>\u001b[0;34m()\u001b[0m\n\u001b[1;32m     40\u001b[0m \u001b[0;34m\u001b[0m\u001b[0m\n\u001b[1;32m     41\u001b[0m \u001b[0mlabels\u001b[0m \u001b[0;34m=\u001b[0m \u001b[0mlabels\u001b[0m\u001b[0;34m.\u001b[0m\u001b[0mreshape\u001b[0m\u001b[0;34m(\u001b[0m\u001b[0;34m-\u001b[0m\u001b[0;36m1\u001b[0m\u001b[0;34m)\u001b[0m\u001b[0;34m\u001b[0m\u001b[0m\n\u001b[0;32m---> 42\u001b[0;31m \u001b[0mareas\u001b[0m \u001b[0;34m=\u001b[0m \u001b[0;34m(\u001b[0m\u001b[0mmean_area_eq\u001b[0m \u001b[0;34m*\u001b[0m \u001b[0mnp\u001b[0m\u001b[0;34m.\u001b[0m\u001b[0mexp\u001b[0m\u001b[0;34m(\u001b[0m\u001b[0mlog_jac_rnd_subj\u001b[0m\u001b[0;34m)\u001b[0m\u001b[0;34m)\u001b[0m\u001b[0;34m[\u001b[0m\u001b[0;34m:\u001b[0m\u001b[0;34m,\u001b[0m\u001b[0midx_0\u001b[0m\u001b[0;34m]\u001b[0m\u001b[0;34m.\u001b[0m\u001b[0msum\u001b[0m\u001b[0;34m(\u001b[0m\u001b[0maxis\u001b[0m \u001b[0;34m=\u001b[0m \u001b[0;34m-\u001b[0m\u001b[0;36m1\u001b[0m\u001b[0;34m)\u001b[0m\u001b[0;34m\u001b[0m\u001b[0m\n\u001b[0m\u001b[1;32m     43\u001b[0m \u001b[0mvolumes\u001b[0m \u001b[0;34m=\u001b[0m \u001b[0;34m(\u001b[0m\u001b[0mmean_area_eq\u001b[0m \u001b[0;34m*\u001b[0m \u001b[0mnp\u001b[0m\u001b[0;34m.\u001b[0m\u001b[0mexp\u001b[0m\u001b[0;34m(\u001b[0m\u001b[0mlog_jac_rnd_subj\u001b[0m\u001b[0;34m)\u001b[0m\u001b[0;34m*\u001b[0m\u001b[0mthick_rnd_subj\u001b[0m\u001b[0;34m)\u001b[0m\u001b[0;34m[\u001b[0m\u001b[0;34m:\u001b[0m\u001b[0;34m,\u001b[0m\u001b[0midx_0\u001b[0m\u001b[0;34m]\u001b[0m\u001b[0;34m.\u001b[0m\u001b[0msum\u001b[0m\u001b[0;34m(\u001b[0m\u001b[0maxis\u001b[0m\u001b[0;34m=\u001b[0m \u001b[0;34m-\u001b[0m\u001b[0;36m1\u001b[0m\u001b[0;34m)\u001b[0m\u001b[0;34m\u001b[0m\u001b[0m\n\u001b[1;32m     44\u001b[0m \u001b[0;34m\u001b[0m\u001b[0m\n",
      "\u001b[0;31mNameError\u001b[0m: name 'idx_0' is not defined"
     ]
    }
   ],
   "source": [
    "rnd_idx = np.array(['212823', '633847', '201818', '770352', '111312', '201414',\n",
    "       '614439', '453441', '175338', '177746'])\n",
    "rnd_idx\n",
    "\n",
    "path_thick = '/home/bgutman/datasets/HCP/FreeSurfer/thickness/'\n",
    "path_log_jac = '/home/bgutman/datasets/HCP/FreeSurfer/LogJacobian/'\n",
    "\n",
    "thick_rnd_subj = []\n",
    "for subj_id in rnd_idx:\n",
    "    with open(path_thick + subj_id + '/' + 'LH_thick_smooth_2e-4.raw', 'rb') as f:\n",
    "        l_th = np.fromfile(f, count=-1 ,dtype='float32')\n",
    "        l_th = np.where(l_th < 0, 0, l_th)\n",
    "    \n",
    "    with open(path_thick + subj_id + '/' + 'RH_thick_smooth_2e-4.raw', 'rb') as f:\n",
    "        r_th = np.fromfile(f, count=-1 ,dtype='float32')\n",
    "        r_th = np.where(r_th < 0, 0, r_th)\n",
    "    thick_rnd_subj += [np.concatenate([l_th, r_th])]\n",
    "    \n",
    "\n",
    "thick_rnd_subj = np.array(thick_rnd_subj)\n",
    "thick_rnd_subj.shape\n",
    "\n",
    "log_jac_rnd_subj = []\n",
    "for subj_id in rnd_idx:\n",
    "    with open(path_log_jac + subj_id + '/' + 'LH_LogJac_2e-4_eq.raw', 'rb') as f:\n",
    "        l_log = np.fromfile(f, count=-1 ,dtype='float32')\n",
    "    with open(path_log_jac + subj_id + '/' + 'RH_LogJac_2e-4_eq.raw', 'rb') as f:\n",
    "        r_log = np.fromfile(f, count=-1 ,dtype='float32')\n",
    "    log_jac_rnd_subj += [np.concatenate([l_log, r_log])]\n",
    "print(log_jac_rnd_subj[0][:10])\n",
    "log_jac_rnd_subj = -np.array(log_jac_rnd_subj)\n",
    "log_jac_rnd_subj.shape\n",
    "mean_area_eq = []\n",
    "with open('/home/bgutman/datasets/HCP/' + 'LH_mean_area.raw', 'rb') as f:\n",
    "    mean_area_eq += list(np.fromfile(f, count=-1 ,dtype='float32'))\n",
    "with open('/home/bgutman/datasets/HCP/' + 'RH_mean_area.raw', 'rb') as f:\n",
    "    mean_area_eq += list(np.fromfile(f, count=-1 ,dtype='float32'))\n",
    "\n",
    "mean_area_eq = np.array(mean_area_eq)\n",
    "\n",
    "labels = labels.reshape(-1)\n",
    "areas = (mean_area_eq * np.exp(log_jac_rnd_subj))[:,idx_0].sum(axis = -1)\n",
    "volumes = (mean_area_eq * np.exp(log_jac_rnd_subj)*thick_rnd_subj)[:,idx_0].sum(axis= -1)\n",
    "\n",
    "for i in range(len(rnd_idx)):\n",
    "    print('idx {}  area {} vol {}'.format(rnd_idx[i], areas[i], volumes[i]))"
   ]
  },
  {
   "cell_type": "code",
   "execution_count": null,
   "metadata": {
    "collapsed": true
   },
   "outputs": [],
   "source": []
  },
  {
   "cell_type": "code",
   "execution_count": 7,
   "metadata": {
    "collapsed": true
   },
   "outputs": [],
   "source": [
    "def compute_area_volume(s_id, path):\n",
    "    \n",
    "    # load Log Jacobian\n",
    "    local_dir = 'FreeSurfer/LogJacobian/{}/'.format(s_id)\n",
    "    filename = ['LH_LogJac_2e-4.raw','RH_LogJac_2e-4.raw']\n",
    "    \n",
    "    \n",
    "    \n",
    "    LH_Jacobian = np.fromfile('{}{}{}'.format(path, \n",
    "                                              local_dir,\n",
    "                                              filename[0]),\n",
    "                              dtype='float32')\n",
    "    \n",
    "    RH_Jacobian = np.fromfile('{}{}{}'.format(path, \n",
    "                                              local_dir,\n",
    "                                              filename[1]),\n",
    "                              dtype='float32')\n",
    "    # load area template\n",
    "    LH_area_template = np.fromfile('{}{}'.format(path, 'LH_mean_area.raw'),\n",
    "                                   dtype='float32')\n",
    "    RH_area_template = np.fromfile('{}{}'.format(path, 'RH_mean_area.raw'),\n",
    "                                   dtype='float32')\n",
    "    \n",
    "    LH_labels = np.fromfile('{}{}'.format(path, 'LH_labels_MajVote.raw'),\n",
    "                                   dtype='float32')\n",
    "    \n",
    "    RH_labels = np.fromfile('{}{}'.format(path, 'RH_labels_MajVote.raw'),\n",
    "                                   dtype='float32')\n",
    "    \n",
    "    LH_labels = np.where(LH_labels > 0, 1, 0)\n",
    "    RH_labels = np.where(RH_labels > 0, 1, 0)\n",
    "    \n",
    "    \n",
    "    # load thickness \n",
    "    local_dir = 'FreeSurfer/thickness/{}/'.format(s_id)\n",
    "    filename = ['LH_thick_smooth_2e-4.raw','RH_thick_smooth_2e-4.raw']\n",
    "    \n",
    "       \n",
    "    LH_thick = np.fromfile('{}{}{}'.format(path,\n",
    "                                           local_dir,\n",
    "                                           filename[0]),\n",
    "                          dtype='float32')\n",
    "    RH_thick = np.fromfile('{}{}{}'.format(path,\n",
    "                                           local_dir,\n",
    "                                           filename[1]),\n",
    "                          dtype='float32')\n",
    "    \n",
    "    area = (np.exp(LH_Jacobian) * LH_area_template * LH_labels).sum() + \\\n",
    "    (np.exp(RH_Jacobian) * RH_area_template * RH_labels).sum()\n",
    "        \n",
    "    volume = (np.exp(LH_Jacobian) * LH_area_template * LH_thick * LH_labels).sum() + \\\n",
    "    (np.exp(RH_Jacobian) * RH_area_template * RH_thick * RH_labels).sum()\n",
    "    \n",
    "    return area, volume"
   ]
  },
  {
   "cell_type": "code",
   "execution_count": 8,
   "metadata": {
    "collapsed": true
   },
   "outputs": [],
   "source": [
    "PATH = '/home/bgutman/datasets/HCP/'"
   ]
  },
  {
   "cell_type": "code",
   "execution_count": 9,
   "metadata": {
    "scrolled": false
   },
   "outputs": [
    {
     "name": "stdout",
     "output_type": "stream",
     "text": [
      "s_id: 212823, area: 141791.7789734751, vol: 367066.78901723924\n",
      "s_id: 633847, area: 132819.8247544989, vol: 345176.10007971834\n",
      "s_id: 201818, area: 118851.45641564205, vol: 324977.3467972155\n",
      "s_id: 770352, area: 128706.21440098435, vol: 340348.9438486902\n",
      "s_id: 111312, area: 122803.71250853315, vol: 308567.76620729326\n",
      "s_id: 201414, area: 127562.36112456024, vol: 333515.2210892493\n",
      "s_id: 614439, area: 122088.34744047746, vol: 327528.94541855535\n",
      "s_id: 453441, area: 138462.26440973952, vol: 349508.5503493956\n",
      "s_id: 175338, area: 152127.04454194382, vol: 369978.4706571568\n",
      "s_id: 177746, area: 124062.51114761084, vol: 341055.28749491984\n"
     ]
    }
   ],
   "source": [
    "for subject in rnd_idx:\n",
    "    area, volume = compute_area_volume(subject, PATH)\n",
    "    print('s_id: {}, area: {}, vol: {}'.format(subject,area, volume))"
   ]
  },
  {
   "cell_type": "code",
   "execution_count": null,
   "metadata": {
    "collapsed": true
   },
   "outputs": [],
   "source": []
  },
  {
   "cell_type": "code",
   "execution_count": null,
   "metadata": {
    "collapsed": true
   },
   "outputs": [],
   "source": []
  },
  {
   "cell_type": "code",
   "execution_count": 35,
   "metadata": {},
   "outputs": [
    {
     "data": {
      "text/plain": [
       "array([  1.,   2.,   3.,   5.,   6.,   7.,   8.,   9.,  10.,  11.,  12.,\n",
       "        13.,  14.,  15.,  16.,  17.,  18.,  19.,  20.,  21.,  22.,  23.,\n",
       "        24.,  25.,  26.,  27.,  28.,  29.,  30.,  31.,  32.,  33.,  34.,\n",
       "        35.,  36.,  37.,  38.,  40.,  41.,  42.,  43.,  44.,  45.,  46.,\n",
       "        47.,  48.,  49.,  50.,  51.,  52.,  53.,  54.,  55.,  56.,  57.,\n",
       "        58.,  59.,  60.,  61.,  62.,  63.,  64.,  65.,  66.,  67.,  68.,\n",
       "        69.,  70.], dtype=float32)"
      ]
     },
     "execution_count": 35,
     "metadata": {},
     "output_type": "execute_result"
    }
   ],
   "source": [
    "idx_nodes = np.unique(labels)[1:]\n",
    "idx_nodes"
   ]
  },
  {
   "cell_type": "code",
   "execution_count": 38,
   "metadata": {
    "collapsed": true
   },
   "outputs": [],
   "source": [
    "idx_0 = np.where(labels!=0)[0]"
   ]
  },
  {
   "cell_type": "code",
   "execution_count": 44,
   "metadata": {},
   "outputs": [
    {
     "name": "stdout",
     "output_type": "stream",
     "text": [
      "subj 212823 area 94981.75\n",
      "subj 633847 area 96699.21875\n",
      "subj 201818 area 95795.0390625\n",
      "subj 770352 area 95812.0625\n",
      "subj 111312 area 97349.453125\n",
      "subj 201414 area 96793.8046875\n",
      "subj 614439 area 97260.8125\n",
      "subj 453441 area 94802.2109375\n",
      "subj 175338 area 92645.15625\n",
      "subj 177746 area 97645.5\n"
     ]
    }
   ],
   "source": [
    "i = 0\n",
    "for one in (mean_area_eq * np.exp(log_jac_rnd_subj))[:,idx_0].sum(axis = -1):\n",
    "    print('subj {} area {}'.format(rnd_idx[i], one))\n",
    "    i+=1"
   ]
  },
  {
   "cell_type": "code",
   "execution_count": 45,
   "metadata": {},
   "outputs": [
    {
     "name": "stdout",
     "output_type": "stream",
     "text": [
      "subj 212823 vol 245882.625\n",
      "subj 633847 vol 251324.9375\n",
      "subj 201818 vol 261945.828125\n",
      "subj 770352 vol 253356.796875\n",
      "subj 111312 vol 244648.515625\n",
      "subj 201414 vol 253058.4375\n",
      "subj 614439 vol 260917.546875\n",
      "subj 453441 vol 239302.453125\n",
      "subj 175338 vol 225320.734375\n",
      "subj 177746 vol 268432.9375\n"
     ]
    }
   ],
   "source": [
    "i = 0\n",
    "for one in (mean_area_eq * np.exp(log_jac_rnd_subj)*thick_rnd_subj)[:,idx_0].sum(axis = -1):\n",
    "    print('subj {} vol {}'.format(rnd_idx[i], one))\n",
    "    i +=1"
   ]
  },
  {
   "cell_type": "code",
   "execution_count": 46,
   "metadata": {},
   "outputs": [
    {
     "data": {
      "text/plain": [
       "(10, 302310)"
      ]
     },
     "execution_count": 46,
     "metadata": {},
     "output_type": "execute_result"
    }
   ],
   "source": [
    "(mean_area_eq * np.exp(log_jac_rnd_subj)*thick_rnd_subj)[:,idx_0]"
   ]
  },
  {
   "cell_type": "code",
   "execution_count": null,
   "metadata": {
    "collapsed": true
   },
   "outputs": [],
   "source": []
  },
  {
   "cell_type": "code",
   "execution_count": null,
   "metadata": {
    "collapsed": true
   },
   "outputs": [],
   "source": []
  },
  {
   "cell_type": "code",
   "execution_count": null,
   "metadata": {
    "collapsed": true
   },
   "outputs": [],
   "source": []
  },
  {
   "cell_type": "code",
   "execution_count": null,
   "metadata": {
    "collapsed": true
   },
   "outputs": [],
   "source": []
  },
  {
   "cell_type": "code",
   "execution_count": 3,
   "metadata": {},
   "outputs": [
    {
     "name": "stdout",
     "output_type": "stream",
     "text": [
      "[ 1  2  3  5  6  7  8  9 10 11 12 13 14 15 16 17 18 19 20 21 22 23 24 25 26\n",
      " 27 28 29 30 31 32 33 34 35 36 37 38 40 41 42 43 44 45 46 47 48 49 50 51 52\n",
      " 53 54 55 56 57 58 59 60 61 62 63 64 65 66 67 68 69 70]\n",
      "[  0.   1.   2.   3.   5.   6.   7.   8.   9.  10.  11.  12.  13.  14.  15.\n",
      "  16.  17.  18.  19.  20.  21.  22.  23.  24.  25.  26.  27.  28.  29.  30.\n",
      "  31.  32.  33.  34.  35.  36.  37.  38.  40.  41.  42.  43.  44.  45.  46.\n",
      "  47.  48.  49.  50.  51.  52.  53.  54.  55.  56.  57.  58.  59.  60.  61.\n",
      "  62.  63.  64.  65.  66.  67.  68.  69.  70.]\n"
     ]
    }
   ],
   "source": [
    "idx_nodes = list(range(1,4)) + list(range(5,39)) + list(range(40,71))\n",
    "idx_nodes = np.array(idx_nodes)\n",
    "print(idx_nodes)\n",
    "print(np.unique(labels))"
   ]
  },
  {
   "cell_type": "code",
   "execution_count": 4,
   "metadata": {
    "collapsed": true
   },
   "outputs": [],
   "source": [
    "thinkness = thinkness.reshape(789,-1)\n",
    "log_jac = log_jac.reshape(789,-1)\n",
    "labels = labels.reshape(-1).astype(int)\n",
    "mean_area_eq = mean_area_eq.reshape(-1)"
   ]
  },
  {
   "cell_type": "code",
   "execution_count": 5,
   "metadata": {
    "collapsed": true
   },
   "outputs": [],
   "source": [
    "roi_thick = np.array([np.mean(thinkness[:,np.where(labels==node)[0]], axis = -1) for node in idx_nodes]).T\n"
   ]
  },
  {
   "cell_type": "code",
   "execution_count": 6,
   "metadata": {
    "collapsed": true
   },
   "outputs": [],
   "source": [
    "roi_area = np.array([np.sum(mean_area_eq[np.where(labels==node)[0]]*np.exp(log_jac[:,np.where(labels==node)[0]]),\n",
    "                             axis = -1) \n",
    "                             for node in idx_nodes]).T"
   ]
  },
  {
   "cell_type": "code",
   "execution_count": 7,
   "metadata": {},
   "outputs": [
    {
     "name": "stdout",
     "output_type": "stream",
     "text": [
      "(789, 68) (789, 68) (789, 68)\n"
     ]
    }
   ],
   "source": [
    "roi_vol = np.array([np.sum(mean_area_eq[np.where(labels==node)[0]]*np.exp(log_jac[:,np.where(labels==node)[0]]) * thinkness[:,np.where(labels == node)[0]],\n",
    "                             axis = -1) \n",
    "                             for node in idx_nodes]).T\n",
    "\n",
    "print(roi_area.shape, roi_thick.shape,roi_vol.shape)\n"
   ]
  },
  {
   "cell_type": "code",
   "execution_count": null,
   "metadata": {
    "collapsed": true
   },
   "outputs": [],
   "source": []
  },
  {
   "cell_type": "code",
   "execution_count": null,
   "metadata": {
    "collapsed": true
   },
   "outputs": [],
   "source": [
    "with open('meta_HCP_for_Ayagoz.csv', 'rb') as f:\n",
    "    meta = pd.read_csv(f)"
   ]
  },
  {
   "cell_type": "code",
   "execution_count": null,
   "metadata": {
    "collapsed": true
   },
   "outputs": [],
   "source": [
    "meta['Gender'] = meta['Gender'].astype('category')\n",
    "meta['Age'] = meta['Age'].astype('category')\n",
    "meta['Age'] = meta['Age'].cat.codes\n",
    "meta[\"Gender\"] = meta['Gender'].cat.codes"
   ]
  },
  {
   "cell_type": "code",
   "execution_count": null,
   "metadata": {
    "collapsed": true
   },
   "outputs": [],
   "source": [
    "idx_women = np.where(np.array(meta.Gender) == 0)[0]\n",
    "idx_men = np.where(np.array(meta.Gender) == 1)[0]"
   ]
  },
  {
   "cell_type": "code",
   "execution_count": null,
   "metadata": {
    "collapsed": true
   },
   "outputs": [],
   "source": [
    "plt.hist(roi_area[idx_men])\n",
    "plt.hist(roi_area[idx_women], alpha  = 0.7);"
   ]
  },
  {
   "cell_type": "code",
   "execution_count": null,
   "metadata": {
    "collapsed": true
   },
   "outputs": [],
   "source": [
    "plt.hist(roi_vol[idx_men])\n",
    "plt.hist(roi_vol[idx_women], alpha  = 0.7);"
   ]
  },
  {
   "cell_type": "code",
   "execution_count": 39,
   "metadata": {
    "collapsed": true
   },
   "outputs": [],
   "source": []
  },
  {
   "cell_type": "code",
   "execution_count": 8,
   "metadata": {},
   "outputs": [
    {
     "data": {
      "text/plain": [
       "array([406, 619, 369, 685,  39, 367, 608, 529, 275, 286])"
      ]
     },
     "execution_count": 8,
     "metadata": {},
     "output_type": "execute_result"
    }
   ],
   "source": [
    "rnd_idx"
   ]
  },
  {
   "cell_type": "code",
   "execution_count": 12,
   "metadata": {
    "collapsed": true
   },
   "outputs": [],
   "source": [
    "path_b = '/home/bgutman/datasets/HCP/Connectomes/'\n",
    "name = '_NxNmatrix_FULL_NORM.txt'\n",
    "idx_nodes = np.array(list(range(3)) + list(range(4,38)) + list(range(39, 70)))\n",
    "rnd_10_subj_thick = []\n",
    "for idx in idx_subj_connec[rnd_idx]:\n",
    "    with open(path_b+ idx + '/con/' + idx + name, 'rb') as f:\n",
    "        t1 = np.loadtxt(f, dtype='float32')\n",
    "        np.fill_diagonal(t1,0)\n",
    "        t1 = t1[np.ix_(idx_nodes,idx_nodes)]\n",
    "    rnd_10_subj_thick += [t1]"
   ]
  },
  {
   "cell_type": "code",
   "execution_count": 23,
   "metadata": {
    "collapsed": true
   },
   "outputs": [],
   "source": [
    "path_t = '/home/bgutman/datasets/HCP/FreeSurfer/thickness/'\n",
    "with open(path_t + idx1 + '/' + 'LH_thick_smooth_2e-4.raw', 'rb') as f:\n",
    "    th1 = np.fromfile(f, count=-1 ,dtype='float32')\n",
    "    th1 = np.where(th1 < 0, 0, th1)"
   ]
  },
  {
   "cell_type": "code",
   "execution_count": 24,
   "metadata": {},
   "outputs": [
    {
     "data": {
      "text/plain": [
       "True"
      ]
     },
     "execution_count": 24,
     "metadata": {},
     "output_type": "execute_result"
    }
   ],
   "source": [
    "np.allclose(thinkness[453, 0, :], th1)"
   ]
  },
  {
   "cell_type": "code",
   "execution_count": 25,
   "metadata": {
    "collapsed": true
   },
   "outputs": [],
   "source": [
    "with open(path_t + idx2 + '/' + 'LH_thick_smooth_2e-4.raw', 'rb') as f:\n",
    "    th2 = np.fromfile(f, count=-1 ,dtype='float32')\n",
    "    th2 = np.where(th2 < 0, 0, th2)"
   ]
  },
  {
   "cell_type": "code",
   "execution_count": 26,
   "metadata": {},
   "outputs": [
    {
     "data": {
      "text/plain": [
       "True"
      ]
     },
     "execution_count": 26,
     "metadata": {},
     "output_type": "execute_result"
    }
   ],
   "source": [
    "np.allclose(thinkness[788, 0, :], th2)"
   ]
  },
  {
   "cell_type": "code",
   "execution_count": 35,
   "metadata": {
    "collapsed": true
   },
   "outputs": [],
   "source": [
    "path_l = '/home/bgutman/datasets/HCP/FreeSurfer/LogJacobian/'\n",
    "with open(path_l + idx1 + '/' + 'LH_LogJac_2e-4_eq.raw', 'rb') as f:\n",
    "    l1 = np.fromfile(f, count=-1 ,dtype='float32')"
   ]
  },
  {
   "cell_type": "code",
   "execution_count": 36,
   "metadata": {},
   "outputs": [
    {
     "data": {
      "text/plain": [
       "True"
      ]
     },
     "execution_count": 36,
     "metadata": {},
     "output_type": "execute_result"
    }
   ],
   "source": [
    "np.allclose(log_jac[453, 1, :], l1)"
   ]
  },
  {
   "cell_type": "code",
   "execution_count": null,
   "metadata": {
    "collapsed": true
   },
   "outputs": [],
   "source": []
  },
  {
   "cell_type": "code",
   "execution_count": null,
   "metadata": {
    "collapsed": true
   },
   "outputs": [],
   "source": []
  },
  {
   "cell_type": "code",
   "execution_count": null,
   "metadata": {
    "collapsed": true
   },
   "outputs": [],
   "source": []
  },
  {
   "cell_type": "code",
   "execution_count": null,
   "metadata": {
    "collapsed": true
   },
   "outputs": [],
   "source": []
  },
  {
   "cell_type": "code",
   "execution_count": null,
   "metadata": {
    "collapsed": true
   },
   "outputs": [],
   "source": []
  }
 ],
 "metadata": {
  "kernelspec": {
   "display_name": "Python 3",
   "language": "python",
   "name": "python3"
  }
 },
 "nbformat": 4,
 "nbformat_minor": 2
}

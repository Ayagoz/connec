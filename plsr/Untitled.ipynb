{
 "cells": [
  {
   "cell_type": "code",
   "execution_count": 1,
   "metadata": {
    "collapsed": true
   },
   "outputs": [],
   "source": [
    "import numpy as np\n",
    "import pandas as pd \n",
    "import os\n",
    "import sys\n",
    "import pickle\n",
    "\n",
    "from sklearn.metrics import r2_score\n",
    "from sklearn.model_selection import train_test_split\n",
    "from sklearn.cross_decomposition import PLSRegression, PLSCanonical, PLSSVD\n",
    "\n",
    "from utils import load_data, roi_transformer, meshes_transformer, edge_convert, node_convert \n",
    "\n",
    "def PLSReg_loop(X, y, params, number_rnd):\n",
    "        \n",
    "    row = 0\n",
    "    results = pd.DataFrame(columns=['n_components', 'max_iter', 'random_state', 'r2_test', 'r2_train'])\n",
    "    \n",
    "    n_components = params['n_components']\n",
    "    max_iter = params['max_iter']\n",
    "    random_states = np.random.randint(0, 10000, number_rnd)\n",
    "    \n",
    "    x_load = []\n",
    "    y_load = []\n",
    "    \n",
    "    for n in n_components:\n",
    "        for m in max_iter:\n",
    "            x_loc = []\n",
    "            y_loc = []\n",
    "            for r in random_states:\n",
    "                print('PARAMS n_components: {}, max_iter: {}, random_state: {}'.format(n, m, r))\n",
    "                plsr = PLSRegression()\n",
    "                plsr.set_params(**{'n_components':n, 'max_iter':m})\n",
    "                X_train, X_test, y_train, y_test = train_test_split(X, y, test_size=0.2, random_state=r)\n",
    "                plsr.fit(X_train, y_train)\n",
    "\n",
    "                x_loc += [plsr.x_loadings_]\n",
    "                y_loc += [plsr.y_loadings_]\n",
    "                \n",
    "                r2_test = plsr.score(X_test, y_test)\n",
    "                r2_train = plsr.score(X_train, y_train)                \n",
    "\n",
    "                results.loc[row] = [n, m, r, r2_test, r2_train]\n",
    "                row += 1\n",
    "                \n",
    "            x_load += [np.array(x_loc)]\n",
    "            y_load += [np.array(y_loc)]\n",
    "\n",
    "    x_load = np.array(x_load)\n",
    "    y_load = np.array(y_load)\n",
    "    \n",
    "    \n",
    "    results.to_csv(params['name'] + '_results')\n",
    "    \n",
    "    with open(params['name'] + '_x_load', 'wb') as f:\n",
    "        pickle.dump(x_load)\n",
    "    \n",
    "    with open(params['name'] + '_y_load', 'wb') as f:\n",
    "        pickle.dump(y_load)\n",
    "\n",
    "def main():\n",
    "    path_data = sys.argv[1]\n",
    "    type_X_data = sys.argv[2]\n",
    "    morphometry = sys.argv[3]\n",
    "    type_Y_data = sys.argv[4]\n",
    "    number_rnd = sys.argv[5]\n",
    "    \n",
    "    \n",
    "    data, labels, mean_area = load_data(path_data)\n",
    "\n",
    "    if type_X_data == 'all_meshes':\n",
    "        X = meshes_transformer(data, labels, mean_area)\n",
    "    \n",
    "    if type_X_data == 'roi':\n",
    "        X = roi_transformer(data, labels, mean_area)\n",
    "\n",
    "    if type_Y_data == 'edge':\n",
    "        Y = edge_convert(data.connectome)\n",
    "\n",
    "    if type_Y_data == 'node':\n",
    "        Y = node_convert(data.connectome)\n",
    "    flag = False\n",
    "    if '.pkl' in type_Y_data:\n",
    "        with open(type_Y_data, 'rb') as f:\n",
    "            Y = pickle.load(f)\n",
    "        flag = True\n",
    "    print(Y.shape)\n",
    "        \n",
    "    \n",
    "    params = {'n_components': [1, 2, 3, 5, 10, 20, 50, 90, 120], \n",
    "              'max_iter': [500, 1000, 2000]\n",
    "              'y': type_Y_data,\n",
    "              'name': type_X_data  + '_' + morphometry + '_' + type_Y_data}\n",
    "    \n",
    "    PLSReg_loop(X, y, params, number_rnd)\n",
    "    print('finished')"
   ]
  },
  {
   "cell_type": "code",
   "execution_count": 3,
   "metadata": {
    "collapsed": true
   },
   "outputs": [],
   "source": [
    "a = np.random.rand(789)"
   ]
  },
  {
   "cell_type": "code",
   "execution_count": 4,
   "metadata": {
    "collapsed": true
   },
   "outputs": [],
   "source": [
    "with open('global.pkl', 'wb') as f:\n",
    "    pickle.dump(a, f)"
   ]
  },
  {
   "cell_type": "code",
   "execution_count": null,
   "metadata": {
    "collapsed": true
   },
   "outputs": [],
   "source": []
  }
 ],
 "metadata": {
  "kernelspec": {
   "display_name": "Python 3",
   "language": "python",
   "name": "python3"
  },
  "language_info": {
   "codemirror_mode": {
    "name": "ipython",
    "version": 3
   },
   "file_extension": ".py",
   "mimetype": "text/x-python",
   "name": "python",
   "nbconvert_exporter": "python",
   "pygments_lexer": "ipython3",
   "version": "3.6.3"
  }
 },
 "nbformat": 4,
 "nbformat_minor": 2
}

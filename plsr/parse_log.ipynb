{
 "cells": [
  {
   "cell_type": "code",
   "execution_count": 1,
   "metadata": {
    "collapsed": true
   },
   "outputs": [],
   "source": [
    "import pandas as pd\n",
    "import numpy as np\n",
    "import os\n",
    "import sys"
   ]
  },
  {
   "cell_type": "code",
   "execution_count": 2,
   "metadata": {
    "collapsed": true
   },
   "outputs": [],
   "source": [
    "file = '/home/ayagoz/cluster-utils/logs/ayagoz.2018-feb28-13-20.log'"
   ]
  },
  {
   "cell_type": "code",
   "execution_count": 26,
   "metadata": {
    "collapsed": true
   },
   "outputs": [],
   "source": [
    "R2_test = []\n",
    "with open(file, 'rb') as f:\n",
    "    i = 0\n",
    "    for line in f:\n",
    "        loc_line = str(line.strip())\n",
    "        if i > 10:\n",
    "            loc_list = loc_line.split(' ')\n",
    "            if loc_list[0] == \"b'MEAN\":\n",
    "                R2_test += [float(loc_list[-1][1:-2])]\n",
    "        i+=1"
   ]
  },
  {
   "cell_type": "code",
   "execution_count": 29,
   "metadata": {
    "collapsed": true
   },
   "outputs": [],
   "source": [
    "R2_test = np.array(R2_test)"
   ]
  },
  {
   "cell_type": "code",
   "execution_count": 42,
   "metadata": {},
   "outputs": [
    {
     "name": "stdout",
     "output_type": "stream",
     "text": [
      "ttest \n",
      "H_0=0. 8.51169552079696e-104, \n",
      "H_0=0.05 4.577541092293125e-77, \n",
      "H_0=0.101 0.009371424906377355, \n",
      "H_0=mean 1.0\n"
     ]
    }
   ],
   "source": [
    "from scipy.stats import ttest_1samp\n",
    "t1=ttest_1samp(R2_test.reshape(-1), 0.)[1]\n",
    "t2=ttest_1samp(R2_test.reshape(-1), 0.05)[1]\n",
    "t3=ttest_1samp(R2_test.reshape(-1), 0.104)[1]\n",
    "t4=ttest_1samp(R2_test.reshape(-1), R2_test.mean())[1]\n",
    "\n",
    "print('ttest \\nH_0=0. {}, \\nH_0=0.05 {}, \\nH_0=0.101 {}, \\nH_0=mean {}'.format(t1,t2,t3,t4))"
   ]
  },
  {
   "cell_type": "code",
   "execution_count": 40,
   "metadata": {},
   "outputs": [
    {
     "data": {
      "text/plain": [
       "(0.10666250267147345, 0.0099968158548573195)"
      ]
     },
     "execution_count": 40,
     "metadata": {},
     "output_type": "execute_result"
    }
   ],
   "source": [
    "R2_test.mean(), R2_test.std()"
   ]
  },
  {
   "cell_type": "code",
   "execution_count": null,
   "metadata": {
    "collapsed": true
   },
   "outputs": [],
   "source": []
  },
  {
   "cell_type": "code",
   "execution_count": null,
   "metadata": {
    "collapsed": true
   },
   "outputs": [],
   "source": []
  }
 ],
 "metadata": {
  "kernelspec": {
   "display_name": "Python 3",
   "language": "python",
   "name": "python3"
  },
  "language_info": {
   "codemirror_mode": {
    "name": "ipython",
    "version": 3
   },
   "file_extension": ".py",
   "mimetype": "text/x-python",
   "name": "python",
   "nbconvert_exporter": "python",
   "pygments_lexer": "ipython3",
   "version": "3.6.3"
  }
 },
 "nbformat": 4,
 "nbformat_minor": 2
}
